{
 "cells": [
  {
   "cell_type": "code",
   "execution_count": 1,
   "metadata": {},
   "outputs": [],
   "source": [
    "from sklearn.feature_extraction.text import CountVectorizer\n",
    "\n",
    "vectorizer = CountVectorizer(min_df = 1)"
   ]
  },
  {
   "cell_type": "code",
   "execution_count": 2,
   "metadata": {},
   "outputs": [],
   "source": [
    "contents = ['상처받은 아이들은 너무 일찍 커버려',\n",
    "            '내가 상처받은 거 아는 사람 불편해',\n",
    "            '잘 사는 사람들은 좋은 사람 되기 쉬워',\n",
    "            '아무 일도 아니야 괜찮아']"
   ]
  },
  {
   "cell_type": "code",
   "execution_count": 3,
   "metadata": {},
   "outputs": [
    {
     "name": "stderr",
     "output_type": "stream",
     "text": [
      "/home/kjj37/venv/nltk/lib/python3.10/site-packages/konlpy/tag/_okt.py:17: UserWarning: \"Twitter\" has changed to \"Okt\" since KoNLPy v0.4.5.\n",
      "  warn('\"Twitter\" has changed to \"Okt\" since KoNLPy v0.4.5.')\n"
     ]
    }
   ],
   "source": [
    "from konlpy.tag import Twitter\n",
    "t = Twitter()"
   ]
  },
  {
   "cell_type": "code",
   "execution_count": 4,
   "metadata": {},
   "outputs": [
    {
     "data": {
      "text/plain": [
       "[['상처', '받은', '아이', '들', '은', '너무', '일찍', '커버', '려'],\n",
       " ['내', '가', '상처', '받은', '거', '아는', '사람', '불편해'],\n",
       " ['잘', '사는', '사람', '들', '은', '좋은', '사람', '되기', '쉬워'],\n",
       " ['아무', '일도', '아니야', '괜찮아']]"
      ]
     },
     "execution_count": 4,
     "metadata": {},
     "output_type": "execute_result"
    }
   ],
   "source": [
    "contents_tokens = [t.morphs(row) for row in contents]\n",
    "contents_tokens"
   ]
  },
  {
   "cell_type": "code",
   "execution_count": 5,
   "metadata": {},
   "outputs": [
    {
     "data": {
      "text/plain": [
       "[' 상처 받은 아이 들 은 너무 일찍 커버 려',\n",
       " ' 내 가 상처 받은 거 아는 사람 불편해',\n",
       " ' 잘 사는 사람 들 은 좋은 사람 되기 쉬워',\n",
       " ' 아무 일도 아니야 괜찮아']"
      ]
     },
     "execution_count": 5,
     "metadata": {},
     "output_type": "execute_result"
    }
   ],
   "source": [
    "contents_for_vectorize = []\n",
    "\n",
    "for content in contents_tokens:\n",
    "    sentence = '' \n",
    "    for word in content:\n",
    "        sentence = sentence + ' ' + word \n",
    "    \n",
    "    contents_for_vectorize.append(sentence)\n",
    "\n",
    "contents_for_vectorize"
   ]
  },
  {
   "cell_type": "code",
   "execution_count": 6,
   "metadata": {},
   "outputs": [
    {
     "data": {
      "text/plain": [
       "<Compressed Sparse Row sparse matrix of dtype 'int64'\n",
       "\twith 20 stored elements and shape (4, 17)>"
      ]
     },
     "execution_count": 6,
     "metadata": {},
     "output_type": "execute_result"
    }
   ],
   "source": [
    "X = vectorizer.fit_transform(contents_for_vectorize)\n",
    "X"
   ]
  },
  {
   "cell_type": "code",
   "execution_count": 7,
   "metadata": {},
   "outputs": [
    {
     "data": {
      "text/plain": [
       "(4, 17)"
      ]
     },
     "execution_count": 7,
     "metadata": {},
     "output_type": "execute_result"
    }
   ],
   "source": [
    "num_samples, num_features = X.shape\n",
    "num_samples, num_features"
   ]
  },
  {
   "cell_type": "code",
   "execution_count": 8,
   "metadata": {},
   "outputs": [
    {
     "data": {
      "text/plain": [
       "array(['괜찮아', '너무', '되기', '받은', '불편해', '사는', '사람', '상처', '쉬워', '아는',\n",
       "       '아니야', '아무', '아이', '일도', '일찍', '좋은', '커버'], dtype=object)"
      ]
     },
     "execution_count": 8,
     "metadata": {},
     "output_type": "execute_result"
    }
   ],
   "source": [
    "vectorizer.get_feature_names_out()"
   ]
  },
  {
   "cell_type": "code",
   "execution_count": 9,
   "metadata": {},
   "outputs": [
    {
     "data": {
      "text/plain": [
       "array([[0, 0, 0, 1],\n",
       "       [1, 0, 0, 0],\n",
       "       [0, 0, 1, 0],\n",
       "       [1, 1, 0, 0],\n",
       "       [0, 1, 0, 0],\n",
       "       [0, 0, 1, 0],\n",
       "       [0, 1, 2, 0],\n",
       "       [1, 1, 0, 0],\n",
       "       [0, 0, 1, 0],\n",
       "       [0, 1, 0, 0],\n",
       "       [0, 0, 0, 1],\n",
       "       [0, 0, 0, 1],\n",
       "       [1, 0, 0, 0],\n",
       "       [0, 0, 0, 1],\n",
       "       [1, 0, 0, 0],\n",
       "       [0, 0, 1, 0],\n",
       "       [1, 0, 0, 0]])"
      ]
     },
     "execution_count": 9,
     "metadata": {},
     "output_type": "execute_result"
    }
   ],
   "source": [
    "X.toarray().transpose()"
   ]
  },
  {
   "cell_type": "code",
   "execution_count": 10,
   "metadata": {},
   "outputs": [
    {
     "data": {
      "text/plain": [
       "[' 상처 받기 싫어 괜찮아']"
      ]
     },
     "execution_count": 10,
     "metadata": {},
     "output_type": "execute_result"
    }
   ],
   "source": [
    "new_post = ['상처받기 싫어 괜찮아']\n",
    "new_post_tokens = [t.morphs(row) for row in new_post]\n",
    "\n",
    "new_post_for_vectorize = []\n",
    "\n",
    "for content in new_post_tokens:\n",
    "    sentence = '' \n",
    "    for word in content:\n",
    "        sentence = sentence + ' ' + word\n",
    "    \n",
    "    new_post_for_vectorize.append(sentence)\n",
    "\n",
    "new_post_for_vectorize"
   ]
  },
  {
   "cell_type": "code",
   "execution_count": 11,
   "metadata": {},
   "outputs": [
    {
     "data": {
      "text/plain": [
       "array([[1, 0, 0, 0, 0, 0, 0, 1, 0, 0, 0, 0, 0, 0, 0, 0, 0]])"
      ]
     },
     "execution_count": 11,
     "metadata": {},
     "output_type": "execute_result"
    }
   ],
   "source": [
    "new_post_vec = vectorizer.transform(new_post_for_vectorize)\n",
    "new_post_vec.toarray()"
   ]
  },
  {
   "cell_type": "code",
   "execution_count": 12,
   "metadata": {},
   "outputs": [],
   "source": [
    "import scipy as sp \n",
    "\n",
    "def dist_raw(v1, v2):\n",
    "    delta = v1 - v2 \n",
    "    return sp.linalg.norm(delta.toarray())"
   ]
  },
  {
   "cell_type": "code",
   "execution_count": 13,
   "metadata": {},
   "outputs": [
    {
     "data": {
      "text/plain": [
       "[np.float64(2.449489742783178),\n",
       " np.float64(2.23606797749979),\n",
       " np.float64(3.1622776601683795),\n",
       " np.float64(2.0)]"
      ]
     },
     "execution_count": 13,
     "metadata": {},
     "output_type": "execute_result"
    }
   ],
   "source": [
    "dist = [dist_raw(each, new_post_vec) for each in X]\n",
    "dist"
   ]
  },
  {
   "cell_type": "code",
   "execution_count": 14,
   "metadata": {},
   "outputs": [
    {
     "name": "stdout",
     "output_type": "stream",
     "text": [
      "Best post is  3 , dist =  2.0\n",
      "test post is -->  ['상처받기 싫어 괜찮아']\n",
      "best dist post is -->  괜찮아\n"
     ]
    }
   ],
   "source": [
    "print(\"Best post is \", dist.index(min(dist)), \", dist = \", min(dist))\n",
    "print(\"test post is --> \", new_post)\n",
    "print(\"best dist post is --> \", content[dist.index(min(dist))])"
   ]
  },
  {
   "cell_type": "code",
   "execution_count": 15,
   "metadata": {},
   "outputs": [
    {
     "name": "stdout",
     "output_type": "stream",
     "text": [
      "[[0 1 0 1 0 0 0 1 0 0 0 0 1 0 1 0 1]]\n",
      "[[0 0 0 1 1 0 1 1 0 1 0 0 0 0 0 0 0]]\n",
      "[[0 0 1 0 0 1 2 0 1 0 0 0 0 0 0 1 0]]\n",
      "[[1 0 0 0 0 0 0 0 0 0 1 1 0 1 0 0 0]]\n",
      "---------------\n",
      "[[1 0 0 0 0 0 0 1 0 0 0 0 0 0 0 0 0]]\n"
     ]
    }
   ],
   "source": [
    "for i in range(0, len(contents)):\n",
    "    print(X.getrow(i).toarray())\n",
    "\n",
    "print('---------------')\n",
    "print(new_post_vec.toarray())"
   ]
  },
  {
   "cell_type": "code",
   "execution_count": 16,
   "metadata": {},
   "outputs": [],
   "source": [
    "from sklearn.feature_extraction.text import TfidfVectorizer\n",
    "\n",
    "vectorizer = TfidfVectorizer(min_df=1, decode_error='ignore')\n"
   ]
  },
  {
   "cell_type": "code",
   "execution_count": 17,
   "metadata": {},
   "outputs": [
    {
     "data": {
      "text/plain": [
       "(4, 17)"
      ]
     },
     "execution_count": 17,
     "metadata": {},
     "output_type": "execute_result"
    }
   ],
   "source": [
    "X = vectorizer.fit_transform(contents_for_vectorize)\n",
    "num_samples, num_features = X.shape\n",
    "num_samples, num_features"
   ]
  },
  {
   "cell_type": "code",
   "execution_count": 18,
   "metadata": {},
   "outputs": [
    {
     "data": {
      "text/plain": [
       "array([[0.        , 0.        , 0.        , 0.5       ],\n",
       "       [0.43671931, 0.        , 0.        , 0.        ],\n",
       "       [0.        , 0.        , 0.39264414, 0.        ],\n",
       "       [0.34431452, 0.40104275, 0.        , 0.        ],\n",
       "       [0.        , 0.50867187, 0.        , 0.        ],\n",
       "       [0.        , 0.        , 0.39264414, 0.        ],\n",
       "       [0.        , 0.40104275, 0.6191303 , 0.        ],\n",
       "       [0.34431452, 0.40104275, 0.        , 0.        ],\n",
       "       [0.        , 0.        , 0.39264414, 0.        ],\n",
       "       [0.        , 0.50867187, 0.        , 0.        ],\n",
       "       [0.        , 0.        , 0.        , 0.5       ],\n",
       "       [0.        , 0.        , 0.        , 0.5       ],\n",
       "       [0.43671931, 0.        , 0.        , 0.        ],\n",
       "       [0.        , 0.        , 0.        , 0.5       ],\n",
       "       [0.43671931, 0.        , 0.        , 0.        ],\n",
       "       [0.        , 0.        , 0.39264414, 0.        ],\n",
       "       [0.43671931, 0.        , 0.        , 0.        ]])"
      ]
     },
     "execution_count": 18,
     "metadata": {},
     "output_type": "execute_result"
    }
   ],
   "source": [
    "X.toarray().transpose()"
   ]
  },
  {
   "cell_type": "code",
   "execution_count": 19,
   "metadata": {},
   "outputs": [
    {
     "data": {
      "text/plain": [
       "array([[0.78528828, 0.        , 0.        , 0.        , 0.        ,\n",
       "        0.        , 0.        , 0.6191303 , 0.        , 0.        ,\n",
       "        0.        , 0.        , 0.        , 0.        , 0.        ,\n",
       "        0.        , 0.        ]])"
      ]
     },
     "execution_count": 19,
     "metadata": {},
     "output_type": "execute_result"
    }
   ],
   "source": [
    "new_post_vec = vectorizer.transform(new_post_for_vectorize)\n",
    "new_post_vec.toarray()"
   ]
  },
  {
   "cell_type": "code",
   "execution_count": 20,
   "metadata": {},
   "outputs": [],
   "source": [
    "def dist_norm(v1, v2):\n",
    "    v1_normalized = v1 / sp.linalg.norm(v1.toarray())\n",
    "    v2_normalized = v2 / sp.linalg.norm(v2.toarray())\n",
    "\n",
    "    delta = v1_normalized - v2_normalized\n",
    "\n",
    "    return sp.linalg.norm(delta.toarray())"
   ]
  },
  {
   "cell_type": "code",
   "execution_count": 21,
   "metadata": {},
   "outputs": [
    {
     "name": "stdout",
     "output_type": "stream",
     "text": [
      "Best post is  3 , dist =  1.1021396119773588\n",
      "test post is -->  ['상처받기 싫어 괜찮아']\n",
      "best dist post is -->  아무 일도 아니야 괜찮아\n"
     ]
    }
   ],
   "source": [
    "dist = [dist_norm(each, new_post_vec) for each in X]\n",
    "\n",
    "print(\"Best post is \", dist.index(min(dist)), \", dist = \", min(dist))\n",
    "print(\"test post is --> \", new_post)\n",
    "print(\"best dist post is --> \", contents[dist.index(min(dist))])\n"
   ]
  },
  {
   "cell_type": "code",
   "execution_count": 23,
   "metadata": {},
   "outputs": [],
   "source": [
    "import urllib.request\n",
    "import json \n",
    "import datetime "
   ]
  },
  {
   "cell_type": "code",
   "execution_count": 31,
   "metadata": {},
   "outputs": [],
   "source": [
    "def gen_search_url(api_node, search_text, start_num, disp_num):\n",
    "    base = \"https://openapi.naver.com/v1/search\"\n",
    "    node = '/' + api_node + '.json'\n",
    "    param_query = \"?query=\" + urllib.parse.quote(search_text)\n",
    "    param_start = \"&start=\" + str(start_num)\n",
    "    param_disp = \"&display=\" + str(disp_num)\n",
    "\n",
    "    return base + node + param_query + param_start + param_disp"
   ]
  },
  {
   "cell_type": "code",
   "execution_count": 32,
   "metadata": {},
   "outputs": [],
   "source": [
    "def get_result_onpage(url):\n",
    "    request = urllib.request.Request(url)\n",
    "    request.add_header(\"X-Naver-Client-Id\", client_id)\n",
    "    request.add_header(\"X-Naver-Client-Secret\", client_secret)\n",
    "\n",
    "    response = urllib.request.urlopen(request)\n",
    "\n",
    "    print(\"[%s] Url Request Success\" % datetime.datetime.now())\n",
    "\n",
    "    return json.loads(response.read().decode('utf-8'))"
   ]
  },
  {
   "cell_type": "code",
   "execution_count": 35,
   "metadata": {},
   "outputs": [],
   "source": [
    "client_id = \"Ny9Zb5PCQIw3nBGmZq_x\"\n",
    "client_secret = \"SBt_8d16mL\""
   ]
  },
  {
   "cell_type": "code",
   "execution_count": 36,
   "metadata": {},
   "outputs": [
    {
     "name": "stdout",
     "output_type": "stream",
     "text": [
      "[2024-11-21 10:54:22.367960] Url Request Success\n"
     ]
    },
    {
     "data": {
      "text/plain": [
       "{'lastBuildDate': 'Thu, 21 Nov 2024 10:54:22 +0900',\n",
       " 'total': 313397,\n",
       " 'start': 10,\n",
       " 'display': 10,\n",
       " 'items': [{'title': '아두이노 코딩언어 <b>파이썬</b> 씨플플중',\n",
       "   'link': 'https://kin.naver.com/qna/detail.naver?d1id=1&dirId=10405&docId=476905301&qb=7YyM7J207I2s&enc=utf8&section=kin.qna&rank=10&search_sort=0&spq=0',\n",
       "   'description': '... c/c++중 어느게 더 우선적이고 <b>파이썬</b>도 배우는게 나을지... <b>파이썬</b>은.. &quot;전통적인 아두이노 스튜디오 기반... RP2040에 마이크로<b>파이썬</b>을 얹으면 어지간한 건 날로 먹을 수... 마이크로<b>파이썬</b>을 쓸 때가 많고요 (개발에 걸리는 시간이... '},\n",
       "  {'title': '<b>파이썬</b>에서 = &gt; 표시의 의미',\n",
       "   'link': 'https://kin.naver.com/qna/detail.naver?d1id=1&dirId=10402&docId=476945232&qb=7YyM7J207I2s&enc=utf8&section=kin.qna&rank=11&search_sort=0&spq=0',\n",
       "   'description': '<b>파이썬</b> 왕초보 입니다. <b>파이썬</b> 코딩할 때 =&gt; 표시의 의미는 무엇입니까? a = 5, b = 10 이라 했을 때, &gt;= 왼쪽 값이 오른쪽 값보다 크거나 같으면 (a &gt;= b) → false 비교연산자로 사용됩니다'},\n",
       "  {'title': '<b>파이썬</b> 원그리기',\n",
       "   'link': 'https://kin.naver.com/qna/detail.naver?d1id=1&dirId=10402&docId=477725545&qb=7YyM7J207I2s&enc=utf8&section=kin.qna&rank=12&search_sort=0&spq=0',\n",
       "   'description': 't.circle(300,62) 처럼 <b>파이썬</b>에서 저렇게 circle 뒤에 순서쌍으로 표현된건 뭘 의미하는건가요? 함수 호출 시 함수명 뒤에 오는 (A, B)와 같은 형태에서 A와 B는 함수의 인자(arguments)입니다. 함수는 보통 특정 작업을 수행할 때... '},\n",
       "  {'title': '<b>파이썬</b> c언어',\n",
       "   'link': 'https://kin.naver.com/qna/detail.naver?d1id=1&dirId=1040101&docId=475943347&qb=7YyM7J207I2s&enc=utf8&section=kin.qna&rank=13&search_sort=0&spq=0',\n",
       "   'description': '... 이걸 불러 오잖아요 근데 <b>파이썬</b>은 그런 게 없잖아요 왜 그런가요?... <b>파이썬</b>에서는 모듈, 또는 라이브러리라고 부릅니다. 다른 언어에서도... <b>파이썬</b>은 쉬운 사용을 목표로 하기 때문에 한상 늘 포함될만한, stdio 에 해당하는... '},\n",
       "  {'title': '<b>파이썬</b>개발자 준비해보려고 하는데요',\n",
       "   'link': 'https://kin.naver.com/qna/detail.naver?d1id=11&dirId=110503&docId=476534825&qb=7YyM7J207I2s&enc=utf8&section=kin.qna&rank=14&search_sort=0&spq=0',\n",
       "   'description': '<b>파이썬</b>개발자 준비해보려고 하는데요 요즘 <b>파이썬</b>개발자도 많이 준비하는 추세인가요? 그리고 제가 자바는 다룰 수... 혹시 <b>파이썬</b>과 자바 둘다 다룰 수 있는 강의가 있는지 궁금합니다 주변에는 백엔드 개발자분들이 많은데 <b>파이썬</b> 자바... '},\n",
       "  {'title': '<b>파이썬</b> 공부를 하고 있어요',\n",
       "   'link': 'https://kin.naver.com/qna/detail.naver?d1id=1&dirId=10402&docId=472552049&qb=7YyM7J207I2s&enc=utf8&section=kin.qna&rank=15&search_sort=0&spq=0',\n",
       "   'description': '... 조금더 <b>파이썬</b>을 집중해서 배워야할지... 아님 다른 것들도 같이... 그냥 <b>파이썬</b> 정도만 배워가도 문제가 없을까요? 데이터 관련 작업을 주로... <b>파이썬</b> 공부 관련으로 궁금하신 사항 있으시다면 아래 오픈채팅으로 문의... '},\n",
       "  {'title': '파이참으로 <b>파이썬</b>과제',\n",
       "   'link': 'https://kin.naver.com/qna/detail.naver?d1id=1&dirId=10402&docId=398828991&qb=7YyM7J207I2s&enc=utf8&section=kin.qna&rank=16&search_sort=0&spq=0',\n",
       "   'description': '... <b>파이썬</b>이 무슨 차이인가요? 그리고 파이참이랑 아나콘다 설치되있으면 <b>파이썬</b> 필요없나요? 그리고 <b>파이썬</b> 과제를... 달아드려볼게요~ - <b>파이썬</b>은 프로그래밍 언어이고 - 파이참은 <b>파이썬</b> 언어를 사용해서 코딩할 수 있는 에디터 같은... '},\n",
       "  {'title': '<b>파이썬</b> 판다스 주피터노트북?',\n",
       "   'link': 'https://kin.naver.com/qna/detail.naver?d1id=1&dirId=10402&docId=473252425&qb=7YyM7J207I2s&enc=utf8&section=kin.qna&rank=17&search_sort=0&spq=0',\n",
       "   'description': '엑셀을 많이 사용하는 업무라 <b>파이썬</b>을 배워보려고... 네이버나 유툽 정보에 판다스도보이고..<b>파이썬</b>깔아뒀는... (<b>파이썬</b> 판다스 등등) 주피터노트북은 코딩프로그램 실행하기위한 웹서버?라고 보면될듯하고.... <b>파이썬</b>만... '},\n",
       "  {'title': '<b>파이썬</b> 랭체인 설정 문의',\n",
       "   'link': 'https://kin.naver.com/qna/detail.naver?d1id=1&dirId=10402&docId=478129400&qb=7YyM7J207I2s&enc=utf8&section=kin.qna&rank=18&search_sort=0&spq=0',\n",
       "   'description': '... <b>파이썬</b> 버전이 3.7.10 버전입니다. 해당 라이브러리를 사용하려고 하는데 Import Error가... <b>파이썬</b> 버전 때문인건지 랭체인은 설치가 되어 있거든요. from langchain.chains import RetrievalQA... '},\n",
       "  {'title': '<b>파이썬</b>독학할 때 어떻게 공부를 해야하나요',\n",
       "   'link': 'https://kin.naver.com/qna/detail.naver?d1id=1&dirId=10406&docId=470741052&qb=7YyM7J207I2s&enc=utf8&section=kin.qna&rank=19&search_sort=0&spq=0',\n",
       "   'description': '<b>파이썬</b>독학으로 공부하려고 합니다 <b>파이썬</b>이 다른 언어에 비해 쉽다고는 하는데 저처럼 비전공자에 코딩 공부를... 처음하는데 <b>파이썬</b>독학으로 시작하려면 어떻게 공부를 하면 좋을까요? <b>파이썬</b>독학 해보신분들 있으시면 자세하게... '}]}"
      ]
     },
     "execution_count": 36,
     "metadata": {},
     "output_type": "execute_result"
    }
   ],
   "source": [
    "url = gen_search_url('kin', '파이썬', 10, 10)\n",
    "one_result = get_result_onpage(url)\n",
    "one_result"
   ]
  },
  {
   "cell_type": "code",
   "execution_count": 37,
   "metadata": {},
   "outputs": [
    {
     "data": {
      "text/plain": [
       "'... c/c++중 어느게 더 우선적이고 <b>파이썬</b>도 배우는게 나을지... <b>파이썬</b>은.. &quot;전통적인 아두이노 스튜디오 기반... RP2040에 마이크로<b>파이썬</b>을 얹으면 어지간한 건 날로 먹을 수... 마이크로<b>파이썬</b>을 쓸 때가 많고요 (개발에 걸리는 시간이... '"
      ]
     },
     "execution_count": 37,
     "metadata": {},
     "output_type": "execute_result"
    }
   ],
   "source": [
    "one_result['items'][0]['description']"
   ]
  },
  {
   "cell_type": "code",
   "execution_count": 42,
   "metadata": {},
   "outputs": [],
   "source": [
    "def delete_tag(input_str):\n",
    "    input_str = input_str.replace(\"<b>\", \"\")\n",
    "    input_str = input_str.replace(\"</b>\", \"\")\n",
    "\n",
    "    return input_str"
   ]
  },
  {
   "cell_type": "code",
   "execution_count": 43,
   "metadata": {},
   "outputs": [],
   "source": [
    "def get_description(pages):\n",
    "    contents = []\n",
    "    for snetences in pages['items']:\n",
    "        contents.append(delete_tag(snetences['description']))\n",
    "\n",
    "    return contents\n"
   ]
  },
  {
   "cell_type": "code",
   "execution_count": 44,
   "metadata": {},
   "outputs": [
    {
     "data": {
      "text/plain": [
       "['... c/c++중 어느게 더 우선적이고 파이썬도 배우는게 나을지... 파이썬은.. &quot;전통적인 아두이노 스튜디오 기반... RP2040에 마이크로파이썬을 얹으면 어지간한 건 날로 먹을 수... 마이크로파이썬을 쓸 때가 많고요 (개발에 걸리는 시간이... ',\n",
       " '파이썬 왕초보 입니다. 파이썬 코딩할 때 =&gt; 표시의 의미는 무엇입니까? a = 5, b = 10 이라 했을 때, &gt;= 왼쪽 값이 오른쪽 값보다 크거나 같으면 (a &gt;= b) → false 비교연산자로 사용됩니다',\n",
       " 't.circle(300,62) 처럼 파이썬에서 저렇게 circle 뒤에 순서쌍으로 표현된건 뭘 의미하는건가요? 함수 호출 시 함수명 뒤에 오는 (A, B)와 같은 형태에서 A와 B는 함수의 인자(arguments)입니다. 함수는 보통 특정 작업을 수행할 때... ',\n",
       " '... 이걸 불러 오잖아요 근데 파이썬은 그런 게 없잖아요 왜 그런가요?... 파이썬에서는 모듈, 또는 라이브러리라고 부릅니다. 다른 언어에서도... 파이썬은 쉬운 사용을 목표로 하기 때문에 한상 늘 포함될만한, stdio 에 해당하는... ',\n",
       " '파이썬개발자 준비해보려고 하는데요 요즘 파이썬개발자도 많이 준비하는 추세인가요? 그리고 제가 자바는 다룰 수... 혹시 파이썬과 자바 둘다 다룰 수 있는 강의가 있는지 궁금합니다 주변에는 백엔드 개발자분들이 많은데 파이썬 자바... ',\n",
       " '... 조금더 파이썬을 집중해서 배워야할지... 아님 다른 것들도 같이... 그냥 파이썬 정도만 배워가도 문제가 없을까요? 데이터 관련 작업을 주로... 파이썬 공부 관련으로 궁금하신 사항 있으시다면 아래 오픈채팅으로 문의... ',\n",
       " '... 파이썬이 무슨 차이인가요? 그리고 파이참이랑 아나콘다 설치되있으면 파이썬 필요없나요? 그리고 파이썬 과제를... 달아드려볼게요~ - 파이썬은 프로그래밍 언어이고 - 파이참은 파이썬 언어를 사용해서 코딩할 수 있는 에디터 같은... ',\n",
       " '엑셀을 많이 사용하는 업무라 파이썬을 배워보려고... 네이버나 유툽 정보에 판다스도보이고..파이썬깔아뒀는... (파이썬 판다스 등등) 주피터노트북은 코딩프로그램 실행하기위한 웹서버?라고 보면될듯하고.... 파이썬만... ',\n",
       " '... 파이썬 버전이 3.7.10 버전입니다. 해당 라이브러리를 사용하려고 하는데 Import Error가... 파이썬 버전 때문인건지 랭체인은 설치가 되어 있거든요. from langchain.chains import RetrievalQA... ',\n",
       " '파이썬독학으로 공부하려고 합니다 파이썬이 다른 언어에 비해 쉽다고는 하는데 저처럼 비전공자에 코딩 공부를... 처음하는데 파이썬독학으로 시작하려면 어떻게 공부를 하면 좋을까요? 파이썬독학 해보신분들 있으시면 자세하게... ']"
      ]
     },
     "execution_count": 44,
     "metadata": {},
     "output_type": "execute_result"
    }
   ],
   "source": [
    "contents = get_description(one_result)\n",
    "contents"
   ]
  },
  {
   "cell_type": "code",
   "execution_count": 46,
   "metadata": {},
   "outputs": [],
   "source": [
    "from sklearn.feature_extraction.text import CountVectorizer\n",
    "from konlpy.tag import Okt\n",
    "\n",
    "t = Okt()\n",
    "vectorizer = CountVectorizer(min_df=1)"
   ]
  },
  {
   "cell_type": "code",
   "execution_count": 47,
   "metadata": {},
   "outputs": [
    {
     "data": {
      "text/plain": [
       "[['...',\n",
       "  'c',\n",
       "  '/',\n",
       "  'c',\n",
       "  '++',\n",
       "  '중',\n",
       "  '어느',\n",
       "  '게',\n",
       "  '더',\n",
       "  '우선',\n",
       "  '적',\n",
       "  '이고',\n",
       "  '파이썬',\n",
       "  '도',\n",
       "  '배우는게',\n",
       "  '나을지',\n",
       "  '...',\n",
       "  '파이썬',\n",
       "  '은',\n",
       "  '..',\n",
       "  '&',\n",
       "  'quot',\n",
       "  ';',\n",
       "  '전통',\n",
       "  '적',\n",
       "  '인',\n",
       "  '아두이노',\n",
       "  '스튜디오',\n",
       "  '기반',\n",
       "  '...',\n",
       "  'RP',\n",
       "  '2040',\n",
       "  '에',\n",
       "  '마이크로',\n",
       "  '파이썬',\n",
       "  '을',\n",
       "  '얹으면',\n",
       "  '어지간한',\n",
       "  '건',\n",
       "  '날로',\n",
       "  '먹을',\n",
       "  '수',\n",
       "  '...',\n",
       "  '마이크로',\n",
       "  '파이썬',\n",
       "  '을',\n",
       "  '쓸',\n",
       "  '때',\n",
       "  '가',\n",
       "  '많고요',\n",
       "  '(',\n",
       "  '개발',\n",
       "  '에',\n",
       "  '걸리는',\n",
       "  '시간',\n",
       "  '이',\n",
       "  '...'],\n",
       " ['파이썬',\n",
       "  '왕초보',\n",
       "  '입니다',\n",
       "  '.',\n",
       "  '파이썬',\n",
       "  '코딩',\n",
       "  '할',\n",
       "  '때',\n",
       "  '=&',\n",
       "  'gt',\n",
       "  ';',\n",
       "  '표시',\n",
       "  '의',\n",
       "  '의미',\n",
       "  '는',\n",
       "  '무엇',\n",
       "  '입',\n",
       "  '니까',\n",
       "  '?',\n",
       "  'a',\n",
       "  '=',\n",
       "  '5',\n",
       "  ',',\n",
       "  'b',\n",
       "  '=',\n",
       "  '10',\n",
       "  '이라',\n",
       "  '했을',\n",
       "  '때',\n",
       "  ',',\n",
       "  '&',\n",
       "  'gt',\n",
       "  ';=',\n",
       "  '왼쪽',\n",
       "  '값',\n",
       "  '이',\n",
       "  '오른쪽',\n",
       "  '값',\n",
       "  '보다',\n",
       "  '크거나',\n",
       "  '같으면',\n",
       "  '(',\n",
       "  'a',\n",
       "  '&',\n",
       "  'gt',\n",
       "  ';=',\n",
       "  'b',\n",
       "  ')',\n",
       "  '→',\n",
       "  'false',\n",
       "  '비교',\n",
       "  '연산자',\n",
       "  '로',\n",
       "  '사용',\n",
       "  '됩니다'],\n",
       " ['t.circle',\n",
       "  '(',\n",
       "  '300',\n",
       "  ',',\n",
       "  '62',\n",
       "  ')',\n",
       "  '처럼',\n",
       "  '파이썬',\n",
       "  '에서',\n",
       "  '저렇게',\n",
       "  'circle',\n",
       "  '뒤',\n",
       "  '에',\n",
       "  '순서쌍',\n",
       "  '으로',\n",
       "  '표현',\n",
       "  '된건',\n",
       "  '뭘',\n",
       "  '의미',\n",
       "  '하는건',\n",
       "  '가요',\n",
       "  '?',\n",
       "  '함수',\n",
       "  '호출',\n",
       "  '시',\n",
       "  '함수',\n",
       "  '명',\n",
       "  '뒤',\n",
       "  '에',\n",
       "  '오는',\n",
       "  '(',\n",
       "  'A',\n",
       "  ',',\n",
       "  'B',\n",
       "  ')',\n",
       "  '와',\n",
       "  '같은',\n",
       "  '형태',\n",
       "  '에서',\n",
       "  'A',\n",
       "  '와',\n",
       "  'B',\n",
       "  '는',\n",
       "  '함수',\n",
       "  '의',\n",
       "  '인자',\n",
       "  '(',\n",
       "  'arguments',\n",
       "  ')',\n",
       "  '입니다',\n",
       "  '.',\n",
       "  '함수',\n",
       "  '는',\n",
       "  '보통',\n",
       "  '특정',\n",
       "  '작업',\n",
       "  '을',\n",
       "  '수행',\n",
       "  '할',\n",
       "  '때',\n",
       "  '...'],\n",
       " ['...',\n",
       "  '이',\n",
       "  '걸',\n",
       "  '불러',\n",
       "  '오잖아요',\n",
       "  '근데',\n",
       "  '파이썬',\n",
       "  '은',\n",
       "  '그런',\n",
       "  '게',\n",
       "  '없잖아요',\n",
       "  '왜',\n",
       "  '그런',\n",
       "  '가요',\n",
       "  '?...',\n",
       "  '파이썬',\n",
       "  '에서는',\n",
       "  '모듈',\n",
       "  ',',\n",
       "  '또는',\n",
       "  '라이브러리',\n",
       "  '라고',\n",
       "  '부릅니다',\n",
       "  '.',\n",
       "  '다른',\n",
       "  '언어',\n",
       "  '에서도',\n",
       "  '...',\n",
       "  '파이썬',\n",
       "  '은',\n",
       "  '쉬운',\n",
       "  '사용',\n",
       "  '을',\n",
       "  '목표',\n",
       "  '로',\n",
       "  '하기',\n",
       "  '때문',\n",
       "  '에',\n",
       "  '한',\n",
       "  '상',\n",
       "  '늘',\n",
       "  '포함',\n",
       "  '될만',\n",
       "  '한',\n",
       "  ',',\n",
       "  'stdio',\n",
       "  '에',\n",
       "  '해당',\n",
       "  '하는',\n",
       "  '...'],\n",
       " ['파이썬',\n",
       "  '개발자',\n",
       "  '준비',\n",
       "  '해보려고',\n",
       "  '하는데요',\n",
       "  '요즘',\n",
       "  '파이썬',\n",
       "  '개발자',\n",
       "  '도',\n",
       "  '많이',\n",
       "  '준비',\n",
       "  '하는',\n",
       "  '추세',\n",
       "  '인가요',\n",
       "  '?',\n",
       "  '그리고',\n",
       "  '제',\n",
       "  '가',\n",
       "  '자바',\n",
       "  '는',\n",
       "  '다룰',\n",
       "  '수',\n",
       "  '...',\n",
       "  '혹시',\n",
       "  '파이썬',\n",
       "  '과',\n",
       "  '자바',\n",
       "  '둘다',\n",
       "  '다룰',\n",
       "  '수',\n",
       "  '있는',\n",
       "  '강의',\n",
       "  '가',\n",
       "  '있는지',\n",
       "  '궁금합니다',\n",
       "  '주변',\n",
       "  '에는',\n",
       "  '백엔드',\n",
       "  '개발자',\n",
       "  '분들',\n",
       "  '이',\n",
       "  '많은데',\n",
       "  '파이썬',\n",
       "  '자바',\n",
       "  '...'],\n",
       " ['...',\n",
       "  '조금',\n",
       "  '더',\n",
       "  '파이썬',\n",
       "  '을',\n",
       "  '집중',\n",
       "  '해서',\n",
       "  '배워',\n",
       "  '야할지',\n",
       "  '...',\n",
       "  '아님',\n",
       "  '다른',\n",
       "  '것',\n",
       "  '들',\n",
       "  '도',\n",
       "  '같이',\n",
       "  '...',\n",
       "  '그냥',\n",
       "  '파이썬',\n",
       "  '정도',\n",
       "  '만',\n",
       "  '배워가도',\n",
       "  '문제',\n",
       "  '가',\n",
       "  '없을까요',\n",
       "  '?',\n",
       "  '데이터',\n",
       "  '관련',\n",
       "  '작업',\n",
       "  '을',\n",
       "  '주로',\n",
       "  '...',\n",
       "  '파이썬',\n",
       "  '공부',\n",
       "  '관련',\n",
       "  '으로',\n",
       "  '궁금하신',\n",
       "  '사항',\n",
       "  '있으시다면',\n",
       "  '아래',\n",
       "  '오픈',\n",
       "  '채팅',\n",
       "  '으로',\n",
       "  '문의',\n",
       "  '...'],\n",
       " ['...',\n",
       "  '파이썬',\n",
       "  '이',\n",
       "  '무슨',\n",
       "  '차이',\n",
       "  '인가요',\n",
       "  '?',\n",
       "  '그리고',\n",
       "  '파이',\n",
       "  '참이랑',\n",
       "  '아나콘다',\n",
       "  '설치',\n",
       "  '되있으면',\n",
       "  '파이썬',\n",
       "  '필요없나요',\n",
       "  '?',\n",
       "  '그리고',\n",
       "  '파이썬',\n",
       "  '과제',\n",
       "  '를',\n",
       "  '...',\n",
       "  '달',\n",
       "  '아',\n",
       "  '드려',\n",
       "  '볼게요',\n",
       "  '~',\n",
       "  '-',\n",
       "  '파이썬',\n",
       "  '은',\n",
       "  '프로그래밍',\n",
       "  '언어',\n",
       "  '이고',\n",
       "  '-',\n",
       "  '파이',\n",
       "  '참은',\n",
       "  '파이썬',\n",
       "  '언어',\n",
       "  '를',\n",
       "  '사용',\n",
       "  '해서',\n",
       "  '코딩',\n",
       "  '할',\n",
       "  '수',\n",
       "  '있는',\n",
       "  '에디터',\n",
       "  '같은',\n",
       "  '...'],\n",
       " ['엑셀',\n",
       "  '을',\n",
       "  '많이',\n",
       "  '사용',\n",
       "  '하는',\n",
       "  '업무',\n",
       "  '라',\n",
       "  '파이썬',\n",
       "  '을',\n",
       "  '배워',\n",
       "  '보려고',\n",
       "  '...',\n",
       "  '네이버',\n",
       "  '나',\n",
       "  '유툽',\n",
       "  '정보',\n",
       "  '에',\n",
       "  '판',\n",
       "  '다스',\n",
       "  '도보',\n",
       "  '이고',\n",
       "  '..',\n",
       "  '파이썬',\n",
       "  '깔아',\n",
       "  '뒀는',\n",
       "  '...',\n",
       "  '(',\n",
       "  '파이썬',\n",
       "  '판',\n",
       "  '다스',\n",
       "  '등등',\n",
       "  ')',\n",
       "  '주피터',\n",
       "  '노트북',\n",
       "  '은',\n",
       "  '코딩',\n",
       "  '프로그램',\n",
       "  '실행',\n",
       "  '하기',\n",
       "  '위',\n",
       "  '한',\n",
       "  '웹서버',\n",
       "  '?',\n",
       "  '라고',\n",
       "  '보면',\n",
       "  '될듯',\n",
       "  '하고',\n",
       "  '....',\n",
       "  '파이썬',\n",
       "  '만',\n",
       "  '...'],\n",
       " ['...',\n",
       "  '파이썬',\n",
       "  '버전',\n",
       "  '이',\n",
       "  '3.7',\n",
       "  '.',\n",
       "  '10',\n",
       "  '버전',\n",
       "  '입니다',\n",
       "  '.',\n",
       "  '해당',\n",
       "  '라이브러리',\n",
       "  '를',\n",
       "  '사용',\n",
       "  '하려고',\n",
       "  '하는데',\n",
       "  'Import',\n",
       "  'Error',\n",
       "  '가',\n",
       "  '...',\n",
       "  '파이썬',\n",
       "  '버전',\n",
       "  '때문',\n",
       "  '인',\n",
       "  '건지',\n",
       "  '랭체인',\n",
       "  '은',\n",
       "  '설치',\n",
       "  '가',\n",
       "  '되어',\n",
       "  '있거든요',\n",
       "  '.',\n",
       "  'from',\n",
       "  'langchain',\n",
       "  '.',\n",
       "  'chains',\n",
       "  'import',\n",
       "  'RetrievalQA',\n",
       "  '...'],\n",
       " ['파이썬',\n",
       "  '독학',\n",
       "  '으로',\n",
       "  '공부',\n",
       "  '하려고',\n",
       "  '합니다',\n",
       "  '파이썬',\n",
       "  '이',\n",
       "  '다른',\n",
       "  '언어',\n",
       "  '에',\n",
       "  '비해',\n",
       "  '쉽다고는',\n",
       "  '하는데',\n",
       "  '저',\n",
       "  '처럼',\n",
       "  '비',\n",
       "  '전공자',\n",
       "  '에',\n",
       "  '코딩',\n",
       "  '공부',\n",
       "  '를',\n",
       "  '...',\n",
       "  '처음',\n",
       "  '하는데',\n",
       "  '파이썬',\n",
       "  '독학',\n",
       "  '으로',\n",
       "  '시작',\n",
       "  '하려면',\n",
       "  '어떻게',\n",
       "  '공부',\n",
       "  '를',\n",
       "  '하면',\n",
       "  '좋을까요',\n",
       "  '?',\n",
       "  '파이썬',\n",
       "  '독학',\n",
       "  '해보',\n",
       "  '신분',\n",
       "  '들',\n",
       "  '있으시면',\n",
       "  '자세하게',\n",
       "  '...']]"
      ]
     },
     "execution_count": 47,
     "metadata": {},
     "output_type": "execute_result"
    }
   ],
   "source": [
    "contents_tokens = [t.morphs(row) for row in contents]\n",
    "contents_tokens"
   ]
  },
  {
   "cell_type": "code",
   "execution_count": 48,
   "metadata": {},
   "outputs": [
    {
     "data": {
      "text/plain": [
       "[' ... c / c ++ 중 어느 게 더 우선 적 이고 파이썬 도 배우는게 나을지 ... 파이썬 은 .. & quot ; 전통 적 인 아두이노 스튜디오 기반 ... RP 2040 에 마이크로 파이썬 을 얹으면 어지간한 건 날로 먹을 수 ... 마이크로 파이썬 을 쓸 때 가 많고요 ( 개발 에 걸리는 시간 이 ...',\n",
       " ' 파이썬 왕초보 입니다 . 파이썬 코딩 할 때 =& gt ; 표시 의 의미 는 무엇 입 니까 ? a = 5 , b = 10 이라 했을 때 , & gt ;= 왼쪽 값 이 오른쪽 값 보다 크거나 같으면 ( a & gt ;= b ) → false 비교 연산자 로 사용 됩니다',\n",
       " ' t.circle ( 300 , 62 ) 처럼 파이썬 에서 저렇게 circle 뒤 에 순서쌍 으로 표현 된건 뭘 의미 하는건 가요 ? 함수 호출 시 함수 명 뒤 에 오는 ( A , B ) 와 같은 형태 에서 A 와 B 는 함수 의 인자 ( arguments ) 입니다 . 함수 는 보통 특정 작업 을 수행 할 때 ...',\n",
       " ' ... 이 걸 불러 오잖아요 근데 파이썬 은 그런 게 없잖아요 왜 그런 가요 ?... 파이썬 에서는 모듈 , 또는 라이브러리 라고 부릅니다 . 다른 언어 에서도 ... 파이썬 은 쉬운 사용 을 목표 로 하기 때문 에 한 상 늘 포함 될만 한 , stdio 에 해당 하는 ...',\n",
       " ' 파이썬 개발자 준비 해보려고 하는데요 요즘 파이썬 개발자 도 많이 준비 하는 추세 인가요 ? 그리고 제 가 자바 는 다룰 수 ... 혹시 파이썬 과 자바 둘다 다룰 수 있는 강의 가 있는지 궁금합니다 주변 에는 백엔드 개발자 분들 이 많은데 파이썬 자바 ...',\n",
       " ' ... 조금 더 파이썬 을 집중 해서 배워 야할지 ... 아님 다른 것 들 도 같이 ... 그냥 파이썬 정도 만 배워가도 문제 가 없을까요 ? 데이터 관련 작업 을 주로 ... 파이썬 공부 관련 으로 궁금하신 사항 있으시다면 아래 오픈 채팅 으로 문의 ...',\n",
       " ' ... 파이썬 이 무슨 차이 인가요 ? 그리고 파이 참이랑 아나콘다 설치 되있으면 파이썬 필요없나요 ? 그리고 파이썬 과제 를 ... 달 아 드려 볼게요 ~ - 파이썬 은 프로그래밍 언어 이고 - 파이 참은 파이썬 언어 를 사용 해서 코딩 할 수 있는 에디터 같은 ...',\n",
       " ' 엑셀 을 많이 사용 하는 업무 라 파이썬 을 배워 보려고 ... 네이버 나 유툽 정보 에 판 다스 도보 이고 .. 파이썬 깔아 뒀는 ... ( 파이썬 판 다스 등등 ) 주피터 노트북 은 코딩 프로그램 실행 하기 위 한 웹서버 ? 라고 보면 될듯 하고 .... 파이썬 만 ...',\n",
       " ' ... 파이썬 버전 이 3.7 . 10 버전 입니다 . 해당 라이브러리 를 사용 하려고 하는데 Import Error 가 ... 파이썬 버전 때문 인 건지 랭체인 은 설치 가 되어 있거든요 . from langchain . chains import RetrievalQA ...',\n",
       " ' 파이썬 독학 으로 공부 하려고 합니다 파이썬 이 다른 언어 에 비해 쉽다고는 하는데 저 처럼 비 전공자 에 코딩 공부 를 ... 처음 하는데 파이썬 독학 으로 시작 하려면 어떻게 공부 를 하면 좋을까요 ? 파이썬 독학 해보 신분 들 있으시면 자세하게 ...']"
      ]
     },
     "execution_count": 48,
     "metadata": {},
     "output_type": "execute_result"
    }
   ],
   "source": [
    "contents_for_vectorize = []\n",
    "\n",
    "for content in contents_tokens:\n",
    "    sentence = '' \n",
    "    for word in content:\n",
    "        sentence = sentence + ' ' + word\n",
    "\n",
    "    contents_for_vectorize.append(sentence)\n",
    "\n",
    "contents_for_vectorize"
   ]
  },
  {
   "cell_type": "code",
   "execution_count": 49,
   "metadata": {},
   "outputs": [
    {
     "data": {
      "text/plain": [
       "<Compressed Sparse Row sparse matrix of dtype 'int64'\n",
       "\twith 244 stored elements and shape (10, 195)>"
      ]
     },
     "execution_count": 49,
     "metadata": {},
     "output_type": "execute_result"
    }
   ],
   "source": [
    "X = vectorizer.fit_transform(contents_for_vectorize)\n",
    "X"
   ]
  },
  {
   "cell_type": "code",
   "execution_count": 51,
   "metadata": {},
   "outputs": [
    {
     "data": {
      "text/plain": [
       "(10, 195)"
      ]
     },
     "execution_count": 51,
     "metadata": {},
     "output_type": "execute_result"
    }
   ],
   "source": [
    "num_samples, num_features = X.shape\n",
    "num_samples, num_features"
   ]
  },
  {
   "cell_type": "code",
   "execution_count": 52,
   "metadata": {},
   "outputs": [
    {
     "data": {
      "text/plain": [
       "array(['10', '2040', '300', '62', 'arguments', 'chains', 'circle',\n",
       "       'error', 'false', 'from', 'gt', 'import', 'langchain', 'quot',\n",
       "       'retrievalqa', 'rp', 'stdio', '가요', '강의', '같으면', '같은', '같이', '개발',\n",
       "       '개발자', '건지', '걸리는', '공부', '과제', '관련', '궁금하신', '궁금합니다', '그냥', '그런',\n",
       "       '그리고', '근데', '기반', '깔아', '나을지', '날로', '네이버', '노트북', '니까', '다룰',\n",
       "       '다른', '다스', '데이터', '도보', '독학', '되어', '되있으면', '된건', '될듯', '될만',\n",
       "       '됩니다', '둘다', '뒀는', '드려', '등등', '때문', '또는', '라고', '라이브러리', '랭체인',\n",
       "       '마이크로', '많고요', '많은데', '많이', '먹을', '모듈', '목표', '무슨', '무엇', '문의',\n",
       "       '문제', '배우는게', '배워', '배워가도', '백엔드', '버전', '보다', '보려고', '보면', '보통',\n",
       "       '볼게요', '부릅니다', '분들', '불러', '비교', '비해', '사용', '사항', '설치', '수행',\n",
       "       '순서쌍', '쉬운', '쉽다고는', '스튜디오', '시간', '시작', '신분', '실행', '아나콘다', '아님',\n",
       "       '아두이노', '아래', '야할지', '어느', '어떻게', '어지간한', '언어', '얹으면', '업무',\n",
       "       '없을까요', '없잖아요', '에는', '에디터', '에서', '에서는', '에서도', '엑셀', '연산자', '오는',\n",
       "       '오른쪽', '오잖아요', '오픈', '왕초보', '왼쪽', '요즘', '우선', '웹서버', '유툽', '으로',\n",
       "       '의미', '이고', '이라', '인가요', '인자', '입니다', '있거든요', '있는', '있는지', '있으시다면',\n",
       "       '있으시면', '자바', '자세하게', '작업', '저렇게', '전공자', '전통', '정도', '정보', '조금',\n",
       "       '좋을까요', '주로', '주변', '주피터', '준비', '집중', '차이', '참은', '참이랑', '채팅',\n",
       "       '처럼', '처음', '추세', '코딩', '크거나', '특정', '파이', '파이썬', '포함', '표시', '표현',\n",
       "       '프로그래밍', '프로그램', '필요없나요', '하고', '하기', '하는', '하는건', '하는데', '하는데요',\n",
       "       '하려고', '하려면', '하면', '함수', '합니다', '해당', '해보', '해보려고', '해서', '했을',\n",
       "       '형태', '호출', '혹시'], dtype=object)"
      ]
     },
     "execution_count": 52,
     "metadata": {},
     "output_type": "execute_result"
    }
   ],
   "source": [
    "vectorizer.get_feature_names_out()"
   ]
  },
  {
   "cell_type": "code",
   "execution_count": 53,
   "metadata": {},
   "outputs": [
    {
     "data": {
      "text/plain": [
       "[' 파이썬 을 배우는데 좋은 방법 이 어떤 것 인지 추천 해주세요']"
      ]
     },
     "execution_count": 53,
     "metadata": {},
     "output_type": "execute_result"
    }
   ],
   "source": [
    "new_post = ['파이썬을 배우는데 좋은 방법이 어떤 것인지 추천해주세요']\n",
    "new_post_tokens = [t.morphs(row) for row in new_post]\n",
    "\n",
    "new_post_for_vectorize = []\n",
    "\n",
    "for content in new_post_tokens:\n",
    "    sentence = '' \n",
    "    for word in content:\n",
    "        sentence = sentence + \" \" + word\n",
    "    new_post_for_vectorize.append(sentence)\n",
    "\n",
    "new_post_for_vectorize"
   ]
  },
  {
   "cell_type": "code",
   "execution_count": 54,
   "metadata": {},
   "outputs": [
    {
     "data": {
      "text/plain": [
       "array([[0, 0, 0, 0, 0, 0, 0, 0, 0, 0, 0, 0, 0, 0, 0, 0, 0, 0, 0, 0, 0, 0,\n",
       "        0, 0, 0, 0, 0, 0, 0, 0, 0, 0, 0, 0, 0, 0, 0, 0, 0, 0, 0, 0, 0, 0,\n",
       "        0, 0, 0, 0, 0, 0, 0, 0, 0, 0, 0, 0, 0, 0, 0, 0, 0, 0, 0, 0, 0, 0,\n",
       "        0, 0, 0, 0, 0, 0, 0, 0, 0, 0, 0, 0, 0, 0, 0, 0, 0, 0, 0, 0, 0, 0,\n",
       "        0, 0, 0, 0, 0, 0, 0, 0, 0, 0, 0, 0, 0, 0, 0, 0, 0, 0, 0, 0, 0, 0,\n",
       "        0, 0, 0, 0, 0, 0, 0, 0, 0, 0, 0, 0, 0, 0, 0, 0, 0, 0, 0, 0, 0, 0,\n",
       "        0, 0, 0, 0, 0, 0, 0, 0, 0, 0, 0, 0, 0, 0, 0, 0, 0, 0, 0, 0, 0, 0,\n",
       "        0, 0, 0, 0, 0, 0, 0, 0, 0, 0, 0, 0, 0, 0, 0, 1, 0, 0, 0, 0, 0, 0,\n",
       "        0, 0, 0, 0, 0, 0, 0, 0, 0, 0, 0, 0, 0, 0, 0, 0, 0, 0, 0]])"
      ]
     },
     "execution_count": 54,
     "metadata": {},
     "output_type": "execute_result"
    }
   ],
   "source": [
    "new_post_vec = vectorizer.transform(new_post_for_vectorize)\n",
    "new_post_vec.toarray()"
   ]
  },
  {
   "cell_type": "code",
   "execution_count": 55,
   "metadata": {},
   "outputs": [],
   "source": [
    "import scipy as sp \n",
    "\n",
    "def dist_raw(v1, v2):\n",
    "    delta = v1 - v2\n",
    "    return sp.linalg.norm(delta.toarray())"
   ]
  },
  {
   "cell_type": "code",
   "execution_count": 56,
   "metadata": {},
   "outputs": [
    {
     "data": {
      "text/plain": [
       "[np.float64(5.744562646538029),\n",
       " np.float64(5.477225575051661),\n",
       " np.float64(6.782329983125268),\n",
       " np.float64(5.656854249492381),\n",
       " np.float64(7.3484692283495345),\n",
       " np.float64(6.0),\n",
       " np.float64(6.928203230275509),\n",
       " np.float64(6.244997998398398),\n",
       " np.float64(5.656854249492381),\n",
       " np.float64(7.3484692283495345)]"
      ]
     },
     "execution_count": 56,
     "metadata": {},
     "output_type": "execute_result"
    }
   ],
   "source": [
    "dist = [dist_raw(each, new_post_vec) for each in X]\n",
    "dist"
   ]
  },
  {
   "cell_type": "code",
   "execution_count": 57,
   "metadata": {},
   "outputs": [
    {
     "name": "stdout",
     "output_type": "stream",
     "text": [
      "Best post is  1 , dist =  5.477225575051661\n",
      "test post is -->  ['파이썬을 배우는데 좋은 방법이 어떤 것인지 추천해주세요']\n",
      "best dist post is -->  파이썬 왕초보 입니다. 파이썬 코딩할 때 =&gt; 표시의 의미는 무엇입니까? a = 5, b = 10 이라 했을 때, &gt;= 왼쪽 값이 오른쪽 값보다 크거나 같으면 (a &gt;= b) → false 비교연산자로 사용됩니다\n"
     ]
    }
   ],
   "source": [
    "print(\"Best post is \", dist.index(min(dist)), \", dist = \", min(dist))\n",
    "print(\"test post is --> \", new_post)\n",
    "print(\"best dist post is --> \", contents[dist.index(min(dist))])"
   ]
  },
  {
   "cell_type": "code",
   "execution_count": 58,
   "metadata": {},
   "outputs": [],
   "source": [
    "def dist_norm(v1, v2):\n",
    "    v1_normalized = v1 / sp.linalg.norm(v1.toarray())\n",
    "    v2_normalized = v2 / sp.linalg.norm(v2.toarray())\n",
    "\n",
    "    delta = v1_normalized - v2_normalized\n",
    "\n",
    "    return sp.linalg.norm(delta.toarray())"
   ]
  },
  {
   "cell_type": "code",
   "execution_count": 59,
   "metadata": {},
   "outputs": [
    {
     "name": "stdout",
     "output_type": "stream",
     "text": [
      "Best post is  6 , dist =  0.8218683854090972\n",
      "test post is -->  ['파이썬을 배우는데 좋은 방법이 어떤 것인지 추천해주세요']\n",
      "best dist post is -->  ... 파이썬이 무슨 차이인가요? 그리고 파이참이랑 아나콘다 설치되있으면 파이썬 필요없나요? 그리고 파이썬 과제를... 달아드려볼게요~ - 파이썬은 프로그래밍 언어이고 - 파이참은 파이썬 언어를 사용해서 코딩할 수 있는 에디터 같은... \n"
     ]
    }
   ],
   "source": [
    "dist = [dist_norm(each, new_post_vec) for each in X]\n",
    "\n",
    "print(\"Best post is \", dist.index(min(dist)), \", dist = \", min(dist))\n",
    "print(\"test post is --> \", new_post)\n",
    "print(\"best dist post is --> \", contents[dist.index(min(dist))])"
   ]
  },
  {
   "cell_type": "code",
   "execution_count": null,
   "metadata": {},
   "outputs": [],
   "source": [
    "def tfidf(t, d, D):\n",
    "    tf = float(d.count(t)) / sum(d.count(w) for w in set(d))\n",
    "    idf = sp.log(float(len(D)) / (len([doc for doc in D if t in doc])))\n",
    "    return tf * idf"
   ]
  },
  {
   "cell_type": "code",
   "execution_count": 61,
   "metadata": {},
   "outputs": [
    {
     "data": {
      "text/plain": [
       "array([[0, 0, 0, 0, 0, 0, 0, 0, 0, 0, 0, 0, 0, 0, 0, 0, 0, 0, 0, 0, 0, 0,\n",
       "        0, 0, 0, 0, 0, 0, 0, 0, 0, 0, 0, 0, 0, 0, 0, 0, 0, 0, 0, 0, 0, 0,\n",
       "        0, 0, 0, 0, 0, 0, 0, 0, 0, 0, 0, 0, 0, 0, 0, 0, 0, 0, 0, 0, 0, 0,\n",
       "        0, 0, 0, 0, 0, 0, 0, 0, 0, 0, 0, 0, 0, 0, 0, 0, 0, 0, 0, 0, 0, 0,\n",
       "        0, 0, 0, 0, 0, 0, 0, 0, 0, 0, 0, 0, 0, 0, 0, 0, 0, 0, 0, 0, 0, 0,\n",
       "        0, 0, 0, 0, 0, 0, 0, 0, 0, 0, 0, 0, 0, 0, 0, 0, 0, 0, 0, 0, 0, 0,\n",
       "        0, 0, 0, 0, 0, 0, 0, 0, 0, 0, 0, 0, 0, 0, 0, 0, 0, 0, 0, 0, 0, 0,\n",
       "        0, 0, 0, 0, 0, 0, 0, 0, 0, 0, 0, 0, 0, 0, 0, 1, 0, 0, 0, 0, 0, 0,\n",
       "        0, 0, 0, 0, 0, 0, 0, 0, 0, 0, 0, 0, 0, 0, 0, 0, 0, 0, 0]])"
      ]
     },
     "execution_count": 61,
     "metadata": {},
     "output_type": "execute_result"
    }
   ],
   "source": [
    "new_post_vec = vectorizer.transform(new_post_for_vectorize)\n",
    "new_post_vec.toarray()"
   ]
  },
  {
   "cell_type": "code",
   "execution_count": 62,
   "metadata": {},
   "outputs": [
    {
     "name": "stdout",
     "output_type": "stream",
     "text": [
      "Best post is  6 , dist =  0.8218683854090972\n",
      "test post is -->  ['파이썬을 배우는데 좋은 방법이 어떤 것인지 추천해주세요']\n",
      "best dist post is -->  ... 파이썬이 무슨 차이인가요? 그리고 파이참이랑 아나콘다 설치되있으면 파이썬 필요없나요? 그리고 파이썬 과제를... 달아드려볼게요~ - 파이썬은 프로그래밍 언어이고 - 파이참은 파이썬 언어를 사용해서 코딩할 수 있는 에디터 같은... \n"
     ]
    }
   ],
   "source": [
    "dist = [dist_norm(each, new_post_vec) for each in X]\n",
    "\n",
    "print(\"Best post is \", dist.index(min(dist)), \", dist = \", min(dist))\n",
    "print(\"test post is --> \", new_post)\n",
    "print(\"best dist post is --> \", contents[dist.index(min(dist))])"
   ]
  },
  {
   "cell_type": "code",
   "execution_count": null,
   "metadata": {},
   "outputs": [],
   "source": []
  }
 ],
 "metadata": {
  "kernelspec": {
   "display_name": "nltk",
   "language": "python",
   "name": "python3"
  },
  "language_info": {
   "codemirror_mode": {
    "name": "ipython",
    "version": 3
   },
   "file_extension": ".py",
   "mimetype": "text/x-python",
   "name": "python",
   "nbconvert_exporter": "python",
   "pygments_lexer": "ipython3",
   "version": "3.10.12"
  }
 },
 "nbformat": 4,
 "nbformat_minor": 2
}
