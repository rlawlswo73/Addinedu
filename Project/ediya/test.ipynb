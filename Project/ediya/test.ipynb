{
 "cells": [
  {
   "cell_type": "code",
   "execution_count": null,
   "metadata": {},
   "outputs": [],
   "source": [
    "import requests\n",
    "\n",
    "def get_coordinates(address, client_id, client_secret):\n",
    "    url = \"https://naveropenapi.apigw.ntruss.com/map-geocode/v2/geocode\"\n",
    "    headers = {\n",
    "        \"X-NCP-APIGW-API-KEY-ID\": client_id,\n",
    "        \"X-NCP-APIGW-API-KEY\": client_secret\n",
    "    }\n",
    "    params = {\"query\": address}\n",
    "    response = requests.get(url, headers=headers, params=params)\n",
    "    \n",
    "    if response.status_code == 200:\n",
    "        data = response.json()\n",
    "        if data['addresses']:\n",
    "            latitude = float(data['addresses'][0]['y'])\n",
    "            longitude = float(data['addresses'][0]['x'])\n",
    "            return f\"{latitude:.2f},{longitude:.2f}\"\n",
    "        else:\n",
    "            return \"0.00,0.00\"\n",
    "    else:\n",
    "        print(f\"오류 발생 - 상태 코드: {response.status_code}, 응답: {response.text}\")\n",
    "        return \"0.00,0.00\"\n",
    "\n",
    "def process_addresses(input_file, output_file, client_id, client_secret):\n",
    "    with open(input_file, 'r', encoding='utf-8') as file:\n",
    "        addresses = file.readlines()\n",
    "\n",
    "    with open(output_file, 'w', encoding='utf-8') as file:\n",
    "        for address in addresses:\n",
    "            address = address.strip()\n",
    "            if address:\n",
    "                coordinates = get_coordinates(address, client_id, client_secret)\n",
    "                file.write(f\"{address}: {coordinates}\\n\")\n",
    "\n",
    "# 사용 예시\n",
    "client_id = \"당신의ID\"\n",
    "client_secret = \"당신의secret\"\n",
    "process_addresses('input.txt', 'output.txt', client_id, client_secret)"
   ]
  }
 ],
 "metadata": {
  "language_info": {
   "name": "python"
  }
 },
 "nbformat": 4,
 "nbformat_minor": 2
}
