{
 "cells": [
  {
   "cell_type": "code",
   "execution_count": 148,
   "metadata": {},
   "outputs": [],
   "source": [
    "from selenium import webdriver\n",
    "from selenium.webdriver.chrome.service import Service\n",
    "from selenium.webdriver.chrome.options import Options\n",
    "\n",
    "from selenium.webdriver.common.action_chains import ActionChains\n",
    "from selenium.webdriver.common.by import By\n",
    "from selenium.webdriver.common.keys import Keys\n",
    "\n",
    "from selenium.webdriver.support.wait import WebDriverWait\n",
    "from selenium.webdriver.support import expected_conditions as EC\n",
    "from selenium.webdriver.support.ui import Select\n",
    "\n",
    "import mysql.connector\n",
    "import pandas as pd\n",
    "from datetime import datetime"
   ]
  },
  {
   "cell_type": "code",
   "execution_count": 154,
   "metadata": {},
   "outputs": [
    {
     "name": "stderr",
     "output_type": "stream",
     "text": [
      "/home/naon/dev_ws/eda_repo/.venv/lib/python3.10/site-packages/openpyxl/styles/stylesheet.py:237: UserWarning: Workbook contains no default style, apply openpyxl's default\n",
      "  warn(\"Workbook contains no default style, apply openpyxl's default\")\n"
     ]
    }
   ],
   "source": [
    "# CVS 파일 읽기\n",
    "df = pd.read_excel(\"../data/가계신용_용도별.xlsx\")\n",
    "\n",
    "df= df.transpose()\n",
    "df.reset_index(inplace=True)\n",
    "df = df.drop([0, 1, 3, 4, 5], axis=1)\n",
    "\n",
    "# 결측값 처리\n",
    "df.loc[df[2]=='-'] = None\n",
    "df = df.dropna(axis=0)\n",
    "df = df.drop(df.index[0])\n",
    "\n",
    "df_mortgage_loan = df.reset_index(drop=True)\n",
    "df_mortgage_loan.columns = ['date', 'mortgage_loan']"
   ]
  },
  {
   "cell_type": "code",
   "execution_count": 163,
   "metadata": {},
   "outputs": [
    {
     "name": "stdout",
     "output_type": "stream",
     "text": [
      "         date  mortgage_loan\n",
      "0  2007-10-01       343798.9\n",
      "1  2008-01-01       346945.6\n",
      "2  2008-04-01       355012.2\n",
      "3  2008-07-01       362499.8\n",
      "4  2008-10-01       369163.3\n",
      "..        ...            ...\n",
      "62 2023-04-01      1031829.9\n",
      "63 2023-07-01      1049091.6\n",
      "64 2023-10-01      1064339.1\n",
      "65 2024-01-01      1076697.3\n",
      "66 2024-04-01      1092722.5\n",
      "\n",
      "[67 rows x 2 columns]\n"
     ]
    }
   ],
   "source": [
    "# 분기를 월로 매핑하는 딕셔너리\n",
    "quarter_to_month = {\n",
    "    '1': '01',  # 1/4분기 -> 1월\n",
    "    '2': '04',  # 2/4분기 -> 4월\n",
    "    '3': '07',  # 3/4분기 -> 7월\n",
    "    '4': '10'   # 4/4분기 -> 10월\n",
    "}\n",
    "\n",
    "# 연도와 분기 추출 및 변환\n",
    "def convert_quarter_to_date(row):\n",
    "    year, quarter = row.split('.')  # '2007.4/4'에서 연도와 분기 구분\n",
    "    quarter = quarter.split('/')[0]  # '4/4'에서 '4' 추출\n",
    "    month = quarter_to_month[quarter]  # 분기에 따라 월 매핑\n",
    "    return f\"{year}-{month}-01\"  # 'YYYY-MM-01' 형식으로 변환\n",
    "\n",
    "# 형식 변환\n",
    "df_mortgage_loan['date'] = df_mortgage_loan['date'].apply(convert_quarter_to_date)\n",
    "df_mortgage_loan['mortgage_loan'] = df_mortgage_loan['mortgage_loan'].astype(float)\n",
    "\n",
    "# 데이터 타입을 datetime으로 변환\n",
    "df_mortgage_loan['date'] = pd.to_datetime(df_mortgage_loan['date'])\n",
    "\n",
    "# 데이터프레임을 엑셀 파일로 저장\n",
    "df_mortgage_loan.to_excel(\"../data/mortgage_loan.xlsx\", index=False, engine='openpyxl')\n",
    "print(df_mortgage_loan)"
   ]
  },
  {
   "cell_type": "code",
   "execution_count": 165,
   "metadata": {},
   "outputs": [],
   "source": [
    "import mysql.connector\n",
    "\n",
    "conn = mysql.connector.connect(\n",
    "    host = \"eda-database.c3oek28e8yta.ap-northeast-2.rds.amazonaws.com\",\n",
    "    port = 3306,\n",
    "    user = \"whskdhs\",\n",
    "    password = \"whskdhs1234\",\n",
    "    database = \"workspace\"\n",
    ")\n",
    "\n",
    "cursor = conn.cursor(buffered=True)\n",
    "\n",
    "df = pd.read_excel('../data/mortgage_loan.xlsx')"
   ]
  },
  {
   "cell_type": "code",
   "execution_count": 166,
   "metadata": {},
   "outputs": [
    {
     "name": "stdout",
     "output_type": "stream",
     "text": [
      "<class 'pandas.core.frame.DataFrame'>\n",
      "RangeIndex: 67 entries, 0 to 66\n",
      "Data columns (total 2 columns):\n",
      " #   Column         Non-Null Count  Dtype         \n",
      "---  ------         --------------  -----         \n",
      " 0   date           67 non-null     datetime64[ns]\n",
      " 1   mortgage_loan  67 non-null     float64       \n",
      "dtypes: datetime64[ns](1), float64(1)\n",
      "memory usage: 1.2 KB\n"
     ]
    }
   ],
   "source": [
    "df.info()"
   ]
  },
  {
   "cell_type": "code",
   "execution_count": 167,
   "metadata": {},
   "outputs": [],
   "source": [
    "# 데이터베이스에 저장\n",
    "def insert_data_to_mortgage_loan(conn, cursor, df):\n",
    "    try:\n",
    "        for i, row, in df.iterrows():\n",
    "            sql_loan = \"INSERT INTO mortgage_loan VALUES (%s, %s)\"\n",
    "            values_loan = (row['date'], row['mortgage_loan'])\n",
    "            cursor.execute(sql_loan, values_loan)\n",
    "            print(f\"Inserted row {i+1} into article: {row['date']}\")\n",
    "            conn.commit()\n",
    "    \n",
    "    except mysql.connector.Error as error:\n",
    "        print(f\"Error inserting data: {error}\")"
   ]
  },
  {
   "cell_type": "code",
   "execution_count": 168,
   "metadata": {},
   "outputs": [
    {
     "name": "stdout",
     "output_type": "stream",
     "text": [
      "Inserted row 1 into article: 2007-10-01 00:00:00\n",
      "Inserted row 2 into article: 2008-01-01 00:00:00\n",
      "Inserted row 3 into article: 2008-04-01 00:00:00\n",
      "Inserted row 4 into article: 2008-07-01 00:00:00\n",
      "Inserted row 5 into article: 2008-10-01 00:00:00\n",
      "Inserted row 6 into article: 2009-01-01 00:00:00\n",
      "Inserted row 7 into article: 2009-04-01 00:00:00\n",
      "Inserted row 8 into article: 2009-07-01 00:00:00\n",
      "Inserted row 9 into article: 2009-10-01 00:00:00\n",
      "Inserted row 10 into article: 2010-01-01 00:00:00\n",
      "Inserted row 11 into article: 2010-04-01 00:00:00\n",
      "Inserted row 12 into article: 2010-07-01 00:00:00\n",
      "Inserted row 13 into article: 2010-10-01 00:00:00\n",
      "Inserted row 14 into article: 2011-01-01 00:00:00\n",
      "Inserted row 15 into article: 2011-04-01 00:00:00\n",
      "Inserted row 16 into article: 2011-07-01 00:00:00\n",
      "Inserted row 17 into article: 2011-10-01 00:00:00\n",
      "Inserted row 18 into article: 2012-01-01 00:00:00\n",
      "Inserted row 19 into article: 2012-04-01 00:00:00\n",
      "Inserted row 20 into article: 2012-07-01 00:00:00\n",
      "Inserted row 21 into article: 2012-10-01 00:00:00\n",
      "Inserted row 22 into article: 2013-01-01 00:00:00\n",
      "Inserted row 23 into article: 2013-04-01 00:00:00\n",
      "Inserted row 24 into article: 2013-07-01 00:00:00\n",
      "Inserted row 25 into article: 2013-10-01 00:00:00\n",
      "Inserted row 26 into article: 2014-01-01 00:00:00\n",
      "Inserted row 27 into article: 2014-04-01 00:00:00\n",
      "Inserted row 28 into article: 2014-07-01 00:00:00\n",
      "Inserted row 29 into article: 2014-10-01 00:00:00\n",
      "Inserted row 30 into article: 2015-01-01 00:00:00\n",
      "Inserted row 31 into article: 2015-04-01 00:00:00\n",
      "Inserted row 32 into article: 2015-07-01 00:00:00\n",
      "Inserted row 33 into article: 2015-10-01 00:00:00\n",
      "Inserted row 34 into article: 2016-01-01 00:00:00\n",
      "Inserted row 35 into article: 2016-04-01 00:00:00\n",
      "Inserted row 36 into article: 2016-07-01 00:00:00\n",
      "Inserted row 37 into article: 2016-10-01 00:00:00\n",
      "Inserted row 38 into article: 2017-01-01 00:00:00\n",
      "Inserted row 39 into article: 2017-04-01 00:00:00\n",
      "Inserted row 40 into article: 2017-07-01 00:00:00\n",
      "Inserted row 41 into article: 2017-10-01 00:00:00\n",
      "Inserted row 42 into article: 2018-01-01 00:00:00\n",
      "Inserted row 43 into article: 2018-04-01 00:00:00\n",
      "Inserted row 44 into article: 2018-07-01 00:00:00\n",
      "Inserted row 45 into article: 2018-10-01 00:00:00\n",
      "Inserted row 46 into article: 2019-01-01 00:00:00\n",
      "Inserted row 47 into article: 2019-04-01 00:00:00\n",
      "Inserted row 48 into article: 2019-07-01 00:00:00\n",
      "Inserted row 49 into article: 2019-10-01 00:00:00\n",
      "Inserted row 50 into article: 2020-01-01 00:00:00\n",
      "Inserted row 51 into article: 2020-04-01 00:00:00\n",
      "Inserted row 52 into article: 2020-07-01 00:00:00\n",
      "Inserted row 53 into article: 2020-10-01 00:00:00\n",
      "Inserted row 54 into article: 2021-01-01 00:00:00\n",
      "Inserted row 55 into article: 2021-04-01 00:00:00\n",
      "Inserted row 56 into article: 2021-07-01 00:00:00\n",
      "Inserted row 57 into article: 2021-10-01 00:00:00\n",
      "Inserted row 58 into article: 2022-01-01 00:00:00\n",
      "Inserted row 59 into article: 2022-04-01 00:00:00\n",
      "Inserted row 60 into article: 2022-07-01 00:00:00\n",
      "Inserted row 61 into article: 2022-10-01 00:00:00\n",
      "Inserted row 62 into article: 2023-01-01 00:00:00\n",
      "Inserted row 63 into article: 2023-04-01 00:00:00\n",
      "Inserted row 64 into article: 2023-07-01 00:00:00\n",
      "Inserted row 65 into article: 2023-10-01 00:00:00\n",
      "Inserted row 66 into article: 2024-01-01 00:00:00\n",
      "Inserted row 67 into article: 2024-04-01 00:00:00\n"
     ]
    }
   ],
   "source": [
    "insert_data_to_mortgage_loan(conn, cursor, df)"
   ]
  }
 ],
 "metadata": {
  "kernelspec": {
   "display_name": ".venv",
   "language": "python",
   "name": "python3"
  },
  "language_info": {
   "codemirror_mode": {
    "name": "ipython",
    "version": 3
   },
   "file_extension": ".py",
   "mimetype": "text/x-python",
   "name": "python",
   "nbconvert_exporter": "python",
   "pygments_lexer": "ipython3",
   "version": "3.10.12"
  }
 },
 "nbformat": 4,
 "nbformat_minor": 2
}
