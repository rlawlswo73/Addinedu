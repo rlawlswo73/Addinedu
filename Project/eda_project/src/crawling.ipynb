{
 "cells": [
  {
   "cell_type": "code",
   "execution_count": 10,
   "metadata": {},
   "outputs": [],
   "source": [
    "from selenium import webdriver\n",
    "from selenium.webdriver import ActionChains\n",
    "from selenium.webdriver.chrome.service import Service\n",
    "from selenium.webdriver.chrome.options import Options\n",
    "from selenium.webdriver.support import expected_conditions as EC\n",
    "from bs4 import BeautifulSoup\n",
    "import urllib\n",
    "from urllib.request import Request\n",
    "from urllib.request import urlopen\n",
    "\n",
    "from user_agent import generate_user_agent\n",
    "import time\n",
    "\n",
    "from selenium.webdriver.common.by import By\n",
    "from selenium.webdriver.common.keys import Keys\n",
    "\n",
    "import mysql.connector\n",
    "\n",
    "from user_agent import generate_user_agent\n",
    "import time\n",
    "\n",
    "import copy"
   ]
  },
  {
   "cell_type": "code",
   "execution_count": 11,
   "metadata": {},
   "outputs": [],
   "source": [
    "options = webdriver.ChromeOptions()\n",
    "\n",
    "prefs = {'download.default_directory':'/home/addinedu/dev_ws/EDA/eda_project/data',\n",
    "        'download.prompt_for_download':False}\n",
    "options.add_experimental_option('prefs', prefs)"
   ]
  },
  {
   "cell_type": "code",
   "execution_count": 3,
   "metadata": {},
   "outputs": [],
   "source": [
    "# options = webdriver.ChromeOptions()\n",
    "\n",
    "# prefs = {'download.default_directory':'/home/kjj37/dev_ws/EDA/eda_project/data',\n",
    "#         'download.prompt_for_download':False}\n",
    "# options.add_experimental_option('prefs', prefs)"
   ]
  },
  {
   "cell_type": "code",
   "execution_count": 4,
   "metadata": {},
   "outputs": [
    {
     "name": "stdout",
     "output_type": "stream",
     "text": [
      "<selenium.webdriver.remote.webelement.WebElement (session=\"2c12fe709bd50ebaefd6f0c7f2f4215d\", element=\"f.749FFBBFC57074A13BF33B40007F75C4.d.EB87A7AA294C6667F3F627D953DDE78B.e.10\")>\n",
      "[<selenium.webdriver.remote.webelement.WebElement (session=\"2c12fe709bd50ebaefd6f0c7f2f4215d\", element=\"f.749FFBBFC57074A13BF33B40007F75C4.d.EB87A7AA294C6667F3F627D953DDE78B.e.47\")>, <selenium.webdriver.remote.webelement.WebElement (session=\"2c12fe709bd50ebaefd6f0c7f2f4215d\", element=\"f.749FFBBFC57074A13BF33B40007F75C4.d.EB87A7AA294C6667F3F627D953DDE78B.e.48\")>, <selenium.webdriver.remote.webelement.WebElement (session=\"2c12fe709bd50ebaefd6f0c7f2f4215d\", element=\"f.749FFBBFC57074A13BF33B40007F75C4.d.EB87A7AA294C6667F3F627D953DDE78B.e.50\")>, <selenium.webdriver.remote.webelement.WebElement (session=\"2c12fe709bd50ebaefd6f0c7f2f4215d\", element=\"f.749FFBBFC57074A13BF33B40007F75C4.d.EB87A7AA294C6667F3F627D953DDE78B.e.51\")>, <selenium.webdriver.remote.webelement.WebElement (session=\"2c12fe709bd50ebaefd6f0c7f2f4215d\", element=\"f.749FFBBFC57074A13BF33B40007F75C4.d.EB87A7AA294C6667F3F627D953DDE78B.e.52\")>, <selenium.webdriver.remote.webelement.WebElement (session=\"2c12fe709bd50ebaefd6f0c7f2f4215d\", element=\"f.749FFBBFC57074A13BF33B40007F75C4.d.EB87A7AA294C6667F3F627D953DDE78B.e.53\")>, <selenium.webdriver.remote.webelement.WebElement (session=\"2c12fe709bd50ebaefd6f0c7f2f4215d\", element=\"f.749FFBBFC57074A13BF33B40007F75C4.d.EB87A7AA294C6667F3F627D953DDE78B.e.54\")>, <selenium.webdriver.remote.webelement.WebElement (session=\"2c12fe709bd50ebaefd6f0c7f2f4215d\", element=\"f.749FFBBFC57074A13BF33B40007F75C4.d.EB87A7AA294C6667F3F627D953DDE78B.e.55\")>, <selenium.webdriver.remote.webelement.WebElement (session=\"2c12fe709bd50ebaefd6f0c7f2f4215d\", element=\"f.749FFBBFC57074A13BF33B40007F75C4.d.EB87A7AA294C6667F3F627D953DDE78B.e.56\")>, <selenium.webdriver.remote.webelement.WebElement (session=\"2c12fe709bd50ebaefd6f0c7f2f4215d\", element=\"f.749FFBBFC57074A13BF33B40007F75C4.d.EB87A7AA294C6667F3F627D953DDE78B.e.57\")>, <selenium.webdriver.remote.webelement.WebElement (session=\"2c12fe709bd50ebaefd6f0c7f2f4215d\", element=\"f.749FFBBFC57074A13BF33B40007F75C4.d.EB87A7AA294C6667F3F627D953DDE78B.e.58\")>, <selenium.webdriver.remote.webelement.WebElement (session=\"2c12fe709bd50ebaefd6f0c7f2f4215d\", element=\"f.749FFBBFC57074A13BF33B40007F75C4.d.EB87A7AA294C6667F3F627D953DDE78B.e.59\")>, <selenium.webdriver.remote.webelement.WebElement (session=\"2c12fe709bd50ebaefd6f0c7f2f4215d\", element=\"f.749FFBBFC57074A13BF33B40007F75C4.d.EB87A7AA294C6667F3F627D953DDE78B.e.60\")>, <selenium.webdriver.remote.webelement.WebElement (session=\"2c12fe709bd50ebaefd6f0c7f2f4215d\", element=\"f.749FFBBFC57074A13BF33B40007F75C4.d.EB87A7AA294C6667F3F627D953DDE78B.e.61\")>, <selenium.webdriver.remote.webelement.WebElement (session=\"2c12fe709bd50ebaefd6f0c7f2f4215d\", element=\"f.749FFBBFC57074A13BF33B40007F75C4.d.EB87A7AA294C6667F3F627D953DDE78B.e.62\")>, <selenium.webdriver.remote.webelement.WebElement (session=\"2c12fe709bd50ebaefd6f0c7f2f4215d\", element=\"f.749FFBBFC57074A13BF33B40007F75C4.d.EB87A7AA294C6667F3F627D953DDE78B.e.63\")>, <selenium.webdriver.remote.webelement.WebElement (session=\"2c12fe709bd50ebaefd6f0c7f2f4215d\", element=\"f.749FFBBFC57074A13BF33B40007F75C4.d.EB87A7AA294C6667F3F627D953DDE78B.e.64\")>, <selenium.webdriver.remote.webelement.WebElement (session=\"2c12fe709bd50ebaefd6f0c7f2f4215d\", element=\"f.749FFBBFC57074A13BF33B40007F75C4.d.EB87A7AA294C6667F3F627D953DDE78B.e.65\")>, <selenium.webdriver.remote.webelement.WebElement (session=\"2c12fe709bd50ebaefd6f0c7f2f4215d\", element=\"f.749FFBBFC57074A13BF33B40007F75C4.d.EB87A7AA294C6667F3F627D953DDE78B.e.66\")>, <selenium.webdriver.remote.webelement.WebElement (session=\"2c12fe709bd50ebaefd6f0c7f2f4215d\", element=\"f.749FFBBFC57074A13BF33B40007F75C4.d.EB87A7AA294C6667F3F627D953DDE78B.e.67\")>, <selenium.webdriver.remote.webelement.WebElement (session=\"2c12fe709bd50ebaefd6f0c7f2f4215d\", element=\"f.749FFBBFC57074A13BF33B40007F75C4.d.EB87A7AA294C6667F3F627D953DDE78B.e.68\")>]\n"
     ]
    },
    {
     "ename": "WebDriverException",
     "evalue": "Message: target frame detached\n  (failed to check if window was closed: disconnected: Unable to receive message from renderer)\n  (Session info: chrome=129.0.6668.70)\nStacktrace:\n#0 0x5ccf2482581a <unknown>\n#1 0x5ccf244f3c91 <unknown>\n#2 0x5ccf244dbabd <unknown>\n#3 0x5ccf244d9b11 <unknown>\n#4 0x5ccf244da31f <unknown>\n#5 0x5ccf244e9e3b <unknown>\n#6 0x5ccf245005e5 <unknown>\n#7 0x5ccf2458677d <unknown>\n#8 0x5ccf24568233 <unknown>\n#9 0x5ccf24536093 <unknown>\n#10 0x5ccf2453709e <unknown>\n#11 0x5ccf247eca7b <unknown>\n#12 0x5ccf247f0a31 <unknown>\n#13 0x5ccf247d8645 <unknown>\n#14 0x5ccf247f15a2 <unknown>\n#15 0x5ccf247bd81f <unknown>\n#16 0x5ccf24814618 <unknown>\n#17 0x5ccf248147e2 <unknown>\n#18 0x5ccf2482460c <unknown>\n#19 0x7a95ad894ac3 <unknown>\n",
     "output_type": "error",
     "traceback": [
      "\u001b[0;31m---------------------------------------------------------------------------\u001b[0m",
      "\u001b[0;31mWebDriverException\u001b[0m                        Traceback (most recent call last)",
      "Cell \u001b[0;32mIn[4], line 19\u001b[0m\n\u001b[1;32m     17\u001b[0m driver\u001b[38;5;241m.\u001b[39mimplicitly_wait(\u001b[38;5;241m10\u001b[39m)\n\u001b[1;32m     18\u001b[0m \u001b[38;5;28;01mfor\u001b[39;00m idx, div \u001b[38;5;129;01min\u001b[39;00m \u001b[38;5;28menumerate\u001b[39m(chart_link):\n\u001b[0;32m---> 19\u001b[0m     temp \u001b[38;5;241m=\u001b[39m \u001b[38;5;28mstr\u001b[39m(\u001b[43mdiv\u001b[49m\u001b[38;5;241;43m.\u001b[39;49m\u001b[43mtext\u001b[49m)\n\u001b[1;32m     20\u001b[0m     \u001b[38;5;66;03m# print(temp)\u001b[39;00m\n\u001b[1;32m     21\u001b[0m     \u001b[38;5;28;01mif\u001b[39;00m temp\u001b[38;5;241m.\u001b[39mfind(\u001b[38;5;124m\"\u001b[39m\u001b[38;5;124m한미 정책금리\u001b[39m\u001b[38;5;124m\"\u001b[39m) \u001b[38;5;241m!=\u001b[39m \u001b[38;5;241m-\u001b[39m\u001b[38;5;241m1\u001b[39m:\n",
      "File \u001b[0;32m~/venv/eda_venv/lib/python3.10/site-packages/selenium/webdriver/remote/webelement.py:90\u001b[0m, in \u001b[0;36mWebElement.text\u001b[0;34m(self)\u001b[0m\n\u001b[1;32m     87\u001b[0m \u001b[38;5;129m@property\u001b[39m\n\u001b[1;32m     88\u001b[0m \u001b[38;5;28;01mdef\u001b[39;00m \u001b[38;5;21mtext\u001b[39m(\u001b[38;5;28mself\u001b[39m) \u001b[38;5;241m-\u001b[39m\u001b[38;5;241m>\u001b[39m \u001b[38;5;28mstr\u001b[39m:\n\u001b[1;32m     89\u001b[0m \u001b[38;5;250m    \u001b[39m\u001b[38;5;124;03m\"\"\"The text of the element.\"\"\"\u001b[39;00m\n\u001b[0;32m---> 90\u001b[0m     \u001b[38;5;28;01mreturn\u001b[39;00m \u001b[38;5;28;43mself\u001b[39;49m\u001b[38;5;241;43m.\u001b[39;49m\u001b[43m_execute\u001b[49m\u001b[43m(\u001b[49m\u001b[43mCommand\u001b[49m\u001b[38;5;241;43m.\u001b[39;49m\u001b[43mGET_ELEMENT_TEXT\u001b[49m\u001b[43m)\u001b[49m[\u001b[38;5;124m\"\u001b[39m\u001b[38;5;124mvalue\u001b[39m\u001b[38;5;124m\"\u001b[39m]\n",
      "File \u001b[0;32m~/venv/eda_venv/lib/python3.10/site-packages/selenium/webdriver/remote/webelement.py:395\u001b[0m, in \u001b[0;36mWebElement._execute\u001b[0;34m(self, command, params)\u001b[0m\n\u001b[1;32m    393\u001b[0m     params \u001b[38;5;241m=\u001b[39m {}\n\u001b[1;32m    394\u001b[0m params[\u001b[38;5;124m\"\u001b[39m\u001b[38;5;124mid\u001b[39m\u001b[38;5;124m\"\u001b[39m] \u001b[38;5;241m=\u001b[39m \u001b[38;5;28mself\u001b[39m\u001b[38;5;241m.\u001b[39m_id\n\u001b[0;32m--> 395\u001b[0m \u001b[38;5;28;01mreturn\u001b[39;00m \u001b[38;5;28;43mself\u001b[39;49m\u001b[38;5;241;43m.\u001b[39;49m\u001b[43m_parent\u001b[49m\u001b[38;5;241;43m.\u001b[39;49m\u001b[43mexecute\u001b[49m\u001b[43m(\u001b[49m\u001b[43mcommand\u001b[49m\u001b[43m,\u001b[49m\u001b[43m \u001b[49m\u001b[43mparams\u001b[49m\u001b[43m)\u001b[49m\n",
      "File \u001b[0;32m~/venv/eda_venv/lib/python3.10/site-packages/selenium/webdriver/remote/webdriver.py:354\u001b[0m, in \u001b[0;36mWebDriver.execute\u001b[0;34m(self, driver_command, params)\u001b[0m\n\u001b[1;32m    352\u001b[0m response \u001b[38;5;241m=\u001b[39m \u001b[38;5;28mself\u001b[39m\u001b[38;5;241m.\u001b[39mcommand_executor\u001b[38;5;241m.\u001b[39mexecute(driver_command, params)\n\u001b[1;32m    353\u001b[0m \u001b[38;5;28;01mif\u001b[39;00m response:\n\u001b[0;32m--> 354\u001b[0m     \u001b[38;5;28;43mself\u001b[39;49m\u001b[38;5;241;43m.\u001b[39;49m\u001b[43merror_handler\u001b[49m\u001b[38;5;241;43m.\u001b[39;49m\u001b[43mcheck_response\u001b[49m\u001b[43m(\u001b[49m\u001b[43mresponse\u001b[49m\u001b[43m)\u001b[49m\n\u001b[1;32m    355\u001b[0m     response[\u001b[38;5;124m\"\u001b[39m\u001b[38;5;124mvalue\u001b[39m\u001b[38;5;124m\"\u001b[39m] \u001b[38;5;241m=\u001b[39m \u001b[38;5;28mself\u001b[39m\u001b[38;5;241m.\u001b[39m_unwrap_value(response\u001b[38;5;241m.\u001b[39mget(\u001b[38;5;124m\"\u001b[39m\u001b[38;5;124mvalue\u001b[39m\u001b[38;5;124m\"\u001b[39m, \u001b[38;5;28;01mNone\u001b[39;00m))\n\u001b[1;32m    356\u001b[0m     \u001b[38;5;28;01mreturn\u001b[39;00m response\n",
      "File \u001b[0;32m~/venv/eda_venv/lib/python3.10/site-packages/selenium/webdriver/remote/errorhandler.py:229\u001b[0m, in \u001b[0;36mErrorHandler.check_response\u001b[0;34m(self, response)\u001b[0m\n\u001b[1;32m    227\u001b[0m         alert_text \u001b[38;5;241m=\u001b[39m value[\u001b[38;5;124m\"\u001b[39m\u001b[38;5;124malert\u001b[39m\u001b[38;5;124m\"\u001b[39m]\u001b[38;5;241m.\u001b[39mget(\u001b[38;5;124m\"\u001b[39m\u001b[38;5;124mtext\u001b[39m\u001b[38;5;124m\"\u001b[39m)\n\u001b[1;32m    228\u001b[0m     \u001b[38;5;28;01mraise\u001b[39;00m exception_class(message, screen, stacktrace, alert_text)  \u001b[38;5;66;03m# type: ignore[call-arg]  # mypy is not smart enough here\u001b[39;00m\n\u001b[0;32m--> 229\u001b[0m \u001b[38;5;28;01mraise\u001b[39;00m exception_class(message, screen, stacktrace)\n",
      "\u001b[0;31mWebDriverException\u001b[0m: Message: target frame detached\n  (failed to check if window was closed: disconnected: Unable to receive message from renderer)\n  (Session info: chrome=129.0.6668.70)\nStacktrace:\n#0 0x5ccf2482581a <unknown>\n#1 0x5ccf244f3c91 <unknown>\n#2 0x5ccf244dbabd <unknown>\n#3 0x5ccf244d9b11 <unknown>\n#4 0x5ccf244da31f <unknown>\n#5 0x5ccf244e9e3b <unknown>\n#6 0x5ccf245005e5 <unknown>\n#7 0x5ccf2458677d <unknown>\n#8 0x5ccf24568233 <unknown>\n#9 0x5ccf24536093 <unknown>\n#10 0x5ccf2453709e <unknown>\n#11 0x5ccf247eca7b <unknown>\n#12 0x5ccf247f0a31 <unknown>\n#13 0x5ccf247d8645 <unknown>\n#14 0x5ccf247f15a2 <unknown>\n#15 0x5ccf247bd81f <unknown>\n#16 0x5ccf24814618 <unknown>\n#17 0x5ccf248147e2 <unknown>\n#18 0x5ccf2482460c <unknown>\n#19 0x7a95ad894ac3 <unknown>\n"
     ]
    }
   ],
   "source": [
    "url = \"https://snapshot.bok.or.kr/dashboard/E\"\n",
    "driver = webdriver.Chrome(service=Service(\"../driver/chromedriver\"),\n",
    "                          options=options)\n",
    "\n",
    "driver.get(url)\n",
    "driver.implicitly_wait(10)\n",
    "\n",
    "# page = driver.page_source\n",
    "# soup = BeautifulSoup(page, \"html\")\n",
    "\n",
    "# driver.execute_script(\"window.scrollTo(0, 700)\")\n",
    "\n",
    "link = driver.find_element(By.CLASS_NAME, \"chart_wrap.iframe\")\n",
    "print(link)\n",
    "chart_link = link.find_elements(By.CLASS_NAME, \"chart_item\")\n",
    "print(chart_link)\n",
    "driver.implicitly_wait(10)\n",
    "for idx, div in enumerate(chart_link):\n",
    "    temp = str(div.text)\n",
    "    # print(temp)\n",
    "    if temp.find(\"한미 정책금리\") != -1:\n",
    "        print(\"찾음 \" + str(idx))\n",
    "        csv_link = div.find_element(By.CLASS_NAME, \"btn_csv\")\n",
    "        csv_link.click()\n",
    "    # else :\n",
    "    #     pass"
   ]
  },
  {
   "cell_type": "code",
   "execution_count": 4,
   "metadata": {},
   "outputs": [],
   "source": [
    "driver.close()"
   ]
  },
  {
   "cell_type": "code",
   "execution_count": 4,
   "metadata": {},
   "outputs": [
    {
     "name": "stdout",
     "output_type": "stream",
     "text": [
      "<selenium.webdriver.remote.webelement.WebElement (session=\"803c7d9f182ea99a17780b7b6e5f4d99\", element=\"f.8BE13D8C7D61CA016CD372270DA035E5.d.F88F7513D41B820703DEFC302D8C0E36.e.33\")>\n",
      "[<selenium.webdriver.remote.webelement.WebElement (session=\"803c7d9f182ea99a17780b7b6e5f4d99\", element=\"f.8BE13D8C7D61CA016CD372270DA035E5.d.F88F7513D41B820703DEFC302D8C0E36.e.35\")>, <selenium.webdriver.remote.webelement.WebElement (session=\"803c7d9f182ea99a17780b7b6e5f4d99\", element=\"f.8BE13D8C7D61CA016CD372270DA035E5.d.F88F7513D41B820703DEFC302D8C0E36.e.38\")>, <selenium.webdriver.remote.webelement.WebElement (session=\"803c7d9f182ea99a17780b7b6e5f4d99\", element=\"f.8BE13D8C7D61CA016CD372270DA035E5.d.F88F7513D41B820703DEFC302D8C0E36.e.52\")>, <selenium.webdriver.remote.webelement.WebElement (session=\"803c7d9f182ea99a17780b7b6e5f4d99\", element=\"f.8BE13D8C7D61CA016CD372270DA035E5.d.F88F7513D41B820703DEFC302D8C0E36.e.53\")>, <selenium.webdriver.remote.webelement.WebElement (session=\"803c7d9f182ea99a17780b7b6e5f4d99\", element=\"f.8BE13D8C7D61CA016CD372270DA035E5.d.F88F7513D41B820703DEFC302D8C0E36.e.54\")>, <selenium.webdriver.remote.webelement.WebElement (session=\"803c7d9f182ea99a17780b7b6e5f4d99\", element=\"f.8BE13D8C7D61CA016CD372270DA035E5.d.F88F7513D41B820703DEFC302D8C0E36.e.55\")>]\n",
      "찾음 0\n"
     ]
    }
   ],
   "source": [
    "url = \"https://snapshot.bok.or.kr/dashboard/B1\"\n",
    "driver = webdriver.Chrome(service=Service(\"../driver/chromedriver\"),\n",
    "                          options=options)\n",
    "\n",
    "driver.get(url)\n",
    "driver.implicitly_wait(10)\n",
    "\n",
    "# page = driver.page_source\n",
    "# soup = BeautifulSoup(page, \"html\")\n",
    "\n",
    "# driver.execute_script(\"window.scrollTo(0, 700)\")\n",
    "\n",
    "link = driver.find_element(By.CLASS_NAME, \"chart_wrap.iframe\")\n",
    "print(link)\n",
    "chart_link = link.find_elements(By.CLASS_NAME, \"chart_item\")\n",
    "print(chart_link)\n",
    "driver.implicitly_wait(10)\n",
    "for idx, div in enumerate(chart_link):\n",
    "    temp = str(div.text)\n",
    "    # print(temp)\n",
    "    if temp.find(\"주요국 통화의 대원화 환율\") != -1:\n",
    "        print(\"찾음 \" + str(idx))\n",
    "        csv_link = div.find_element(By.CLASS_NAME, \"btn_csv\")\n",
    "        csv_link.click()\n",
    "    # else :\n",
    "    #     pass"
   ]
  },
  {
   "cell_type": "code",
   "execution_count": 5,
   "metadata": {},
   "outputs": [],
   "source": [
    "driver.close()"
   ]
  },
  {
   "cell_type": "code",
   "execution_count": null,
   "metadata": {},
   "outputs": [],
   "source": [
    "url = \"https://snapshot.bok.or.kr/dashboard/E\"\n",
    "driver = webdriver.Chrome(service=Service(\"../driver/chromedriver\"),\n",
    "                          options=options)\n",
    "\n",
    "driver.get(url)\n",
    "driver.implicitly_wait(10)\n",
    "\n",
    "# page = driver.page_source\n",
    "# soup = BeautifulSoup(page, \"html\")\n",
    "\n",
    "# driver.execute_script(\"window.scrollTo(0, 700)\")\n",
    "\n",
    "link = driver.find_element(By.CLASS_NAME, \"chart_wrap.iframe\")\n",
    "print(link)\n",
    "chart_link = link.find_elements(By.CLASS_NAME, \"chart_item\")\n",
    "print(chart_link)\n",
    "driver.implicitly_wait(10)\n",
    "for idx, div in enumerate(chart_link):\n",
    "    temp = str(div.text)\n",
    "    # print(temp)\n",
    "    if temp.find(\"북미 주가지수\") != -1:\n",
    "        print(\"찾음 \" + str(idx))\n",
    "        csv_link = div.find_element(By.CLASS_NAME, \"btn_csv\")\n",
    "        csv_link.click()\n",
    "    # else :\n",
    "    #     pass"
   ]
  },
  {
   "cell_type": "code",
   "execution_count": 11,
   "metadata": {},
   "outputs": [],
   "source": [
    "driver.close()"
   ]
  },
  {
   "cell_type": "code",
   "execution_count": null,
   "metadata": {},
   "outputs": [],
   "source": [
    "url = \"https://snapshot.bok.or.kr/dashboard/F3\"\n",
    "driver = webdriver.Chrome(service=Service(\"../driver/chromedriver\"),\n",
    "                          options=options)\n",
    "\n",
    "driver.get(url)\n",
    "driver.implicitly_wait(10)\n",
    "\n",
    "# page = driver.page_source\n",
    "# soup = BeautifulSoup(page, \"html\")\n",
    "\n",
    "# driver.execute_script(\"window.scrollTo(0, 700)\")\n",
    "\n",
    "link = driver.find_element(By.CLASS_NAME, \"chart_wrap.iframe\")\n",
    "print(link)\n",
    "chart_link = link.find_elements(By.CLASS_NAME, \"chart_item\")\n",
    "print(chart_link)\n",
    "driver.implicitly_wait(10)\n",
    "for idx, div in enumerate(chart_link):\n",
    "    temp = str(div.text)\n",
    "    # print(temp)\n",
    "    if temp.find(\"금, 은 가격\") != -1:\n",
    "        print(\"찾음 \" + str(idx))\n",
    "        csv_link = div.find_element(By.CLASS_NAME, \"btn_csv\")\n",
    "        csv_link.click()\n",
    "    # else :\n",
    "    #     pass"
   ]
  },
  {
   "cell_type": "code",
   "execution_count": null,
   "metadata": {},
   "outputs": [],
   "source": [
    "driver.close()"
   ]
  },
  {
   "cell_type": "code",
   "execution_count": 5,
   "metadata": {},
   "outputs": [
    {
     "name": "stdout",
     "output_type": "stream",
     "text": [
      "<selenium.webdriver.remote.webelement.WebElement (session=\"79cfa5a330fded004b6adcf5c6a0bcd0\", element=\"f.20A59A24DE1DC98A8EDE2883DAEFF391.d.C8EF255D18A86D7EB34B149998599F1A.e.9\")>\n",
      "[<selenium.webdriver.remote.webelement.WebElement (session=\"79cfa5a330fded004b6adcf5c6a0bcd0\", element=\"f.20A59A24DE1DC98A8EDE2883DAEFF391.d.C8EF255D18A86D7EB34B149998599F1A.e.42\")>, <selenium.webdriver.remote.webelement.WebElement (session=\"79cfa5a330fded004b6adcf5c6a0bcd0\", element=\"f.20A59A24DE1DC98A8EDE2883DAEFF391.d.C8EF255D18A86D7EB34B149998599F1A.e.43\")>, <selenium.webdriver.remote.webelement.WebElement (session=\"79cfa5a330fded004b6adcf5c6a0bcd0\", element=\"f.20A59A24DE1DC98A8EDE2883DAEFF391.d.C8EF255D18A86D7EB34B149998599F1A.e.44\")>]\n",
      "찾음 1\n"
     ]
    }
   ],
   "source": [
    "url = \"https://snapshot.bok.or.kr/search/%EB%AC%BC%EA%B0%80%EC%A7%80%EC%88%98\"\n",
    "driver = webdriver.Chrome(service=Service(\"../driver/chromedriver\"),\n",
    "                          options=options)\n",
    "\n",
    "driver.get(url)\n",
    "driver.implicitly_wait(10)\n",
    "\n",
    "# page = driver.page_source\n",
    "# soup = BeautifulSoup(page, \"html\")\n",
    "\n",
    "# driver.execute_script(\"window.scrollTo(0, 700)\")\n",
    "\n",
    "link = driver.find_element(By.CLASS_NAME, \"chart_wrap.iframe\")\n",
    "print(link)\n",
    "chart_link = link.find_elements(By.CLASS_NAME, \"chart_item\")\n",
    "print(chart_link)\n",
    "driver.implicitly_wait(10)\n",
    "for idx, div in enumerate(chart_link):\n",
    "    temp = str(div.text)\n",
    "    # print(temp)\n",
    "    if temp.find(\"소비자물가 상승률\") != -1:\n",
    "        print(\"찾음 \" + str(idx))\n",
    "        csv_link = div.find_element(By.CLASS_NAME, \"btn_csv\")\n",
    "        csv_link.click()\n",
    "    # else :\n",
    "    #     pass"
   ]
  },
  {
   "cell_type": "code",
   "execution_count": 3,
   "metadata": {},
   "outputs": [
    {
     "name": "stdout",
     "output_type": "stream",
     "text": [
      "<selenium.webdriver.remote.webelement.WebElement (session=\"75abf823373973cbfd09f129151dba3d\", element=\"f.E547E513E6ECFE320AFDDF99BF470347.d.7F2968EEF01AF383351E005852A5E2AC.e.10\")>\n",
      "[<selenium.webdriver.remote.webelement.WebElement (session=\"75abf823373973cbfd09f129151dba3d\", element=\"f.E547E513E6ECFE320AFDDF99BF470347.d.7F2968EEF01AF383351E005852A5E2AC.e.56\")>, <selenium.webdriver.remote.webelement.WebElement (session=\"75abf823373973cbfd09f129151dba3d\", element=\"f.E547E513E6ECFE320AFDDF99BF470347.d.7F2968EEF01AF383351E005852A5E2AC.e.57\")>, <selenium.webdriver.remote.webelement.WebElement (session=\"75abf823373973cbfd09f129151dba3d\", element=\"f.E547E513E6ECFE320AFDDF99BF470347.d.7F2968EEF01AF383351E005852A5E2AC.e.58\")>, <selenium.webdriver.remote.webelement.WebElement (session=\"75abf823373973cbfd09f129151dba3d\", element=\"f.E547E513E6ECFE320AFDDF99BF470347.d.7F2968EEF01AF383351E005852A5E2AC.e.59\")>, <selenium.webdriver.remote.webelement.WebElement (session=\"75abf823373973cbfd09f129151dba3d\", element=\"f.E547E513E6ECFE320AFDDF99BF470347.d.7F2968EEF01AF383351E005852A5E2AC.e.60\")>, <selenium.webdriver.remote.webelement.WebElement (session=\"75abf823373973cbfd09f129151dba3d\", element=\"f.E547E513E6ECFE320AFDDF99BF470347.d.7F2968EEF01AF383351E005852A5E2AC.e.61\")>, <selenium.webdriver.remote.webelement.WebElement (session=\"75abf823373973cbfd09f129151dba3d\", element=\"f.E547E513E6ECFE320AFDDF99BF470347.d.7F2968EEF01AF383351E005852A5E2AC.e.62\")>, <selenium.webdriver.remote.webelement.WebElement (session=\"75abf823373973cbfd09f129151dba3d\", element=\"f.E547E513E6ECFE320AFDDF99BF470347.d.7F2968EEF01AF383351E005852A5E2AC.e.63\")>, <selenium.webdriver.remote.webelement.WebElement (session=\"75abf823373973cbfd09f129151dba3d\", element=\"f.E547E513E6ECFE320AFDDF99BF470347.d.7F2968EEF01AF383351E005852A5E2AC.e.64\")>, <selenium.webdriver.remote.webelement.WebElement (session=\"75abf823373973cbfd09f129151dba3d\", element=\"f.E547E513E6ECFE320AFDDF99BF470347.d.7F2968EEF01AF383351E005852A5E2AC.e.65\")>, <selenium.webdriver.remote.webelement.WebElement (session=\"75abf823373973cbfd09f129151dba3d\", element=\"f.E547E513E6ECFE320AFDDF99BF470347.d.7F2968EEF01AF383351E005852A5E2AC.e.66\")>, <selenium.webdriver.remote.webelement.WebElement (session=\"75abf823373973cbfd09f129151dba3d\", element=\"f.E547E513E6ECFE320AFDDF99BF470347.d.7F2968EEF01AF383351E005852A5E2AC.e.67\")>, <selenium.webdriver.remote.webelement.WebElement (session=\"75abf823373973cbfd09f129151dba3d\", element=\"f.E547E513E6ECFE320AFDDF99BF470347.d.7F2968EEF01AF383351E005852A5E2AC.e.68\")>, <selenium.webdriver.remote.webelement.WebElement (session=\"75abf823373973cbfd09f129151dba3d\", element=\"f.E547E513E6ECFE320AFDDF99BF470347.d.7F2968EEF01AF383351E005852A5E2AC.e.69\")>, <selenium.webdriver.remote.webelement.WebElement (session=\"75abf823373973cbfd09f129151dba3d\", element=\"f.E547E513E6ECFE320AFDDF99BF470347.d.7F2968EEF01AF383351E005852A5E2AC.e.70\")>, <selenium.webdriver.remote.webelement.WebElement (session=\"75abf823373973cbfd09f129151dba3d\", element=\"f.E547E513E6ECFE320AFDDF99BF470347.d.7F2968EEF01AF383351E005852A5E2AC.e.71\")>, <selenium.webdriver.remote.webelement.WebElement (session=\"75abf823373973cbfd09f129151dba3d\", element=\"f.E547E513E6ECFE320AFDDF99BF470347.d.7F2968EEF01AF383351E005852A5E2AC.e.72\")>, <selenium.webdriver.remote.webelement.WebElement (session=\"75abf823373973cbfd09f129151dba3d\", element=\"f.E547E513E6ECFE320AFDDF99BF470347.d.7F2968EEF01AF383351E005852A5E2AC.e.73\")>, <selenium.webdriver.remote.webelement.WebElement (session=\"75abf823373973cbfd09f129151dba3d\", element=\"f.E547E513E6ECFE320AFDDF99BF470347.d.7F2968EEF01AF383351E005852A5E2AC.e.74\")>, <selenium.webdriver.remote.webelement.WebElement (session=\"75abf823373973cbfd09f129151dba3d\", element=\"f.E547E513E6ECFE320AFDDF99BF470347.d.7F2968EEF01AF383351E005852A5E2AC.e.75\")>, <selenium.webdriver.remote.webelement.WebElement (session=\"75abf823373973cbfd09f129151dba3d\", element=\"f.E547E513E6ECFE320AFDDF99BF470347.d.7F2968EEF01AF383351E005852A5E2AC.e.76\")>, <selenium.webdriver.remote.webelement.WebElement (session=\"75abf823373973cbfd09f129151dba3d\", element=\"f.E547E513E6ECFE320AFDDF99BF470347.d.7F2968EEF01AF383351E005852A5E2AC.e.77\")>, <selenium.webdriver.remote.webelement.WebElement (session=\"75abf823373973cbfd09f129151dba3d\", element=\"f.E547E513E6ECFE320AFDDF99BF470347.d.7F2968EEF01AF383351E005852A5E2AC.e.78\")>, <selenium.webdriver.remote.webelement.WebElement (session=\"75abf823373973cbfd09f129151dba3d\", element=\"f.E547E513E6ECFE320AFDDF99BF470347.d.7F2968EEF01AF383351E005852A5E2AC.e.79\")>, <selenium.webdriver.remote.webelement.WebElement (session=\"75abf823373973cbfd09f129151dba3d\", element=\"f.E547E513E6ECFE320AFDDF99BF470347.d.7F2968EEF01AF383351E005852A5E2AC.e.80\")>, <selenium.webdriver.remote.webelement.WebElement (session=\"75abf823373973cbfd09f129151dba3d\", element=\"f.E547E513E6ECFE320AFDDF99BF470347.d.7F2968EEF01AF383351E005852A5E2AC.e.81\")>, <selenium.webdriver.remote.webelement.WebElement (session=\"75abf823373973cbfd09f129151dba3d\", element=\"f.E547E513E6ECFE320AFDDF99BF470347.d.7F2968EEF01AF383351E005852A5E2AC.e.82\")>, <selenium.webdriver.remote.webelement.WebElement (session=\"75abf823373973cbfd09f129151dba3d\", element=\"f.E547E513E6ECFE320AFDDF99BF470347.d.7F2968EEF01AF383351E005852A5E2AC.e.83\")>, <selenium.webdriver.remote.webelement.WebElement (session=\"75abf823373973cbfd09f129151dba3d\", element=\"f.E547E513E6ECFE320AFDDF99BF470347.d.7F2968EEF01AF383351E005852A5E2AC.e.84\")>, <selenium.webdriver.remote.webelement.WebElement (session=\"75abf823373973cbfd09f129151dba3d\", element=\"f.E547E513E6ECFE320AFDDF99BF470347.d.7F2968EEF01AF383351E005852A5E2AC.e.85\")>, <selenium.webdriver.remote.webelement.WebElement (session=\"75abf823373973cbfd09f129151dba3d\", element=\"f.E547E513E6ECFE320AFDDF99BF470347.d.7F2968EEF01AF383351E005852A5E2AC.e.86\")>]\n",
      "찾음 14\n"
     ]
    }
   ],
   "source": [
    "url = \"https://snapshot.bok.or.kr/search/%EB%AC%BC%EA%B0%80\"\n",
    "driver = webdriver.Chrome(service=Service(\"../driver/chromedriver\"),\n",
    "                          options=options)\n",
    "\n",
    "driver.get(url)\n",
    "driver.implicitly_wait(10)\n",
    "\n",
    "link = driver.find_element(By.CLASS_NAME, \"chart_wrap.iframe\")\n",
    "print(link)\n",
    "chart_link = link.find_elements(By.CLASS_NAME, \"chart_item\")\n",
    "print(chart_link)\n",
    "driver.implicitly_wait(10)\n",
    "for idx, div in enumerate(chart_link):\n",
    "    temp = str(div.text)\n",
    "    if temp.find(\"미국 소비자물가 상승률\") != -1:\n",
    "        print(\"찾음 \" + str(idx))\n",
    "        csv_link = div.find_element(By.CLASS_NAME, \"btn_csv\")\n",
    "        csv_link.click()"
   ]
  },
  {
   "cell_type": "code",
   "execution_count": 4,
   "metadata": {},
   "outputs": [
    {
     "ename": "WebDriverException",
     "evalue": "Message: disconnected: not connected to DevTools\n  (failed to check if window was closed: disconnected: not connected to DevTools)\n  (Session info: chrome=129.0.6668.70)\nStacktrace:\n#0 0x569611bd481a <unknown>\n#1 0x5696118a2e50 <unknown>\n#2 0x569611887e98 <unknown>\n#3 0x56961188931f <unknown>\n#4 0x5696118a33a6 <unknown>\n#5 0x5696118781e3 <unknown>\n#6 0x56961192614b <unknown>\n#7 0x569611917458 <unknown>\n#8 0x5696118e5093 <unknown>\n#9 0x5696118e609e <unknown>\n#10 0x569611b9ba7b <unknown>\n#11 0x569611b9fa31 <unknown>\n#12 0x569611b87645 <unknown>\n#13 0x569611ba05a2 <unknown>\n#14 0x569611b6c81f <unknown>\n#15 0x569611bc3618 <unknown>\n#16 0x569611bc37e2 <unknown>\n#17 0x569611bd360c <unknown>\n#18 0x7a91ad494ac3 <unknown>\n",
     "output_type": "error",
     "traceback": [
      "\u001b[0;31m---------------------------------------------------------------------------\u001b[0m",
      "\u001b[0;31mWebDriverException\u001b[0m                        Traceback (most recent call last)",
      "Cell \u001b[0;32mIn[4], line 1\u001b[0m\n\u001b[0;32m----> 1\u001b[0m \u001b[43mdriver\u001b[49m\u001b[38;5;241;43m.\u001b[39;49m\u001b[43mclose\u001b[49m\u001b[43m(\u001b[49m\u001b[43m)\u001b[49m\n",
      "File \u001b[0;32m~/venv/eda_venv/lib/python3.10/site-packages/selenium/webdriver/remote/webdriver.py:465\u001b[0m, in \u001b[0;36mWebDriver.close\u001b[0;34m(self)\u001b[0m\n\u001b[1;32m    457\u001b[0m \u001b[38;5;28;01mdef\u001b[39;00m \u001b[38;5;21mclose\u001b[39m(\u001b[38;5;28mself\u001b[39m) \u001b[38;5;241m-\u001b[39m\u001b[38;5;241m>\u001b[39m \u001b[38;5;28;01mNone\u001b[39;00m:\n\u001b[1;32m    458\u001b[0m \u001b[38;5;250m    \u001b[39m\u001b[38;5;124;03m\"\"\"Closes the current window.\u001b[39;00m\n\u001b[1;32m    459\u001b[0m \n\u001b[1;32m    460\u001b[0m \u001b[38;5;124;03m    :Usage:\u001b[39;00m\n\u001b[0;32m   (...)\u001b[0m\n\u001b[1;32m    463\u001b[0m \u001b[38;5;124;03m            driver.close()\u001b[39;00m\n\u001b[1;32m    464\u001b[0m \u001b[38;5;124;03m    \"\"\"\u001b[39;00m\n\u001b[0;32m--> 465\u001b[0m     \u001b[38;5;28;43mself\u001b[39;49m\u001b[38;5;241;43m.\u001b[39;49m\u001b[43mexecute\u001b[49m\u001b[43m(\u001b[49m\u001b[43mCommand\u001b[49m\u001b[38;5;241;43m.\u001b[39;49m\u001b[43mCLOSE\u001b[49m\u001b[43m)\u001b[49m\n",
      "File \u001b[0;32m~/venv/eda_venv/lib/python3.10/site-packages/selenium/webdriver/remote/webdriver.py:354\u001b[0m, in \u001b[0;36mWebDriver.execute\u001b[0;34m(self, driver_command, params)\u001b[0m\n\u001b[1;32m    352\u001b[0m response \u001b[38;5;241m=\u001b[39m \u001b[38;5;28mself\u001b[39m\u001b[38;5;241m.\u001b[39mcommand_executor\u001b[38;5;241m.\u001b[39mexecute(driver_command, params)\n\u001b[1;32m    353\u001b[0m \u001b[38;5;28;01mif\u001b[39;00m response:\n\u001b[0;32m--> 354\u001b[0m     \u001b[38;5;28;43mself\u001b[39;49m\u001b[38;5;241;43m.\u001b[39;49m\u001b[43merror_handler\u001b[49m\u001b[38;5;241;43m.\u001b[39;49m\u001b[43mcheck_response\u001b[49m\u001b[43m(\u001b[49m\u001b[43mresponse\u001b[49m\u001b[43m)\u001b[49m\n\u001b[1;32m    355\u001b[0m     response[\u001b[38;5;124m\"\u001b[39m\u001b[38;5;124mvalue\u001b[39m\u001b[38;5;124m\"\u001b[39m] \u001b[38;5;241m=\u001b[39m \u001b[38;5;28mself\u001b[39m\u001b[38;5;241m.\u001b[39m_unwrap_value(response\u001b[38;5;241m.\u001b[39mget(\u001b[38;5;124m\"\u001b[39m\u001b[38;5;124mvalue\u001b[39m\u001b[38;5;124m\"\u001b[39m, \u001b[38;5;28;01mNone\u001b[39;00m))\n\u001b[1;32m    356\u001b[0m     \u001b[38;5;28;01mreturn\u001b[39;00m response\n",
      "File \u001b[0;32m~/venv/eda_venv/lib/python3.10/site-packages/selenium/webdriver/remote/errorhandler.py:229\u001b[0m, in \u001b[0;36mErrorHandler.check_response\u001b[0;34m(self, response)\u001b[0m\n\u001b[1;32m    227\u001b[0m         alert_text \u001b[38;5;241m=\u001b[39m value[\u001b[38;5;124m\"\u001b[39m\u001b[38;5;124malert\u001b[39m\u001b[38;5;124m\"\u001b[39m]\u001b[38;5;241m.\u001b[39mget(\u001b[38;5;124m\"\u001b[39m\u001b[38;5;124mtext\u001b[39m\u001b[38;5;124m\"\u001b[39m)\n\u001b[1;32m    228\u001b[0m     \u001b[38;5;28;01mraise\u001b[39;00m exception_class(message, screen, stacktrace, alert_text)  \u001b[38;5;66;03m# type: ignore[call-arg]  # mypy is not smart enough here\u001b[39;00m\n\u001b[0;32m--> 229\u001b[0m \u001b[38;5;28;01mraise\u001b[39;00m exception_class(message, screen, stacktrace)\n",
      "\u001b[0;31mWebDriverException\u001b[0m: Message: disconnected: not connected to DevTools\n  (failed to check if window was closed: disconnected: not connected to DevTools)\n  (Session info: chrome=129.0.6668.70)\nStacktrace:\n#0 0x569611bd481a <unknown>\n#1 0x5696118a2e50 <unknown>\n#2 0x569611887e98 <unknown>\n#3 0x56961188931f <unknown>\n#4 0x5696118a33a6 <unknown>\n#5 0x5696118781e3 <unknown>\n#6 0x56961192614b <unknown>\n#7 0x569611917458 <unknown>\n#8 0x5696118e5093 <unknown>\n#9 0x5696118e609e <unknown>\n#10 0x569611b9ba7b <unknown>\n#11 0x569611b9fa31 <unknown>\n#12 0x569611b87645 <unknown>\n#13 0x569611ba05a2 <unknown>\n#14 0x569611b6c81f <unknown>\n#15 0x569611bc3618 <unknown>\n#16 0x569611bc37e2 <unknown>\n#17 0x569611bd360c <unknown>\n#18 0x7a91ad494ac3 <unknown>\n"
     ]
    }
   ],
   "source": [
    "driver.close()"
   ]
  },
  {
   "cell_type": "code",
   "execution_count": 3,
   "metadata": {},
   "outputs": [
    {
     "name": "stdout",
     "output_type": "stream",
     "text": [
      "<selenium.webdriver.remote.webelement.WebElement (session=\"5c2dd0fb51988086e1d2687b34343f06\", element=\"f.886B96D63EDD83B5231C3C4C406DB4C6.d.016A82263BCD470A882A63672318DF92.e.10\")>\n",
      "[<selenium.webdriver.remote.webelement.WebElement (session=\"5c2dd0fb51988086e1d2687b34343f06\", element=\"f.886B96D63EDD83B5231C3C4C406DB4C6.d.016A82263BCD470A882A63672318DF92.e.27\")>, <selenium.webdriver.remote.webelement.WebElement (session=\"5c2dd0fb51988086e1d2687b34343f06\", element=\"f.886B96D63EDD83B5231C3C4C406DB4C6.d.016A82263BCD470A882A63672318DF92.e.28\")>]\n",
      "찾음 0\n"
     ]
    }
   ],
   "source": [
    "# url = \"https://snapshot.bok.or.kr/search/%EB%AF%B8%EA%B5%AD%20gdp\"\n",
    "# driver = webdriver.Chrome(service=Service(\"../driver/chromedriver\"),\n",
    "#                           options=options)\n",
    "\n",
    "# driver.get(url)\n",
    "# driver.implicitly_wait(10)\n",
    "\n",
    "# link = driver.find_element(By.CLASS_NAME, \"chart_wrap.iframe\")\n",
    "# print(link)\n",
    "# chart_link = link.find_elements(By.CLASS_NAME, \"chart_item\")\n",
    "# print(chart_link)\n",
    "# driver.implicitly_wait(10)\n",
    "# for idx, div in enumerate(chart_link):\n",
    "#     temp = str(div.text)\n",
    "#     if temp.find(\"미국 경제성장률과 인플레이션율\") != -1:\n",
    "#         print(\"찾음 \" + str(idx))\n",
    "#         csv_link = div.find_element(By.CLASS_NAME, \"btn_csv\")\n",
    "#         csv_link.click()"
   ]
  },
  {
   "cell_type": "code",
   "execution_count": 4,
   "metadata": {},
   "outputs": [],
   "source": [
    "# driver.close()"
   ]
  },
  {
   "cell_type": "code",
   "execution_count": 8,
   "metadata": {},
   "outputs": [
    {
     "name": "stdout",
     "output_type": "stream",
     "text": [
      "<selenium.webdriver.remote.webelement.WebElement (session=\"f6028404a6f3a6418cc155a1c7e4f834\", element=\"f.F949A8F3369440B4AB72785CAB59953D.d.4F090B1CB52FE81683FED8399952A144.e.10\")>\n",
      "[<selenium.webdriver.remote.webelement.WebElement (session=\"f6028404a6f3a6418cc155a1c7e4f834\", element=\"f.F949A8F3369440B4AB72785CAB59953D.d.4F090B1CB52FE81683FED8399952A144.e.49\")>, <selenium.webdriver.remote.webelement.WebElement (session=\"f6028404a6f3a6418cc155a1c7e4f834\", element=\"f.F949A8F3369440B4AB72785CAB59953D.d.4F090B1CB52FE81683FED8399952A144.e.50\")>, <selenium.webdriver.remote.webelement.WebElement (session=\"f6028404a6f3a6418cc155a1c7e4f834\", element=\"f.F949A8F3369440B4AB72785CAB59953D.d.4F090B1CB52FE81683FED8399952A144.e.51\")>, <selenium.webdriver.remote.webelement.WebElement (session=\"f6028404a6f3a6418cc155a1c7e4f834\", element=\"f.F949A8F3369440B4AB72785CAB59953D.d.4F090B1CB52FE81683FED8399952A144.e.52\")>, <selenium.webdriver.remote.webelement.WebElement (session=\"f6028404a6f3a6418cc155a1c7e4f834\", element=\"f.F949A8F3369440B4AB72785CAB59953D.d.4F090B1CB52FE81683FED8399952A144.e.53\")>, <selenium.webdriver.remote.webelement.WebElement (session=\"f6028404a6f3a6418cc155a1c7e4f834\", element=\"f.F949A8F3369440B4AB72785CAB59953D.d.4F090B1CB52FE81683FED8399952A144.e.54\")>, <selenium.webdriver.remote.webelement.WebElement (session=\"f6028404a6f3a6418cc155a1c7e4f834\", element=\"f.F949A8F3369440B4AB72785CAB59953D.d.4F090B1CB52FE81683FED8399952A144.e.55\")>, <selenium.webdriver.remote.webelement.WebElement (session=\"f6028404a6f3a6418cc155a1c7e4f834\", element=\"f.F949A8F3369440B4AB72785CAB59953D.d.4F090B1CB52FE81683FED8399952A144.e.56\")>, <selenium.webdriver.remote.webelement.WebElement (session=\"f6028404a6f3a6418cc155a1c7e4f834\", element=\"f.F949A8F3369440B4AB72785CAB59953D.d.4F090B1CB52FE81683FED8399952A144.e.57\")>, <selenium.webdriver.remote.webelement.WebElement (session=\"f6028404a6f3a6418cc155a1c7e4f834\", element=\"f.F949A8F3369440B4AB72785CAB59953D.d.4F090B1CB52FE81683FED8399952A144.e.58\")>, <selenium.webdriver.remote.webelement.WebElement (session=\"f6028404a6f3a6418cc155a1c7e4f834\", element=\"f.F949A8F3369440B4AB72785CAB59953D.d.4F090B1CB52FE81683FED8399952A144.e.59\")>, <selenium.webdriver.remote.webelement.WebElement (session=\"f6028404a6f3a6418cc155a1c7e4f834\", element=\"f.F949A8F3369440B4AB72785CAB59953D.d.4F090B1CB52FE81683FED8399952A144.e.60\")>, <selenium.webdriver.remote.webelement.WebElement (session=\"f6028404a6f3a6418cc155a1c7e4f834\", element=\"f.F949A8F3369440B4AB72785CAB59953D.d.4F090B1CB52FE81683FED8399952A144.e.61\")>, <selenium.webdriver.remote.webelement.WebElement (session=\"f6028404a6f3a6418cc155a1c7e4f834\", element=\"f.F949A8F3369440B4AB72785CAB59953D.d.4F090B1CB52FE81683FED8399952A144.e.62\")>, <selenium.webdriver.remote.webelement.WebElement (session=\"f6028404a6f3a6418cc155a1c7e4f834\", element=\"f.F949A8F3369440B4AB72785CAB59953D.d.4F090B1CB52FE81683FED8399952A144.e.63\")>, <selenium.webdriver.remote.webelement.WebElement (session=\"f6028404a6f3a6418cc155a1c7e4f834\", element=\"f.F949A8F3369440B4AB72785CAB59953D.d.4F090B1CB52FE81683FED8399952A144.e.64\")>, <selenium.webdriver.remote.webelement.WebElement (session=\"f6028404a6f3a6418cc155a1c7e4f834\", element=\"f.F949A8F3369440B4AB72785CAB59953D.d.4F090B1CB52FE81683FED8399952A144.e.65\")>, <selenium.webdriver.remote.webelement.WebElement (session=\"f6028404a6f3a6418cc155a1c7e4f834\", element=\"f.F949A8F3369440B4AB72785CAB59953D.d.4F090B1CB52FE81683FED8399952A144.e.66\")>, <selenium.webdriver.remote.webelement.WebElement (session=\"f6028404a6f3a6418cc155a1c7e4f834\", element=\"f.F949A8F3369440B4AB72785CAB59953D.d.4F090B1CB52FE81683FED8399952A144.e.67\")>, <selenium.webdriver.remote.webelement.WebElement (session=\"f6028404a6f3a6418cc155a1c7e4f834\", element=\"f.F949A8F3369440B4AB72785CAB59953D.d.4F090B1CB52FE81683FED8399952A144.e.68\")>, <selenium.webdriver.remote.webelement.WebElement (session=\"f6028404a6f3a6418cc155a1c7e4f834\", element=\"f.F949A8F3369440B4AB72785CAB59953D.d.4F090B1CB52FE81683FED8399952A144.e.69\")>, <selenium.webdriver.remote.webelement.WebElement (session=\"f6028404a6f3a6418cc155a1c7e4f834\", element=\"f.F949A8F3369440B4AB72785CAB59953D.d.4F090B1CB52FE81683FED8399952A144.e.70\")>, <selenium.webdriver.remote.webelement.WebElement (session=\"f6028404a6f3a6418cc155a1c7e4f834\", element=\"f.F949A8F3369440B4AB72785CAB59953D.d.4F090B1CB52FE81683FED8399952A144.e.71\")>, <selenium.webdriver.remote.webelement.WebElement (session=\"f6028404a6f3a6418cc155a1c7e4f834\", element=\"f.F949A8F3369440B4AB72785CAB59953D.d.4F090B1CB52FE81683FED8399952A144.e.72\")>]\n",
      "찾음 3\n",
      "찾음 18\n"
     ]
    }
   ],
   "source": [
    "url = \"https://snapshot.bok.or.kr/search/gdp\"\n",
    "driver = webdriver.Chrome(service=Service(\"../driver/chromedriver\"),\n",
    "                          options=options)\n",
    "\n",
    "driver.get(url)\n",
    "driver.implicitly_wait(10)\n",
    "\n",
    "link = driver.find_element(By.CLASS_NAME, \"chart_wrap.iframe\")\n",
    "print(link)\n",
    "chart_link = link.find_elements(By.CLASS_NAME, \"chart_item\")\n",
    "print(chart_link)\n",
    "driver.implicitly_wait(10)\n",
    "for idx, div in enumerate(chart_link):\n",
    "    temp = str(div.text)\n",
    "    if temp.find(\"GDP 성장률\") != -1:\n",
    "        print(\"찾음 \" + str(idx))\n",
    "        csv_link = div.find_element(By.CLASS_NAME, \"btn_csv\")\n",
    "        csv_link.click()"
   ]
  },
  {
   "cell_type": "code",
   "execution_count": 9,
   "metadata": {},
   "outputs": [],
   "source": [
    "driver.close()"
   ]
  },
  {
   "cell_type": "code",
   "execution_count": 12,
   "metadata": {},
   "outputs": [
    {
     "name": "stdout",
     "output_type": "stream",
     "text": [
      "<selenium.webdriver.remote.webelement.WebElement (session=\"7621348440cd0254feb9d09fbe8c329a\", element=\"f.DD821C3405A0D4E026AFC2C7999AEC06.d.D87C56767F253DE264C233E2AD466E6F.e.10\")>\n",
      "[<selenium.webdriver.remote.webelement.WebElement (session=\"7621348440cd0254feb9d09fbe8c329a\", element=\"f.DD821C3405A0D4E026AFC2C7999AEC06.d.D87C56767F253DE264C233E2AD466E6F.e.29\")>, <selenium.webdriver.remote.webelement.WebElement (session=\"7621348440cd0254feb9d09fbe8c329a\", element=\"f.DD821C3405A0D4E026AFC2C7999AEC06.d.D87C56767F253DE264C233E2AD466E6F.e.30\")>, <selenium.webdriver.remote.webelement.WebElement (session=\"7621348440cd0254feb9d09fbe8c329a\", element=\"f.DD821C3405A0D4E026AFC2C7999AEC06.d.D87C56767F253DE264C233E2AD466E6F.e.31\")>, <selenium.webdriver.remote.webelement.WebElement (session=\"7621348440cd0254feb9d09fbe8c329a\", element=\"f.DD821C3405A0D4E026AFC2C7999AEC06.d.D87C56767F253DE264C233E2AD466E6F.e.32\")>]\n",
      "찾음 1\n"
     ]
    }
   ],
   "source": [
    "url = \"https://snapshot.bok.or.kr/search/%EC%84%A0%ED%96%89\"\n",
    "driver = webdriver.Chrome(service=Service(\"../driver/chromedriver\"),\n",
    "                          options=options)\n",
    "\n",
    "driver.get(url)\n",
    "driver.implicitly_wait(10)\n",
    "\n",
    "link = driver.find_element(By.CLASS_NAME, \"chart_wrap.iframe\")\n",
    "print(link)\n",
    "chart_link = link.find_elements(By.CLASS_NAME, \"chart_item\")\n",
    "print(chart_link)\n",
    "driver.implicitly_wait(10)\n",
    "for idx, div in enumerate(chart_link):\n",
    "    temp = str(div.text)\n",
    "    if temp.find(\"OECD 경기선행지수\") != -1:\n",
    "        print(\"찾음 \" + str(idx))\n",
    "        csv_link = div.find_element(By.CLASS_NAME, \"btn_csv\")\n",
    "        csv_link.click()"
   ]
  },
  {
   "cell_type": "code",
   "execution_count": 13,
   "metadata": {},
   "outputs": [
    {
     "ename": "WebDriverException",
     "evalue": "Message: disconnected: not connected to DevTools\n  (failed to check if window was closed: disconnected: not connected to DevTools)\n  (Session info: chrome=129.0.6668.70)\nStacktrace:\n#0 0x5715d9f7281a <unknown>\n#1 0x5715d9c40e50 <unknown>\n#2 0x5715d9c25e98 <unknown>\n#3 0x5715d9c2731f <unknown>\n#4 0x5715d9c413a6 <unknown>\n#5 0x5715d9c161e3 <unknown>\n#6 0x5715d9cc414b <unknown>\n#7 0x5715d9cb5458 <unknown>\n#8 0x5715d9c83093 <unknown>\n#9 0x5715d9c8409e <unknown>\n#10 0x5715d9f39a7b <unknown>\n#11 0x5715d9f3da31 <unknown>\n#12 0x5715d9f25645 <unknown>\n#13 0x5715d9f3e5a2 <unknown>\n#14 0x5715d9f0a81f <unknown>\n#15 0x5715d9f61618 <unknown>\n#16 0x5715d9f617e2 <unknown>\n#17 0x5715d9f7160c <unknown>\n#18 0x7d9d1ce94ac3 <unknown>\n",
     "output_type": "error",
     "traceback": [
      "\u001b[0;31m---------------------------------------------------------------------------\u001b[0m",
      "\u001b[0;31mWebDriverException\u001b[0m                        Traceback (most recent call last)",
      "Cell \u001b[0;32mIn[13], line 1\u001b[0m\n\u001b[0;32m----> 1\u001b[0m \u001b[43mdriver\u001b[49m\u001b[38;5;241;43m.\u001b[39;49m\u001b[43mclose\u001b[49m\u001b[43m(\u001b[49m\u001b[43m)\u001b[49m\n",
      "File \u001b[0;32m~/venv/eda_venv/lib/python3.10/site-packages/selenium/webdriver/remote/webdriver.py:465\u001b[0m, in \u001b[0;36mWebDriver.close\u001b[0;34m(self)\u001b[0m\n\u001b[1;32m    457\u001b[0m \u001b[38;5;28;01mdef\u001b[39;00m \u001b[38;5;21mclose\u001b[39m(\u001b[38;5;28mself\u001b[39m) \u001b[38;5;241m-\u001b[39m\u001b[38;5;241m>\u001b[39m \u001b[38;5;28;01mNone\u001b[39;00m:\n\u001b[1;32m    458\u001b[0m \u001b[38;5;250m    \u001b[39m\u001b[38;5;124;03m\"\"\"Closes the current window.\u001b[39;00m\n\u001b[1;32m    459\u001b[0m \n\u001b[1;32m    460\u001b[0m \u001b[38;5;124;03m    :Usage:\u001b[39;00m\n\u001b[0;32m   (...)\u001b[0m\n\u001b[1;32m    463\u001b[0m \u001b[38;5;124;03m            driver.close()\u001b[39;00m\n\u001b[1;32m    464\u001b[0m \u001b[38;5;124;03m    \"\"\"\u001b[39;00m\n\u001b[0;32m--> 465\u001b[0m     \u001b[38;5;28;43mself\u001b[39;49m\u001b[38;5;241;43m.\u001b[39;49m\u001b[43mexecute\u001b[49m\u001b[43m(\u001b[49m\u001b[43mCommand\u001b[49m\u001b[38;5;241;43m.\u001b[39;49m\u001b[43mCLOSE\u001b[49m\u001b[43m)\u001b[49m\n",
      "File \u001b[0;32m~/venv/eda_venv/lib/python3.10/site-packages/selenium/webdriver/remote/webdriver.py:354\u001b[0m, in \u001b[0;36mWebDriver.execute\u001b[0;34m(self, driver_command, params)\u001b[0m\n\u001b[1;32m    352\u001b[0m response \u001b[38;5;241m=\u001b[39m \u001b[38;5;28mself\u001b[39m\u001b[38;5;241m.\u001b[39mcommand_executor\u001b[38;5;241m.\u001b[39mexecute(driver_command, params)\n\u001b[1;32m    353\u001b[0m \u001b[38;5;28;01mif\u001b[39;00m response:\n\u001b[0;32m--> 354\u001b[0m     \u001b[38;5;28;43mself\u001b[39;49m\u001b[38;5;241;43m.\u001b[39;49m\u001b[43merror_handler\u001b[49m\u001b[38;5;241;43m.\u001b[39;49m\u001b[43mcheck_response\u001b[49m\u001b[43m(\u001b[49m\u001b[43mresponse\u001b[49m\u001b[43m)\u001b[49m\n\u001b[1;32m    355\u001b[0m     response[\u001b[38;5;124m\"\u001b[39m\u001b[38;5;124mvalue\u001b[39m\u001b[38;5;124m\"\u001b[39m] \u001b[38;5;241m=\u001b[39m \u001b[38;5;28mself\u001b[39m\u001b[38;5;241m.\u001b[39m_unwrap_value(response\u001b[38;5;241m.\u001b[39mget(\u001b[38;5;124m\"\u001b[39m\u001b[38;5;124mvalue\u001b[39m\u001b[38;5;124m\"\u001b[39m, \u001b[38;5;28;01mNone\u001b[39;00m))\n\u001b[1;32m    356\u001b[0m     \u001b[38;5;28;01mreturn\u001b[39;00m response\n",
      "File \u001b[0;32m~/venv/eda_venv/lib/python3.10/site-packages/selenium/webdriver/remote/errorhandler.py:229\u001b[0m, in \u001b[0;36mErrorHandler.check_response\u001b[0;34m(self, response)\u001b[0m\n\u001b[1;32m    227\u001b[0m         alert_text \u001b[38;5;241m=\u001b[39m value[\u001b[38;5;124m\"\u001b[39m\u001b[38;5;124malert\u001b[39m\u001b[38;5;124m\"\u001b[39m]\u001b[38;5;241m.\u001b[39mget(\u001b[38;5;124m\"\u001b[39m\u001b[38;5;124mtext\u001b[39m\u001b[38;5;124m\"\u001b[39m)\n\u001b[1;32m    228\u001b[0m     \u001b[38;5;28;01mraise\u001b[39;00m exception_class(message, screen, stacktrace, alert_text)  \u001b[38;5;66;03m# type: ignore[call-arg]  # mypy is not smart enough here\u001b[39;00m\n\u001b[0;32m--> 229\u001b[0m \u001b[38;5;28;01mraise\u001b[39;00m exception_class(message, screen, stacktrace)\n",
      "\u001b[0;31mWebDriverException\u001b[0m: Message: disconnected: not connected to DevTools\n  (failed to check if window was closed: disconnected: not connected to DevTools)\n  (Session info: chrome=129.0.6668.70)\nStacktrace:\n#0 0x5715d9f7281a <unknown>\n#1 0x5715d9c40e50 <unknown>\n#2 0x5715d9c25e98 <unknown>\n#3 0x5715d9c2731f <unknown>\n#4 0x5715d9c413a6 <unknown>\n#5 0x5715d9c161e3 <unknown>\n#6 0x5715d9cc414b <unknown>\n#7 0x5715d9cb5458 <unknown>\n#8 0x5715d9c83093 <unknown>\n#9 0x5715d9c8409e <unknown>\n#10 0x5715d9f39a7b <unknown>\n#11 0x5715d9f3da31 <unknown>\n#12 0x5715d9f25645 <unknown>\n#13 0x5715d9f3e5a2 <unknown>\n#14 0x5715d9f0a81f <unknown>\n#15 0x5715d9f61618 <unknown>\n#16 0x5715d9f617e2 <unknown>\n#17 0x5715d9f7160c <unknown>\n#18 0x7d9d1ce94ac3 <unknown>\n"
     ]
    }
   ],
   "source": [
    "driver.close()"
   ]
  },
  {
   "cell_type": "code",
   "execution_count": null,
   "metadata": {},
   "outputs": [],
   "source": []
  }
 ],
 "metadata": {
  "kernelspec": {
   "display_name": "eda_venv",
   "language": "python",
   "name": "python3"
  },
  "language_info": {
   "codemirror_mode": {
    "name": "ipython",
    "version": 3
   },
   "file_extension": ".py",
   "mimetype": "text/x-python",
   "name": "python",
   "nbconvert_exporter": "python",
   "pygments_lexer": "ipython3",
   "version": "3.10.12"
  }
 },
 "nbformat": 4,
 "nbformat_minor": 2
}
