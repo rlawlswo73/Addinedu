{
 "cells": [
  {
   "cell_type": "code",
   "execution_count": 23,
   "metadata": {},
   "outputs": [],
   "source": [
    "from bs4 import BeautifulSoup\n",
    "import urllib\n",
    "from urllib.request import Request\n",
    "from urllib.request import urlopen\n",
    "\n",
    "from user_agent import generate_user_agent"
   ]
  },
  {
   "cell_type": "code",
   "execution_count": 24,
   "metadata": {},
   "outputs": [
    {
     "name": "stdout",
     "output_type": "stream",
     "text": [
      "<!DOCTYPE html PUBLIC \"-//W3C//DTD XHTML 1.0 Transitional//EN\" \"http://www.w3.org/TR/xhtml1/DTD/xhtml1-transitional.dtd\">\n",
      "<html lang=\"ko\" xml:lang=\"ko\" xmlns=\"http://www.w3.org/1999/xhtml\">\n",
      " <head>\n",
      "  <meta content=\"text/html; charset=utf-8\" http-equiv=\"Content-Type\"/>\n",
      "  <link href=\"/css/sample.css\" rel=\"stylesheet\" type=\"text/css\"/>\n",
      "  <title>\n",
      "   error.jsp\n",
      "  </title>\n",
      " </head>\n",
      " <body>\n",
      "  <table border=\"0\" cellpadding=\"0\" cellspacing=\"0\" height=\"100%\" width=\"100%\">\n",
      "   <tr align=\"center\" valign=\"middle\">\n",
      "    <td align=\"center\" height=\"100%\" style=\"padding-top:150px;\" valign=\"middle\" width=\"100%\">\n",
      "     <table align=\"center\" border=\"0\" cellpadding=\"0\" cellspacing=\"0\" valign=\"middle\">\n",
      "      <font size=\"10\">\n",
      "       The service is not available.\n",
      "      </font>\n",
      "     </table>\n",
      "    </td>\n",
      "   </tr>\n",
      "  </table>\n",
      " </body>\n",
      "</html>\n",
      "\n"
     ]
    }
   ],
   "source": [
    "url = \"https://www.opinet.co.kr/searRgSelect.do\"\n",
    "# req = Request(url.format(search_words = urllib.parse.quote(\"구미호뎐 1938\")))\n",
    "\n",
    "req = Request(url=url, headers={'User-Agent':generate_user_agent()})\n",
    "# req = Request(url=url)\n",
    "\n",
    "res = urlopen(req)\n",
    "\n",
    "soup = BeautifulSoup(res, \"html.parser\")\n",
    "\n",
    "print(soup.prettify())"
   ]
  },
  {
   "cell_type": "code",
   "execution_count": 25,
   "metadata": {},
   "outputs": [
    {
     "name": "stdout",
     "output_type": "stream",
     "text": [
      "[]\n"
     ]
    }
   ],
   "source": [
    "oil_search = soup.find(\"div\")\n",
    "print(oil_search)"
   ]
  },
  {
   "cell_type": "code",
   "execution_count": 26,
   "metadata": {},
   "outputs": [
    {
     "name": "stdout",
     "output_type": "stream",
     "text": [
      "None\n"
     ]
    }
   ],
   "source": [
    "result_gis = soup.find(class_=\"result_gis\")\n",
    "print(result_gis)"
   ]
  },
  {
   "cell_type": "code",
   "execution_count": null,
   "metadata": {},
   "outputs": [],
   "source": []
  }
 ],
 "metadata": {
  "kernelspec": {
   "display_name": "eda_venv",
   "language": "python",
   "name": "python3"
  },
  "language_info": {
   "codemirror_mode": {
    "name": "ipython",
    "version": 3
   },
   "file_extension": ".py",
   "mimetype": "text/x-python",
   "name": "python",
   "nbconvert_exporter": "python",
   "pygments_lexer": "ipython3",
   "version": "3.10.12"
  }
 },
 "nbformat": 4,
 "nbformat_minor": 2
}
