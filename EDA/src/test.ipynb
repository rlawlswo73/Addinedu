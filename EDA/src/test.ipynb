{
 "cells": [
  {
   "cell_type": "code",
   "execution_count": null,
   "metadata": {},
   "outputs": [],
   "source": [
    "for i in range(1,10):\n",
    "    for j in range(1,10):\n",
    "        print(j,\"*\",i,\"=\",i*j,end=\"\\t\")\n",
    "    print(\"\\n\")"
   ]
  },
  {
   "cell_type": "code",
   "execution_count": null,
   "metadata": {},
   "outputs": [],
   "source": [
    "result = int(input())\n",
    "a = 1\n",
    "sum = 1\n",
    "\n",
    "for i in range(1, result):\n",
    "    sum = sum + 2\n",
    "print(sum)\n",
    "\n",
    "for i in range(0, result):\n",
    "    print(\" \",end='')\n",
    "    for j in range(0, sum):\n",
    "        if int(sum / 2) < j - i:\n",
    "            print(\" \",end='')\n",
    "    \n",
    "    for k in range(0, a):\n",
    "        print(\"*\",end=\"\")\n",
    "    \n",
    "    print(\"\")\n",
    "    a = a + 2\n",
    "\n",
    "for i in range(0,3):\n",
    "    for j in range(0, int(sum / 2)):\n",
    "        print(\" \",end=\"\")\n",
    "    \n",
    "    if (result <= 4):\n",
    "        print(\" x \")\n",
    "    else:\n",
    "        print(\"xxx\")\n"
   ]
  }
 ],
 "metadata": {
  "kernelspec": {
   "display_name": "eda_venv",
   "language": "python",
   "name": "python3"
  },
  "language_info": {
   "codemirror_mode": {
    "name": "ipython",
    "version": 3
   },
   "file_extension": ".py",
   "mimetype": "text/x-python",
   "name": "python",
   "nbconvert_exporter": "python",
   "pygments_lexer": "ipython3",
   "version": "3.10.12"
  }
 },
 "nbformat": 4,
 "nbformat_minor": 2
}
