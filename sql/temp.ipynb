{
 "cells": [
  {
   "cell_type": "code",
   "execution_count": 3,
   "metadata": {},
   "outputs": [],
   "source": [
    "import mysql.connector\n",
    "conn = mysql.connector.connect(\n",
    "    host = \"database-1.c3mmsaki87vo.ap-northeast-2.rds.amazonaws.com\",\n",
    "    port = 3306,\n",
    "    user = \"robot\",\n",
    "    password = \"robot0602\",\n",
    "    database = \"amrbase\"\n",
    ")"
   ]
  },
  {
   "cell_type": "code",
   "execution_count": 4,
   "metadata": {},
   "outputs": [
    {
     "data": {
      "text/html": [
       "<div>\n",
       "<style scoped>\n",
       "    .dataframe tbody tr th:only-of-type {\n",
       "        vertical-align: middle;\n",
       "    }\n",
       "\n",
       "    .dataframe tbody tr th {\n",
       "        vertical-align: top;\n",
       "    }\n",
       "\n",
       "    .dataframe thead th {\n",
       "        text-align: right;\n",
       "    }\n",
       "</style>\n",
       "<table border=\"1\" class=\"dataframe\">\n",
       "  <thead>\n",
       "    <tr style=\"text-align: right;\">\n",
       "      <th></th>\n",
       "      <th>Rank</th>\n",
       "      <th>Cafe</th>\n",
       "      <th>Menu</th>\n",
       "      <th>Price</th>\n",
       "      <th>Address</th>\n",
       "    </tr>\n",
       "  </thead>\n",
       "  <tbody>\n",
       "    <tr>\n",
       "      <th>0</th>\n",
       "      <td>1</td>\n",
       "      <td>Old Oak Tap</td>\n",
       "      <td>BLT</td>\n",
       "      <td>10.0</td>\n",
       "      <td>2109 W. Chicago Ave</td>\n",
       "    </tr>\n",
       "    <tr>\n",
       "      <th>1</th>\n",
       "      <td>2</td>\n",
       "      <td>Au Cheval</td>\n",
       "      <td>Fried Bologna</td>\n",
       "      <td>9.0</td>\n",
       "      <td>800 W. Randolph St</td>\n",
       "    </tr>\n",
       "    <tr>\n",
       "      <th>2</th>\n",
       "      <td>3</td>\n",
       "      <td>Xoco</td>\n",
       "      <td>Woodland Mushroom</td>\n",
       "      <td>9.5</td>\n",
       "      <td>445 N. Clark St</td>\n",
       "    </tr>\n",
       "    <tr>\n",
       "      <th>3</th>\n",
       "      <td>4</td>\n",
       "      <td>Al’s Deli</td>\n",
       "      <td>Roast Beef</td>\n",
       "      <td>9.4</td>\n",
       "      <td>914 Noyes St</td>\n",
       "    </tr>\n",
       "    <tr>\n",
       "      <th>4</th>\n",
       "      <td>5</td>\n",
       "      <td>Publican Quality Meats</td>\n",
       "      <td>PB&amp;L</td>\n",
       "      <td>10.0</td>\n",
       "      <td>825 W. Fulton Mkt</td>\n",
       "    </tr>\n",
       "  </tbody>\n",
       "</table>\n",
       "</div>"
      ],
      "text/plain": [
       "   Rank                    Cafe               Menu  Price              Address\n",
       "0     1             Old Oak Tap                BLT   10.0  2109 W. Chicago Ave\n",
       "1     2               Au Cheval      Fried Bologna    9.0   800 W. Randolph St\n",
       "2     3                    Xoco  Woodland Mushroom    9.5      445 N. Clark St\n",
       "3     4               Al’s Deli         Roast Beef    9.4         914 Noyes St\n",
       "4     5  Publican Quality Meats               PB&L   10.0    825 W. Fulton Mkt"
      ]
     },
     "execution_count": 4,
     "metadata": {},
     "output_type": "execute_result"
    }
   ],
   "source": [
    "import pandas as pd\n",
    "\n",
    "df = pd.read_csv(\"./data/sandwich_data.csv\")\n",
    "df.head()"
   ]
  },
  {
   "cell_type": "code",
   "execution_count": 5,
   "metadata": {},
   "outputs": [],
   "source": [
    "cursor = conn.cursor(buffered=True)"
   ]
  },
  {
   "cell_type": "code",
   "execution_count": 6,
   "metadata": {},
   "outputs": [],
   "source": [
    "sql = \"insert into sandwich values (%s, %s, %s, %s, %s)\""
   ]
  },
  {
   "cell_type": "code",
   "execution_count": 7,
   "metadata": {},
   "outputs": [
    {
     "name": "stdout",
     "output_type": "stream",
     "text": [
      "0 (1, 'Old Oak Tap', 'BLT', 10.0, '2109 W. Chicago Ave')\n",
      "1 (2, 'Au Cheval', 'Fried Bologna', 9.0, '800 W. Randolph St')\n",
      "2 (3, 'Xoco', 'Woodland Mushroom', 9.5, ' 445 N. Clark St')\n",
      "3 (4, 'Al’s Deli', 'Roast Beef', 9.4, ' 914 Noyes St')\n",
      "4 (5, 'Publican Quality Meats', 'PB&L', 10.0, '825 W. Fulton Mkt')\n",
      "5 (6, 'Hendrickx Belgian Bread Crafter', 'Belgian Chicken Curry Salad', 7.25, ' 100 E. Walton St')\n",
      "6 (7, 'Acadia', 'Lobster Roll', 16.0, '1639 S. Wabash Ave')\n",
      "7 (8, 'Birchwood Kitchen', 'Smoked Salmon Salad', 10.0, '2211 W. North Ave')\n",
      "8 (9, 'Cemitas Puebla', 'Atomica Cemitas', 9.0, '3619 W. North Ave')\n",
      "9 (10, 'Nana', 'Grilled Laughing Bird Shrimp and Fried Po’ Boy', 17.0, '3267 S. Halsted St')\n",
      "10 (11, 'Lula Cafe', 'Ham and Raclette Panino', 11.0, '2537 N. Kedzie Blvd')\n",
      "11 (12, 'Ricobene’s', 'Breaded Steak', 5.49, ' Multiple location')\n",
      "12 (13, 'Frog n Snail', 'The Hawkeye', 14.0, '3124 N. Broadwa')\n",
      "13 (14, 'Crosby’s Kitchen', 'Chicken Dip', 10.0, '3455 N. Southport Ave')\n",
      "14 (15, 'Longman & Eagle', 'Wild Boar Sloppy Joe', 13.0, '2657 N. Kedzie Ave')\n",
      "15 (16, 'Bari', 'Meatball Sub', 4.5, ' 1120 W. Grand Ave')\n",
      "16 (17, 'Manny’s', 'Corned Beef', 11.95, ' 1141 S. Jefferson St')\n",
      "17 (18, 'Eggy’s', 'Turkey Club', 11.5, ' 333 E. Benton Pl')\n",
      "18 (19, 'Old Jerusalem', 'Falafel', 6.25, ' 1411 N. Wells St')\n",
      "19 (20, 'Mindy’s HotChocolate', 'Crab Cake', 15.0, '1747 N. Damen Ave')\n",
      "20 (21, 'Olga’s Delicatessen', 'Chicken Schnitzel', 5.0, '3209 W. Irving Park Rd')\n",
      "21 (22, 'Dawali Mediterranean Kitchen', 'Shawarma', 6.0, 'Multiple location')\n",
      "22 (23, 'Big Jones', 'Toasted Pimiento Cheese', 8.0, '5347 N. Clark St')\n",
      "23 (24, 'La Pane', 'Vegetarian Panino', 5.99, ' 2954 W. Irving Park Rd')\n",
      "24 (25, 'Pastoral', 'Cali Chèvre', 7.52, ' Multiple location')\n",
      "25 (26, 'Max’s Deli', 'Pastrami', 11.95, ' 191 Skokie Valley Rd')\n",
      "26 (27, 'Lucky’s Sandwich Co.', 'The Fredo', 7.5, ' Multiple location')\n",
      "27 (28, 'City Provisions', 'Smoked Ham', 12.95, ' 1818 W. Wilson Ave')\n",
      "28 (29, 'Papa’s Cache Sabroso', 'Jibarito', 7.0, '2517 W. Division St')\n",
      "29 (30, 'Bavette’s Bar & Boeuf', 'Shaved Prime Rib', 21.0, '218 W. Kinzie St')\n",
      "30 (31, 'Hannah’s Bretzel', 'Serrano Ham and Manchego Cheese', 9.79, ' Multiple location')\n",
      "31 (32, 'La Fournette', 'Tuna Salad', 9.75, ' 1547 N. Wells St')\n",
      "32 (33, 'Paramount Room', 'Paramount Reuben', 13.0, '415 N. Milwaukee Ave')\n",
      "33 (34, 'Melt Sandwich Shoppe', 'The Istanbul', 7.95, ' 1840 N. Damen Ave')\n",
      "34 (35, 'Floriole Cafe & Bakery', 'B.A.D.', 9.0, '1220 W. Webster Ave')\n",
      "35 (36, 'First Slice Pie Café', 'Duck Confit and Mozzarella', 9.0, '5357 N. Ashland Ave')\n",
      "36 (37, 'Troquet', 'Croque Monsieur', 8.0, '1834 W. Montrose Ave')\n",
      "37 (38, 'Grahamwich', 'Green Garbanzo', 8.0, '615 N. State St')\n",
      "38 (39, 'Saigon Sisters', 'The Hen House', 7.0, 'Multiple location')\n",
      "39 (40, 'Rosalia’s Deli', 'Tuscan Chicken', 6.0, '241 N. York Rd')\n",
      "40 (41, 'Z&H MarketCafe', 'The Marty ', 7.25, ' 1323 E. 57th St')\n",
      "41 (42, 'Market House on the Square', 'Whitefish', 11.0, '655 Forest Ave')\n",
      "42 (43, 'Elaine’s Coffee Call', 'Oat Bread, Pecan Butter, and Fruit Jam', 6.0, 'Hotel Lincol')\n",
      "43 (44, 'Marion Street Cheese Market', 'Cauliflower Melt', 9.0, '100 S. Marion St')\n",
      "44 (45, 'Cafecito', 'Cubana', 5.49, ' 26 E. Congress Pkwy')\n",
      "45 (46, 'Chickpea', 'Kufta', 8.0, '2018 W. Chicago Ave')\n",
      "46 (47, 'The Goddess and Grocer', 'Debbie’s Egg Salad', 6.5, ' 25 E. Delaware Pl')\n",
      "47 (48, 'Zenwich', 'Beef Curry', 7.5, ' 416 N. York St')\n",
      "48 (49, 'Toni Patisserie', 'Le Végétarien', 8.75, ' 65 E. Washington St')\n",
      "49 (50, 'Phoebe’s Bakery', 'The Gatsby', 6.85, ' 3351 N. Broadwa')\n"
     ]
    }
   ],
   "source": [
    "for i, row in df.iterrows():\n",
    "    print(i, end=\" \")\n",
    "    cursor.execute(sql, tuple(row))\n",
    "    print(tuple(row))\n",
    "    conn.commit()\n",
    "conn.close()"
   ]
  },
  {
   "cell_type": "code",
   "execution_count": 3,
   "metadata": {},
   "outputs": [],
   "source": [
    "import mysql.connector\n",
    "\n",
    "conn = mysql.connector.connect(\n",
    "    host = \"database-1.c3mmsaki87vo.ap-northeast-2.rds.amazonaws.com\",\n",
    "    port = 3306,\n",
    "    user = \"robot\",\n",
    "    password = \"robot0602\",\n",
    "    database = \"amrbase\"\n",
    ")\n",
    "\n",
    "mycursor = conn.cursor()\n",
    "sql = open(\"./data/quiz.sql\").read()\n",
    "\n",
    "mycursor.execute(sql)"
   ]
  }
 ],
 "metadata": {
  "kernelspec": {
   "display_name": "eda_venv",
   "language": "python",
   "name": "python3"
  },
  "language_info": {
   "codemirror_mode": {
    "name": "ipython",
    "version": 3
   },
   "file_extension": ".py",
   "mimetype": "text/x-python",
   "name": "python",
   "nbconvert_exporter": "python",
   "pygments_lexer": "ipython3",
   "version": "3.10.12"
  }
 },
 "nbformat": 4,
 "nbformat_minor": 2
}
