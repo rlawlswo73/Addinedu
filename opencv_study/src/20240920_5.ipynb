{
 "cells": [
  {
   "cell_type": "code",
   "execution_count": 1,
   "metadata": {},
   "outputs": [],
   "source": [
    "import sys\n",
    "import numpy as np\n",
    "import cv2"
   ]
  },
  {
   "cell_type": "code",
   "execution_count": 2,
   "metadata": {},
   "outputs": [
    {
     "name": "stdout",
     "output_type": "stream",
     "text": [
      "Select a ROI and then press SPACE or ENTER button!\n",
      "Cancel the selection process by pressing c button!\n"
     ]
    },
    {
     "name": "stderr",
     "output_type": "stream",
     "text": [
      "qt.qpa.plugin: Could not find the Qt platform plugin \"wayland\" in \"/home/addinedu/venv/opencv/lib/python3.10/site-packages/cv2/qt/plugins\"\n"
     ]
    }
   ],
   "source": [
    "# 입력 영상 불러오기\n",
    "src = cv2.imread('../data/nemo.jpg')\n",
    "\n",
    "if src is None:\n",
    "    print('Image load failed!')\n",
    "    sys.exit()\n",
    "\n",
    "# 사각형 지정을 통한 초기 분할\n",
    "rc = cv2.selectROI(src)\n",
    "mask = np.zeros(src.shape[:2], np.uint8)\n",
    "\n",
    "cv2.grabCut(src, mask, rc, None, None, 5, cv2.GC_INIT_WITH_RECT)\n",
    "\n",
    "# 0: cv2.GC_BGD, 2: cv2.GC_PR_BGD\n",
    "mask_fg = np.where((mask == 0) | (mask == 2), 0, 1).astype('uint8')\n",
    "mask_bg = np.where((mask == 1) | (mask == 3), 0, 1).astype('uint8')\n",
    "\n",
    "cv2.imshow('mask_fg', mask_fg*255)\n",
    "cv2.imshow('mask_bg', mask_bg*255)\n",
    "\n",
    "dst_fg = src * mask_fg[:,:,np.newaxis]\n",
    "dst_bg = src * mask_bg[:,:,np.newaxis]\n",
    "\n",
    "# 초기 분할 결과 출력\n",
    "cv2.imshow('dst_fg', dst_fg)\n",
    "cv2.imshow('dst_bg', dst_bg)\n",
    "\n",
    "cv2.waitKey()\n",
    "cv2.destroyAllWindows()"
   ]
  },
  {
   "cell_type": "code",
   "execution_count": 1,
   "metadata": {},
   "outputs": [],
   "source": [
    "import sys\n",
    "import numpy as np\n",
    "import cv2"
   ]
  },
  {
   "cell_type": "code",
   "execution_count": 2,
   "metadata": {},
   "outputs": [
    {
     "name": "stdout",
     "output_type": "stream",
     "text": [
      "Select a ROI and then press SPACE or ENTER button!\n",
      "Cancel the selection process by pressing c button!\n"
     ]
    },
    {
     "name": "stderr",
     "output_type": "stream",
     "text": [
      "qt.qpa.plugin: Could not find the Qt platform plugin \"wayland\" in \"/home/addinedu/venv/opencv/lib/python3.10/site-packages/cv2/qt/plugins\"\n"
     ]
    }
   ],
   "source": [
    "# 입력 영상 불러오기\n",
    "src = cv2.imread('../data/messi5.jpg')\n",
    "\n",
    "if src is None:\n",
    "    print('Image load failed!')\n",
    "    sys.exit()\n",
    "\n",
    "# 사각형 지정을 통한 초기 분할\n",
    "mask = np.zeros(src.shape[:2], np.uint8) # 마스크 \n",
    "bgdModel = np.zeros((1, 65), np.float64) # 배경 모델\n",
    "fgdModel = np.zeros((1, 65), np.float64) # 전경 모델\n",
    "\n",
    "rc = cv2.selectROI(src)\n",
    "\n",
    "cv2.grabCut(src, mask, rc, bgdModel, fgdModel, 1, cv2.GC_INIT_WITH_RECT)\n",
    "\n",
    "# 0: cv2.GC_BGD, 2: cv2.GC_PR_BGD\n",
    "mask2 = np.where((mask == 0) | (mask == 2), 0, 1).astype('uint8')\n",
    "dst = src * mask2[:,:,np.newaxis]\n",
    "\n",
    "# 초기 분할 결과 출력\n",
    "cv2.imshow('dst', dst)\n",
    "\n",
    "# 마우스 이벤터 처리 함수 등록\n",
    "def on_mouse(event, x, y, flags, param):\n",
    "    if event == cv2.EVENT_LBUTTONDOWN:\n",
    "        cv2.circle(dst,(x,y),3,(255,0,0),-1)\n",
    "        cv2.circle(mask, (x,y), 3, cv2.GC_FGD, -1)\n",
    "        cv2.imshow('dst', dst)\n",
    "    elif event == cv2.EVENT_MOUSEMOVE:\n",
    "        if flags & cv2.EVENT_FLAG_LBUTTON:\n",
    "            cv2.circle(dst, (x, y), 3, (255, 0, 0), -1)\n",
    "            cv2.circle(mask, (x, y), 3, cv2.GC_BGD, -1)\n",
    "            cv2.imshow('dst', dst)\n",
    "        elif flags & cv2.EVENT_FLAG_SHIFTKEY:\n",
    "            cv2.circle(dst,(x,y),3,(0,0,255),-1)\n",
    "            cv2.circle(mask,(x,y),3,cv2.GC_BGD,-1)\n",
    "            cv2.imshow('dst',dst)\n",
    "\n",
    "cv2.setMouseCallback('dst', on_mouse)\n",
    "\n",
    "while True:\n",
    "    key = cv2.waitKey()\n",
    "    if key == 13: # ENTER\n",
    "        # 사용자가 지정한 전경 / 배경 정보를 화용하여 영상 분할\n",
    "        cv2.grabCut(src, mask, rc, bgdModel, fgdModel, 1, cv2.GC_INIT_WITH_MASK)\n",
    "        mask2 = np.where((mask == 2) | (mask == 0), 0, 1).astype('uint8')\n",
    "        dst = src * mask2[:, :, np.newaxis]\n",
    "        cv2.imshow('dst', dst)\n",
    "    elif key == 27:\n",
    "        break\n",
    "\n",
    "cv2.destroyAllWindows()"
   ]
  },
  {
   "cell_type": "code",
   "execution_count": 3,
   "metadata": {},
   "outputs": [],
   "source": [
    "import sys\n",
    "import numpy as np\n",
    "import cv2"
   ]
  },
  {
   "cell_type": "code",
   "execution_count": 9,
   "metadata": {},
   "outputs": [],
   "source": [
    "# 영상 불러오기\n",
    "obj = cv2.imread('../data/spades.jpg', cv2.IMREAD_GRAYSCALE)\n",
    "src = cv2.imread('../data/symbols.jpg', cv2.IMREAD_GRAYSCALE)\n",
    "\n",
    "if src is None or obj is None:\n",
    "    print('Image load failed!')\n",
    "    sys.exit()\n",
    "\n",
    "# 객체 영상 외각선 검출\n",
    "_, obj_bin = cv2.threshold(obj, 128, 255, cv2.THRESH_BINARY_INV)\n",
    "obj_contours, _ = cv2.findContours(obj_bin, cv2.RETR_EXTERNAL, cv2.CHAIN_APPROX_NONE)\n",
    "obj_pts = obj_contours[0]\n",
    "\n",
    "# 입력 영상 분석\n",
    "_, src_bin = cv2.threshold(src, 128, 255, cv2.THRESH_BINARY_INV)\n",
    "contours, _ = cv2.findContours(src_bin, cv2.RETR_EXTERNAL, cv2.CHAIN_APPROX_NONE)\n",
    "\n",
    "# 결과 영상\n",
    "dst = cv2.cvtColor(src, cv2.COLOR_GRAY2BGR)\n",
    "\n",
    "# 입력 영상의 모든 객체 영역에 대해서\n",
    "for pts in contours:\n",
    "    if cv2.contourArea(pts) < 1000:\n",
    "        continue\n",
    "    \n",
    "    rc = cv2.boundingRect(pts)\n",
    "    cv2.rectangle(dst, rc, (255, 0, 0), 1)\n",
    "\n",
    "    # 모양 비교\n",
    "    dist = cv2.matchShapes(obj_pts, pts, cv2.CONTOURS_MATCH_I3, 0)\n",
    "\n",
    "    cv2.putText(dst, str(round(dist, 4)), (rc[0], rc[1] - 3),\n",
    "                cv2.FONT_HERSHEY_SIMPLEX, 0.6, (255, 0, 0), 1, cv2.LINE_AA)\n",
    "    \n",
    "    if dist < 0.1:\n",
    "        cv2.rectangle(dst, rc, (0,0,255), 2)\n",
    "\n",
    "cv2.imshow('obj', obj)\n",
    "cv2.imshow('dst', dst)\n",
    "cv2.waitKey()\n",
    "cv2.destroyAllWindows()"
   ]
  },
  {
   "cell_type": "code",
   "execution_count": 10,
   "metadata": {},
   "outputs": [],
   "source": [
    "import sys\n",
    "import numpy as np\n",
    "import cv2"
   ]
  },
  {
   "cell_type": "code",
   "execution_count": 13,
   "metadata": {},
   "outputs": [
    {
     "name": "stdout",
     "output_type": "stream",
     "text": [
      "maxv: 0.979529857635498\n",
      "maxloc: (558, 323)\n"
     ]
    }
   ],
   "source": [
    "# 입력 영상 & 템플릿 영상 뷸러오기\n",
    "src = cv2.imread('../data/circuit.bmp', cv2.IMREAD_GRAYSCALE)\n",
    "templ = cv2.imread('../data/crystal.bmp', cv2.IMREAD_GRAYSCALE)\n",
    "\n",
    "if src is None or templ is None:\n",
    "    print('Image load failed!')\n",
    "    sys.exit()\n",
    "\n",
    "# 입력 영상 밝기 50 증다, 가우시안 잡음(sigma=10) 추가\n",
    "noise = np.zeros(src.shape, np.int32)\n",
    "cv2.randn(noise, 50, 10)\n",
    "src = cv2.add(src, noise, dtype=cv2.CV_8UC3)\n",
    "\n",
    "# 템플릿 매칭 & 결과 분석\n",
    "res = cv2.matchTemplate(src, templ, cv2.TM_CCOEFF_NORMED)\n",
    "res_norm = cv2.normalize(res, None, 0, 255, cv2.NORM_MINMAX, cv2.CV_8U)\n",
    "\n",
    "_, maxv, _, maxloc = cv2.minMaxLoc(res)\n",
    "print('maxv:', maxv)\n",
    "print('maxloc:', maxloc)\n",
    "\n",
    "# 매칭결과를 빨간색 사각형으로 표시\n",
    "th, tw = templ.shape[:2]\n",
    "dst = cv2.cvtColor(src, cv2.COLOR_GRAY2BGR)\n",
    "cv2.rectangle(dst, maxloc, (maxloc[0] + tw, maxloc[1] + th), (0, 0, 255), 2)\n",
    "\n",
    "# 결과 영상르로 화면 출력\n",
    "cv2.imshow('src', src)\n",
    "cv2.imshow('templ', templ)\n",
    "cv2.imshow('res_norm', res_norm)\n",
    "cv2.imshow('dst', dst)\n",
    "cv2.waitKey()\n",
    "cv2.destroyAllWindows()"
   ]
  },
  {
   "cell_type": "code",
   "execution_count": 1,
   "metadata": {},
   "outputs": [],
   "source": [
    "import sys\n",
    "import numpy as np\n",
    "import cv2"
   ]
  },
  {
   "cell_type": "code",
   "execution_count": 4,
   "metadata": {},
   "outputs": [],
   "source": [
    "def load_digits():\n",
    "    img_digits = []\n",
    "\n",
    "    for i in range(10):\n",
    "        filename = './digits/digit{}.bmp'.format(i)\n",
    "        img_digits.append(cv2.imread(filename, cv2.IMREAD_GRAYSCALE))\n",
    "\n",
    "        if img_digits[i] is None:\n",
    "            return None\n",
    "        \n",
    "    return img_digits"
   ]
  },
  {
   "cell_type": "code",
   "execution_count": 5,
   "metadata": {},
   "outputs": [
    {
     "name": "stdout",
     "output_type": "stream",
     "text": [
      "Digit image load failed!\n"
     ]
    },
    {
     "name": "stderr",
     "output_type": "stream",
     "text": [
      "[ WARN:0@188.548] global loadsave.cpp:241 findDecoder imread_('./digits/digit0.bmp'): can't open/read file: check file path/integrity\n"
     ]
    }
   ],
   "source": [
    "def find_digit(img, img_digits):\n",
    "    max_idx = -1\n",
    "    max_ccoeff = -1\n",
    "\n",
    "    # 최대 NCC 찾기\n",
    "    for i in range(10):\n",
    "        img = cv2.resize(img, (100, 150))\n",
    "        res = cv2.matchTemplate(img, img_digits[i], cv2.TM_CCOEFF_NORMED)\n",
    "\n",
    "        if res[0,0] > max_ccoeff:\n",
    "            max_idx = i\n",
    "            max_ccoeff = res[0,0]\n",
    "\n",
    "    return max_idx\n",
    "\n",
    "def main():\n",
    "    # 입력 영상 불러오기\n",
    "    src = cv2.imread('../data/digits_print.bmp')\n",
    "\n",
    "    if src is None:\n",
    "        print('Image load failed!')\n",
    "        return\n",
    "    \n",
    "    # 100x150 숫자 영상 불러오기\n",
    "    img_digits = load_digits() # list of ndarray\n",
    "\n",
    "    if img_digits is None:\n",
    "        print('Digit image load failed!')\n",
    "        return\n",
    "    \n",
    "    # 입력 영상 이진화 & 레이블링\n",
    "    src_gray = cv2.cvtColor(src, cv2.COLOR_BGR2GRAY)\n",
    "    _, src_bin = cv2.threshold(src_gray,0,255,cv2.THRESH_BINARY_INV | cv2.THRESH_OTSU)\n",
    "    cnt, _, stats, _ = cv2.connectedComponentsWithStats(src_bin)\n",
    "\n",
    "    # 숫자 인식 결과 영상 생성\n",
    "    dst = src.copy()\n",
    "    for i in range(1, cnt):\n",
    "        (x, y, w, h, s) = stats[i]\n",
    "\n",
    "        if s < 1000:\n",
    "            continue\n",
    "\n",
    "        # 가장 유사한 숫자 이미지를 선택\n",
    "        digit = find_digit(src_gray[y:y+h, x:x+w], img_digits)\n",
    "        cv2.rectangle(dst, (x, y, w, h), (0, 255, 255))\n",
    "        cv2.putText(dst, str(digit), (x, y - 4), cv2.FONT_HERSHEY_SIMPLEX,\n",
    "                    1, (0, 255, 255), 2, cv2.LINE_AA)\n",
    "        \n",
    "    cv2.imshow('dst', dst)\n",
    "    cv2.waitKey()\n",
    "    cv2.destroyAllWindows()\n",
    "\n",
    "if __name__ == '__main__':\n",
    "    main()"
   ]
  },
  {
   "cell_type": "code",
   "execution_count": null,
   "metadata": {},
   "outputs": [],
   "source": []
  }
 ],
 "metadata": {
  "kernelspec": {
   "display_name": "opencv",
   "language": "python",
   "name": "python3"
  },
  "language_info": {
   "codemirror_mode": {
    "name": "ipython",
    "version": 3
   },
   "file_extension": ".py",
   "mimetype": "text/x-python",
   "name": "python",
   "nbconvert_exporter": "python",
   "pygments_lexer": "ipython3",
   "version": "3.10.12"
  }
 },
 "nbformat": 4,
 "nbformat_minor": 2
}
