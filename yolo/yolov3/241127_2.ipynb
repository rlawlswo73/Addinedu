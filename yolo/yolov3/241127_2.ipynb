{
 "cells": [
  {
   "cell_type": "code",
   "execution_count": 2,
   "metadata": {},
   "outputs": [
    {
     "name": "stdout",
     "output_type": "stream",
     "text": [
      "1024 1025\n"
     ]
    }
   ],
   "source": [
    "from glob import glob \n",
    "\n",
    "img_list = glob('./data/labeling_folder/drive_1s_images/*.jpg')\n",
    "label_list = glob('./data/labeling_folder/drive_1s_labels/*.txt')\n",
    "print(len(img_list), len(label_list))"
   ]
  },
  {
   "cell_type": "code",
   "execution_count": 4,
   "metadata": {},
   "outputs": [
    {
     "name": "stdout",
     "output_type": "stream",
     "text": [
      "716 308\n"
     ]
    }
   ],
   "source": [
    "# train과 validation 데이터 나누기\n",
    "from sklearn.model_selection import train_test_split\n",
    "\n",
    "train_img_list, val_img_list = train_test_split(img_list, test_size = 0.3, random_state = 200)\n",
    "print(len(train_img_list), len(val_img_list))"
   ]
  },
  {
   "cell_type": "code",
   "execution_count": 6,
   "metadata": {},
   "outputs": [],
   "source": [
    "# 나눈 데이터를 txt파일로 저장\n",
    "# with open('/content/drive/MyDrive/dataset/yolov3/train.txt','w') as f:\n",
    "#     f.write('\\n'.join(train_img_list)+'\\n')\n",
    "# with open('/content/drive/MyDrive/dataset/yolov3/val.txt', 'w') as f:\n",
    "#     f.write('\\n'.join(val_img_list)+'\\n')\n",
    "\n",
    "with open('./data/labeling_folder/dataset/train.txt','w') as f:\n",
    "    f.write('\\n'.join(train_img_list)+'\\n')\n",
    "with open('./data/labeling_folder/dataset/val.txt', 'w') as f:\n",
    "    f.write('\\n'.join(val_img_list)+'\\n')"
   ]
  },
  {
   "cell_type": "code",
   "execution_count": null,
   "metadata": {},
   "outputs": [],
   "source": []
  }
 ],
 "metadata": {
  "kernelspec": {
   "display_name": "yolov3",
   "language": "python",
   "name": "python3"
  },
  "language_info": {
   "codemirror_mode": {
    "name": "ipython",
    "version": 3
   },
   "file_extension": ".py",
   "mimetype": "text/x-python",
   "name": "python",
   "nbconvert_exporter": "python",
   "pygments_lexer": "ipython3",
   "version": "3.10.12"
  }
 },
 "nbformat": 4,
 "nbformat_minor": 2
}
