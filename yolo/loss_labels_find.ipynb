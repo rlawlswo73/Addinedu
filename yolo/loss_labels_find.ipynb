{
 "cells": [
  {
   "cell_type": "code",
   "execution_count": 2,
   "metadata": {},
   "outputs": [],
   "source": [
    "folder_path = \"./data/labeling_folder/drive_1s_labels/\""
   ]
  },
  {
   "cell_type": "code",
   "execution_count": 10,
   "metadata": {},
   "outputs": [
    {
     "name": "stdout",
     "output_type": "stream",
     "text": [
      "모든 파일이 연속적으로 있습니다.\n"
     ]
    }
   ],
   "source": [
    "import os\n",
    "\n",
    "def find_missing_files(folder_path, prefix=\"frame_\", suffix=\".txt\"):\n",
    "    try:\n",
    "        # 폴더에서 파일 이름 가져오기\n",
    "        files = os.listdir(folder_path)\n",
    "        \n",
    "        # prefix와 suffix에 해당하는 파일만 선택\n",
    "        file_numbers = []\n",
    "        for file in files:\n",
    "            if file.startswith(prefix) and file.endswith(suffix):\n",
    "                try:\n",
    "                    # 번호 추출\n",
    "                    number = int(file[len(prefix):-len(suffix)])\n",
    "                    file_numbers.append(number)\n",
    "                except ValueError:\n",
    "                    continue\n",
    "        \n",
    "        # 번호 정렬\n",
    "        file_numbers.sort()\n",
    "        \n",
    "        # 빠진 번호 찾기\n",
    "        missing_numbers = []\n",
    "        for i in range(file_numbers[0], file_numbers[-1] + 1):\n",
    "            if i not in file_numbers:\n",
    "                missing_numbers.append(i)\n",
    "        \n",
    "        return missing_numbers\n",
    "    except Exception as e:\n",
    "        return str(e)\n",
    "\n",
    "# 사용 예시\n",
    "missing_files = find_missing_files(folder_path)\n",
    "\n",
    "if missing_files:\n",
    "    print(\"빠진 파일 번호:\", missing_files)\n",
    "else:\n",
    "    print(\"모든 파일이 연속적으로 있습니다.\")"
   ]
  },
  {
   "cell_type": "code",
   "execution_count": null,
   "metadata": {},
   "outputs": [],
   "source": []
  }
 ],
 "metadata": {
  "kernelspec": {
   "display_name": "yolov3",
   "language": "python",
   "name": "python3"
  },
  "language_info": {
   "codemirror_mode": {
    "name": "ipython",
    "version": 3
   },
   "file_extension": ".py",
   "mimetype": "text/x-python",
   "name": "python",
   "nbconvert_exporter": "python",
   "pygments_lexer": "ipython3",
   "version": "3.10.12"
  }
 },
 "nbformat": 4,
 "nbformat_minor": 2
}
