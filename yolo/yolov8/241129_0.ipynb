{
 "cells": [
  {
   "cell_type": "code",
   "execution_count": null,
   "metadata": {},
   "outputs": [],
   "source": [
    "from ultralytics import YOLO\n",
    "\n",
    "# Load a model\n",
    "# model = YOLO(\"yolov8n.yaml\") # yolov8n 모델 구조만 가져오기\n",
    "# model = YOLO(\"yolov8n.pt\") # yolov8n 을 coco데이터 셋으로 사전학습한 모델 가져오기\n",
    "model = YOLO(\"./data/train/weights/best.pt\") # 내 모델 가져오시"
   ]
  },
  {
   "cell_type": "markdown",
   "metadata": {},
   "source": [
    "학습"
   ]
  },
  {
   "cell_type": "code",
   "execution_count": null,
   "metadata": {},
   "outputs": [],
   "source": [
    "# results = model.predict(\"~/yolov8/data/video/material_B_60s.avi\", show=True, save=True, imgsz=640, conf=0.5, save_conf=True, project=\"~/yolov8/myproject\")"
   ]
  },
  {
   "cell_type": "markdown",
   "metadata": {},
   "source": [
    "추론"
   ]
  },
  {
   "cell_type": "code",
   "execution_count": null,
   "metadata": {},
   "outputs": [],
   "source": [
    "# results = model.predict(\"~/yolov8/data/video/material_B_60s.avi\", show=True, save=True, imgsz=640, conf=0.5, save_conf=True, project=\"~/yolov8/myproject\")"
   ]
  },
  {
   "cell_type": "code",
   "execution_count": null,
   "metadata": {},
   "outputs": [],
   "source": []
  }
 ],
 "metadata": {
  "kernelspec": {
   "display_name": "yolov8",
   "language": "python",
   "name": "python3"
  },
  "language_info": {
   "name": "python",
   "version": "3.10.12"
  }
 },
 "nbformat": 4,
 "nbformat_minor": 2
}
