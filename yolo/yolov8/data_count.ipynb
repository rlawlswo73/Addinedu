{
 "cells": [
  {
   "cell_type": "code",
   "execution_count": 20,
   "metadata": {},
   "outputs": [
    {
     "name": "stdout",
     "output_type": "stream",
     "text": [
      "Class counts:\n",
      "green: 155\n",
      "green arrow: 155\n",
      "red: 155\n",
      "green and green arrow: 155\n"
     ]
    }
   ],
   "source": [
    "import os\n",
    "import yaml\n",
    "from collections import Counter\n",
    "\n",
    "def count_classes_from_yaml(yaml_path, images_dir, labels_dir):\n",
    "    \"\"\"\n",
    "    Count the number of instances for each class based on the data.yaml file.\n",
    "\n",
    "    Args:\n",
    "        yaml_path (str): Path to the data.yaml file.\n",
    "        images_dir (str): Path to the directory containing image files.\n",
    "        labels_dir (str): Path to the directory containing label (.txt) files.\n",
    "\n",
    "    Returns:\n",
    "        dict: A dictionary with class names as keys and instance counts as values.\n",
    "    \"\"\"\n",
    "    # Load the data.yaml file\n",
    "    with open(yaml_path, 'r') as file:\n",
    "        data = yaml.safe_load(file)\n",
    "\n",
    "    # Get class names from the data.yaml file\n",
    "    class_names = data.get('names', [])\n",
    "\n",
    "    # Initialize a counter for all classes\n",
    "    class_counts = Counter()\n",
    "\n",
    "    # Verify that the labels directory exists\n",
    "    if not os.path.exists(labels_dir):\n",
    "        print(f\"Error: Labels directory {labels_dir} does not exist.\")\n",
    "        return {}\n",
    "\n",
    "    # Count instances in .txt files\n",
    "    for label_file in os.listdir(labels_dir):\n",
    "        if label_file.endswith('.txt'):\n",
    "            with open(os.path.join(labels_dir, label_file), 'r') as f:\n",
    "                lines = f.readlines()\n",
    "                for line in lines:\n",
    "                    class_id = int(line.split()[0])  # The first value is the class ID\n",
    "                    class_counts[class_id] += 1\n",
    "\n",
    "    # Map class IDs to class names and return results\n",
    "    class_counts_named = {class_names[class_id]: count for class_id, count in class_counts.items()}\n",
    "    return class_counts_named\n",
    "\n",
    "# Define paths before running the program\n",
    "yaml_path = \"/home/kjj73/dev_ws/yolo/yolov8/data/dataset_001/data.yaml\"\n",
    "images_dir = \"/home/kjj73/dev_ws/yolo/yolov8/data/dataset_001/valid/images\"\n",
    "labels_dir = \"/home/kjj73/dev_ws/yolo/yolov8/data/dataset_001/valid/labels\"\n",
    "\n",
    "# Run the program\n",
    "class_counts = count_classes_from_yaml(yaml_path, images_dir, labels_dir)\n",
    "print(\"Class counts:\")\n",
    "for class_name, count in class_counts.items():\n",
    "    print(f\"{class_name}: {count}\")"
   ]
  },
  {
   "cell_type": "code",
   "execution_count": 3,
   "metadata": {},
   "outputs": [
    {
     "ename": "",
     "evalue": "",
     "output_type": "error",
     "traceback": [
      "\u001b[1;31m현재 셀 또는 이전 셀에서 코드를 실행하는 동안 Kernel이 충돌했습니다. \n",
      "\u001b[1;31m셀의 코드를 검토하여 가능한 오류 원인을 식별하세요. \n",
      "\u001b[1;31m자세한 내용을 보려면 <a href='https://aka.ms/vscodeJupyterKernelCrash'>여기</a>를 클릭하세요. \n",
      "\u001b[1;31m자세한 내용은 Jupyter <a href='command:jupyter.viewOutput'>로그</a>를 참조하세요."
     ]
    }
   ],
   "source": [
    "import os\n",
    "from PIL import Image\n",
    "\n",
    "data_path = r\"C:\\Users\\KJJ\\Desktop\\code\\data\\dataset_edit\\valid\\images\"\n",
    "for img_file in os.listdir(data_path):\n",
    "    try:\n",
    "        img = Image.open(os.path.join(data_path, img_file))\n",
    "        img.verify()  # 이미지 손상 여부 검사\n",
    "    except Exception as e:\n",
    "        print(f\"Error with image {img_file}: {e}\")\n"
   ]
  },
  {
   "cell_type": "code",
   "execution_count": 18,
   "metadata": {},
   "outputs": [],
   "source": [
    "import os\n",
    "\n",
    "def remove_classes_and_empty_labels(images_path, labels_path, remove_indices):\n",
    "    # 삭제 대상 인덱스를 문자열로 변환\n",
    "    remove_indices = set(map(str, remove_indices))\n",
    "\n",
    "    # 라벨 폴더 탐색\n",
    "    for label_file in os.listdir(labels_path):\n",
    "        label_path = os.path.join(labels_path, label_file)\n",
    "\n",
    "        # 라벨 파일 읽기\n",
    "        with open(label_path, 'r') as f:\n",
    "            lines = f.readlines()\n",
    "\n",
    "        # 클래스 제거 작업\n",
    "        filtered_lines = [\n",
    "            line for line in lines if line.split()[0] not in remove_indices\n",
    "        ]\n",
    "\n",
    "        # 필터링된 라벨 파일을 다시 작성\n",
    "        if filtered_lines:\n",
    "            with open(label_path, 'w') as f:\n",
    "                f.writelines(filtered_lines)\n",
    "        else:\n",
    "            # 라벨이 비어 있으면 이미지와 함께 삭제\n",
    "            image_path = os.path.join(images_path, label_file.replace('.txt', '.jpg'))\n",
    "            if os.path.exists(image_path):\n",
    "                os.remove(image_path)\n",
    "            os.remove(label_path)\n",
    "\n",
    "# 데이터 경로 설정\n",
    "images_folder = \"/home/kjj73/dev_ws/yolo/yolov8/data/dataset_001/valid/images\"  # 이미지 폴더 경로\n",
    "labels_folder = \"/home/kjj73/dev_ws/yolo/yolov8/data/dataset_001/valid/labels\"  # 라벨 폴더 경로\n",
    "\n",
    "# 제거할 클래스 인덱스 (예: [0, 2])\n",
    "remove_classes = [4, 5]\n",
    "\n",
    "# 함수 실행\n",
    "remove_classes_and_empty_labels(images_folder, labels_folder, remove_classes)\n"
   ]
  }
 ],
 "metadata": {
  "kernelspec": {
   "display_name": "yolov8",
   "language": "python",
   "name": "python3"
  },
  "language_info": {
   "codemirror_mode": {
    "name": "ipython",
    "version": 3
   },
   "file_extension": ".py",
   "mimetype": "text/x-python",
   "name": "python",
   "nbconvert_exporter": "python",
   "pygments_lexer": "ipython3",
   "version": "3.10.12"
  }
 },
 "nbformat": 4,
 "nbformat_minor": 2
}
