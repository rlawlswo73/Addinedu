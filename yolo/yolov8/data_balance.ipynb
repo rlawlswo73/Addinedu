{
 "cells": [
  {
   "cell_type": "code",
   "execution_count": 7,
   "metadata": {},
   "outputs": [
    {
     "name": "stdout",
     "output_type": "stream",
     "text": [
      "클래스별 데이터 개수:\n",
      "클래스 0: 851개\n",
      "클래스 4: 155개\n",
      "클래스 2: 284개\n",
      "클래스 5: 487개\n",
      "클래스 3: 625개\n",
      "클래스 1: 287개\n",
      "클래스별 데이터를 가장 적은 클래스의 데이터 수에 맞추고 라벨링 없는 이미지를 제거했습니다.\n"
     ]
    }
   ],
   "source": [
    "import os\n",
    "import random\n",
    "\n",
    "# 경로 설정\n",
    "base_dir = \"/home/kjj73/dev_ws/yolo/yolov8/data/dataset_edit/valid/\"  # images와 labels 폴더가 포함된 경로\n",
    "images_dir = os.path.join(base_dir, \"images\")\n",
    "labels_dir = os.path.join(base_dir, \"labels\")\n",
    "\n",
    "# 클래스별 데이터를 확인하기 위한 딕셔너리\n",
    "class_counts = {}\n",
    "label_files = [f for f in os.listdir(labels_dir) if f.endswith(\".txt\")]\n",
    "\n",
    "# 각 클래스의 데이터 개수 확인\n",
    "for label_file in label_files:\n",
    "    label_path = os.path.join(labels_dir, label_file)\n",
    "    with open(label_path, \"r\") as f:\n",
    "        lines = f.readlines()\n",
    "        for line in lines:\n",
    "            class_id = int(line.split()[0])  # 첫 번째 값이 클래스 ID\n",
    "            class_counts[class_id] = class_counts.get(class_id, 0) + 1\n",
    "\n",
    "# 클래스별 데이터 개수 출력\n",
    "print(\"클래스별 데이터 개수:\")\n",
    "for class_id, count in class_counts.items():\n",
    "    print(f\"클래스 {class_id}: {count}개\")\n",
    "\n",
    "# 삭제할 비율 설정 (최소 데이터 수에 맞춤)\n",
    "min_class_count = min(class_counts.values())  # 가장 적은 클래스의 데이터 수 계산\n",
    "\n",
    "# 클래스별 유지할 파일 개수 계산\n",
    "class_current_counts = {class_id: 0 for class_id in class_counts}\n",
    "\n",
    "for label_file in label_files:\n",
    "    label_path = os.path.join(labels_dir, label_file)\n",
    "    with open(label_path, \"r\") as f:\n",
    "        lines = f.readlines()\n",
    "\n",
    "    # 수정할 데이터를 저장할 리스트\n",
    "    updated_lines = []\n",
    "\n",
    "    for line in lines:\n",
    "        class_id = int(line.split()[0])\n",
    "        if class_current_counts[class_id] < min_class_count:\n",
    "            updated_lines.append(line)\n",
    "            class_current_counts[class_id] += 1\n",
    "\n",
    "    # 수정된 데이터를 파일에 다시 저장\n",
    "    with open(label_path, \"w\") as f:\n",
    "        f.writelines(updated_lines)\n",
    "\n",
    "    # 만약 수정 후 파일이 비어 있으면 해당 파일과 이미지 삭제\n",
    "    if not updated_lines:\n",
    "        os.remove(label_path)\n",
    "        image_file = os.path.splitext(label_file)[0] + \".jpg\"\n",
    "        image_path = os.path.join(images_dir, image_file)\n",
    "        if os.path.exists(image_path):\n",
    "            os.remove(image_path)\n",
    "\n",
    "print(\"클래스별 데이터를 가장 적은 클래스의 데이터 수에 맞추고 라벨링 없는 이미지를 제거했습니다.\")\n"
   ]
  },
  {
   "cell_type": "code",
   "execution_count": 10,
   "metadata": {},
   "outputs": [
    {
     "name": "stdout",
     "output_type": "stream",
     "text": [
      "클래스별 데이터 개수:\n",
      "클래스 2: 1188개\n",
      "클래스 0: 1188개\n",
      "클래스 3: 1188개\n",
      "클래스 1: 1188개\n",
      "클래스 4: 1188개\n",
      "클래스 5: 1188개\n"
     ]
    }
   ],
   "source": [
    "import os\n",
    "import random\n",
    "\n",
    "# 경로 설정\n",
    "base_dir = \"/home/kjj73/dev_ws/yolo/yolov8/data/dataset_edit/train/\"  # images와 labels 폴더가 포함된 경로\n",
    "images_dir = os.path.join(base_dir, \"images\")\n",
    "labels_dir = os.path.join(base_dir, \"labels\")\n",
    "\n",
    "# 클래스별 데이터를 확인하기 위한 딕셔너리\n",
    "class_counts = {}\n",
    "label_files = [f for f in os.listdir(labels_dir) if f.endswith(\".txt\")]\n",
    "\n",
    "# 각 클래스의 데이터 개수 확인\n",
    "for label_file in label_files:\n",
    "    label_path = os.path.join(labels_dir, label_file)\n",
    "    with open(label_path, \"r\") as f:\n",
    "        lines = f.readlines()\n",
    "        for line in lines:\n",
    "            class_id = int(line.split()[0])  # 첫 번째 값이 클래스 ID\n",
    "            class_counts[class_id] = class_counts.get(class_id, 0) + 1\n",
    "\n",
    "# 클래스별 데이터 개수 출력\n",
    "print(\"클래스별 데이터 개수:\")\n",
    "for class_id, count in class_counts.items():\n",
    "    print(f\"클래스 {class_id}: {count}개\")\n"
   ]
  }
 ],
 "metadata": {
  "kernelspec": {
   "display_name": "yolov8",
   "language": "python",
   "name": "python3"
  },
  "language_info": {
   "codemirror_mode": {
    "name": "ipython",
    "version": 3
   },
   "file_extension": ".py",
   "mimetype": "text/x-python",
   "name": "python",
   "nbconvert_exporter": "python",
   "pygments_lexer": "ipython3",
   "version": "3.10.12"
  }
 },
 "nbformat": 4,
 "nbformat_minor": 2
}
