{
 "cells": [
  {
   "cell_type": "code",
   "execution_count": 7,
   "metadata": {
    "colab": {
     "base_uri": "https://localhost:8080/",
     "height": 332
    },
    "executionInfo": {
     "elapsed": 6029,
     "status": "error",
     "timestamp": 1734217106431,
     "user": {
      "displayName": "김진재",
      "userId": "17760701334436268755"
     },
     "user_tz": -540
    },
    "id": "AziGzWWqNWyo",
    "outputId": "dc1fd699-aa36-4dd0-9387-cfe1b8263e95"
   },
   "outputs": [
    {
     "name": "stdout",
     "output_type": "stream",
     "text": [
      "클래스별 데이터 개수:\n",
      "클래스 2: 975개\n",
      "클래스 0: 2330개\n",
      "클래스 3: 2610개\n",
      "클래스 1: 1327개\n",
      "클래스별 데이터를 가장 적은 클래스의 데이터 수에 맞추고 라벨링 없는 이미지를 제거했습니다.\n"
     ]
    }
   ],
   "source": [
    "import os\n",
    "import random\n",
    "\n",
    "# 경로 설정\n",
    "base_dir = \"/home/kjj73/dev_ws/yolo/yolov8/data/dataset_000/train\" # images와 labels 폴더가 포함된 경로\n",
    "images_dir = os.path.join(base_dir, \"images\")\n",
    "labels_dir = os.path.join(base_dir, \"labels\")\n",
    "\n",
    "# 클래스별 데이터를 확인하기 위한 딕셔너리\n",
    "class_counts = {}\n",
    "label_files = [f for f in os.listdir(labels_dir) if f.endswith(\".txt\")]\n",
    "\n",
    "# 각 클래스의 데이터 개수 확인\n",
    "for label_file in label_files:\n",
    "    label_path = os.path.join(labels_dir, label_file)\n",
    "    with open(label_path, \"r\") as f:\n",
    "        lines = f.readlines()\n",
    "        for line in lines:\n",
    "            if line.strip():  # 빈 줄이 아닌 경우만 처리\n",
    "                class_id = int(line.split()[0])  # 첫 번째 값이 클래스 ID\n",
    "                class_counts[class_id] = class_counts.get(class_id, 0) + 1\n",
    "\n",
    "# 클래스별 데이터가 없을 경우 처리\n",
    "if not class_counts:\n",
    "    print(\"Error: labels 폴더에 유효한 .txt 파일이 없거나, 파일 내용이 비어 있습니다.\")\n",
    "else:\n",
    "    # 클래스별 데이터 개수 출력\n",
    "    print(\"클래스별 데이터 개수:\")\n",
    "    for class_id, count in class_counts.items():\n",
    "        print(f\"클래스 {class_id}: {count}개\")\n",
    "\n",
    "    # 삭제할 비율 설정 (최소 데이터 수에 맞춤)\n",
    "    min_class_count = min(class_counts.values())  # 가장 적은 클래스의 데이터 수 계산\n",
    "\n",
    "    # 클래스별 유지할 파일 개수 계산\n",
    "    class_current_counts = {class_id: 0 for class_id in class_counts}\n",
    "\n",
    "    for label_file in label_files:\n",
    "        label_path = os.path.join(labels_dir, label_file)\n",
    "        with open(label_path, \"r\") as f:\n",
    "            lines = f.readlines()\n",
    "\n",
    "        # 수정할 데이터를 저장할 리스트\n",
    "        updated_lines = []\n",
    "\n",
    "        for line in lines:\n",
    "            if line.strip():  # 빈 줄이 아닌 경우만 처리\n",
    "                class_id = int(line.split()[0])\n",
    "                if class_current_counts[class_id] < min_class_count:\n",
    "                    updated_lines.append(line)\n",
    "                    class_current_counts[class_id] += 1\n",
    "\n",
    "        # 수정된 데이터를 파일에 다시 저장\n",
    "        with open(label_path, \"w\") as f:\n",
    "            f.writelines(updated_lines)\n",
    "\n",
    "        # 만약 수정 후 파일이 비어 있으면 해당 파일과 이미지 삭제\n",
    "        if not updated_lines:\n",
    "            os.remove(label_path)\n",
    "            image_file = os.path.splitext(label_file)[0] + \".jpg\"\n",
    "            image_path = os.path.join(images_dir, image_file)\n",
    "            if os.path.exists(image_path):\n",
    "                os.remove(image_path)\n",
    "\n",
    "    print(\"클래스별 데이터를 가장 적은 클래스의 데이터 수에 맞추고 라벨링 없는 이미지를 제거했습니다.\")\n"
   ]
  },
  {
   "cell_type": "code",
   "execution_count": null,
   "metadata": {
    "colab": {
     "base_uri": "https://localhost:8080/"
    },
    "id": "VADv1azENz4F",
    "outputId": "dfcb17f1-4fe5-457e-f7ad-05452e8194ad"
   },
   "outputs": [],
   "source": [
    "from ultralytics import YOLO\n",
    "\n",
    "# YOLOv8 모델 객체 생성 (기본적으로 COCO pre-trained 모델을 로드)\n",
    "model = YOLO('yolov8s.pt')  # 'yolov8n.pt', 'yolov8s.pt' 등 선택 가능\n",
    "\n",
    "# 모델 학습\n",
    "model.train(\n",
    "    data='/content/drive/MyDrive/Colab Notebooks/data/dataset_edit/data.yaml',\n",
    "    epochs=200,\n",
    "    imgsz=(320, 640),\n",
    "    batch=32,\n",
    "    device=0,\n",
    "    mosaic=1.0,                # Mosaic 증강 활성화\n",
    "    mixup=0.2,                 # MixUp 증강 비율\n",
    "    degrees=15,                # 회전 각도\n",
    "    translate=0.1,             # 이미지 이동 비율\n",
    "    scale=0.5,                 # 크기 조정 비율\n",
    "    shear=2.0,                 # 기울기 왜곡 정도\n",
    "    perspective=0.0005,        # 투영 왜곡 비율\n",
    "    hsv_h=0.015,               # 색조 변화 비율\n",
    "    hsv_s=0.7,                 # 채도 변화 비율\n",
    "    hsv_v=0.4,                 # 밝기 변화 비율\n",
    "    fliplr=0.5,                # 좌우 반전 확률\n",
    "    patience=15,               # 15 에포크 동안 성능 개선이 없으면 중단\n",
    "    project='/content/drive/MyDrive/Colab Notebooks/'\n",
    ")\n",
    "\n",
    "# 학습 완료 후 결과 확인\n",
    "results = model.val(\n",
    "    data='/content/drive/MyDrive/Colab Notebooks/data/dataset_edit/data.yaml',  # 검증에 사용할 데이터셋 yaml 경로\n",
    "    iou=0.7,                               # IoU threshold for validation\n",
    "    save_json=True,                        # 검증 결과를 JSON으로 저장\n",
    "    project='/content/drive/MyDrive/Colab Notebooks/'\n",
    ")\n",
    "\n",
    "# 학습 및 검증 결과 출력\n",
    "print(\"Validation Results:\", results)"
   ]
  },
  {
   "cell_type": "code",
   "execution_count": null,
   "metadata": {
    "colab": {
     "base_uri": "https://localhost:8080/"
    },
    "executionInfo": {
     "elapsed": 16931,
     "status": "ok",
     "timestamp": 1734216842040,
     "user": {
      "displayName": "김진재",
      "userId": "17760701334436268755"
     },
     "user_tz": -540
    },
    "id": "27XjZDodYB-B",
    "outputId": "080c3b12-c1c5-4c87-b41e-a90c6eaea592"
   },
   "outputs": [],
   "source": [
    "from google.colab import drive\n",
    "drive.mount('/content/drive')"
   ]
  },
  {
   "cell_type": "code",
   "execution_count": null,
   "metadata": {
    "id": "aWJ7BWSJO0ax"
   },
   "outputs": [],
   "source": []
  }
 ],
 "metadata": {
  "colab": {
   "authorship_tag": "ABX9TyOrONqbsGizdv5mlrl+pycQ",
   "mount_file_id": "1D6Kpyzc_VaSYSGRs5wDvQaLwYq0ABbCi",
   "provenance": []
  },
  "kernelspec": {
   "display_name": "yolov8",
   "language": "python",
   "name": "python3"
  },
  "language_info": {
   "codemirror_mode": {
    "name": "ipython",
    "version": 3
   },
   "file_extension": ".py",
   "mimetype": "text/x-python",
   "name": "python",
   "nbconvert_exporter": "python",
   "pygments_lexer": "ipython3",
   "version": "3.10.12"
  }
 },
 "nbformat": 4,
 "nbformat_minor": 0
}
