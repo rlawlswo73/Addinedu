{
 "cells": [
  {
   "cell_type": "code",
   "execution_count": 3,
   "metadata": {},
   "outputs": [
    {
     "name": "stdout",
     "output_type": "stream",
     "text": [
      "모든 이미지 파일에 라벨이 있습니다.\n",
      "모든 라벨 파일에 해당하는 이미지가 있습니다.\n",
      "모든 데이터가 정상이며 이미지와 라벨이 매칭됩니다.\n"
     ]
    }
   ],
   "source": [
    "import os\n",
    "\n",
    "# 경로 설정\n",
    "base_dir = \"/home/kjj73/dev_ws/yolo/yolov8/data/dataset_edit/valid/\"  # images와 labels 폴더가 포함된 경로\n",
    "images_dir = os.path.join(base_dir, \"images\")\n",
    "labels_dir = os.path.join(base_dir, \"labels\")\n",
    "\n",
    "# 이미지와 라벨 파일 이름 추출\n",
    "image_files = {os.path.splitext(f)[0] for f in os.listdir(images_dir) if f.endswith(('.jpg', '.png', '.jpeg'))}\n",
    "label_files = {os.path.splitext(f)[0] for f in os.listdir(labels_dir) if f.endswith('.txt')}\n",
    "\n",
    "# 매칭되지 않은 파일 찾기\n",
    "images_without_labels = image_files - label_files  # 라벨이 없는 이미지\n",
    "labels_without_images = label_files - image_files  # 이미지가 없는 라벨\n",
    "\n",
    "# 결과 출력\n",
    "if images_without_labels:\n",
    "    print(\"라벨 파일이 없는 이미지 파일:\")\n",
    "    for img in images_without_labels:\n",
    "        print(f\"{img}.jpg\")\n",
    "else:\n",
    "    print(\"모든 이미지 파일에 라벨이 있습니다.\")\n",
    "\n",
    "if labels_without_images:\n",
    "    print(\"이미지 파일이 없는 라벨 파일:\")\n",
    "    for lbl in labels_without_images:\n",
    "        print(f\"{lbl}.txt\")\n",
    "else:\n",
    "    print(\"모든 라벨 파일에 해당하는 이미지가 있습니다.\")\n",
    "\n",
    "# 필요에 따라 추가 작업\n",
    "if images_without_labels or labels_without_images:\n",
    "    print(\"불일치하는 파일을 확인하세요.\")\n",
    "else:\n",
    "    print(\"모든 데이터가 정상이며 이미지와 라벨이 매칭됩니다.\")\n"
   ]
  }
 ],
 "metadata": {
  "kernelspec": {
   "display_name": "yolov8",
   "language": "python",
   "name": "python3"
  },
  "language_info": {
   "codemirror_mode": {
    "name": "ipython",
    "version": 3
   },
   "file_extension": ".py",
   "mimetype": "text/x-python",
   "name": "python",
   "nbconvert_exporter": "python",
   "pygments_lexer": "ipython3",
   "version": "3.10.12"
  }
 },
 "nbformat": 4,
 "nbformat_minor": 2
}
