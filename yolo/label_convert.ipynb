{
 "cells": [
  {
   "cell_type": "code",
   "execution_count": null,
   "metadata": {},
   "outputs": [],
   "source": [
    "# 라벨 파일 디렉터리 경로\n",
    "label_dir = \"./data/labeling_folder/drive_1s_labels\"\n",
    "\n",
    "# 수정된 라벨 파일 저장 디렉터리\n",
    "output_dir = \"./data/labeling_folder/drive_1s_labels_2\""
   ]
  },
  {
   "cell_type": "code",
   "execution_count": 2,
   "metadata": {},
   "outputs": [
    {
     "ename": "ValueError",
     "evalue": "'red_sign' is not in list",
     "output_type": "error",
     "traceback": [
      "\u001b[0;31m---------------------------------------------------------------------------\u001b[0m",
      "\u001b[0;31mValueError\u001b[0m                                Traceback (most recent call last)",
      "Cell \u001b[0;32mIn[2], line 21\u001b[0m\n\u001b[1;32m     12\u001b[0m new_classes \u001b[38;5;241m=\u001b[39m [\n\u001b[1;32m     13\u001b[0m     \u001b[38;5;124m\"\u001b[39m\u001b[38;5;124mgreen\u001b[39m\u001b[38;5;124m\"\u001b[39m, \u001b[38;5;124m\"\u001b[39m\u001b[38;5;124mred\u001b[39m\u001b[38;5;124m\"\u001b[39m, \u001b[38;5;124m\"\u001b[39m\u001b[38;5;124myellow\u001b[39m\u001b[38;5;124m\"\u001b[39m, \u001b[38;5;124m\"\u001b[39m\u001b[38;5;124mgreen arrow\u001b[39m\u001b[38;5;124m\"\u001b[39m, \u001b[38;5;124m\"\u001b[39m\u001b[38;5;124mgreen arrow(down)\u001b[39m\u001b[38;5;124m\"\u001b[39m, \u001b[38;5;124m\"\u001b[39m\u001b[38;5;124mgreen and yellow\u001b[39m\u001b[38;5;124m\"\u001b[39m,\n\u001b[1;32m     14\u001b[0m     \u001b[38;5;124m\"\u001b[39m\u001b[38;5;124mgreen and green arrow\u001b[39m\u001b[38;5;124m\"\u001b[39m, \u001b[38;5;124m\"\u001b[39m\u001b[38;5;124mgreen arrow and green arrow\u001b[39m\u001b[38;5;124m\"\u001b[39m, \u001b[38;5;124m\"\u001b[39m\u001b[38;5;124myellow and green arrow\u001b[39m\u001b[38;5;124m\"\u001b[39m,\n\u001b[0;32m   (...)\u001b[0m\n\u001b[1;32m     17\u001b[0m     \u001b[38;5;124m\"\u001b[39m\u001b[38;5;124mleft_sign\u001b[39m\u001b[38;5;124m\"\u001b[39m, \u001b[38;5;124m\"\u001b[39m\u001b[38;5;124mno_left_sign\u001b[39m\u001b[38;5;124m\"\u001b[39m, \u001b[38;5;124m\"\u001b[39m\u001b[38;5;124mcrosswalk_sign\u001b[39m\u001b[38;5;124m\"\u001b[39m\n\u001b[1;32m     18\u001b[0m ]\n\u001b[1;32m     20\u001b[0m \u001b[38;5;66;03m# 기존 인덱스 -> 새로운 인덱스 매핑\u001b[39;00m\n\u001b[0;32m---> 21\u001b[0m class_mapping \u001b[38;5;241m=\u001b[39m {old_index: new_classes\u001b[38;5;241m.\u001b[39mindex(old_classes[old_index]) \u001b[38;5;28;01mfor\u001b[39;00m old_index \u001b[38;5;129;01min\u001b[39;00m \u001b[38;5;28mrange\u001b[39m(\u001b[38;5;28mlen\u001b[39m(old_classes))}\n\u001b[1;32m     23\u001b[0m \u001b[38;5;66;03m# 라벨 파일 디렉터리 경로\u001b[39;00m\n\u001b[1;32m     24\u001b[0m label_dir \u001b[38;5;241m=\u001b[39m \u001b[38;5;124m\"\u001b[39m\u001b[38;5;124m./data/labeling_folder/drive_1s_labels\u001b[39m\u001b[38;5;124m\"\u001b[39m\n",
      "Cell \u001b[0;32mIn[2], line 21\u001b[0m, in \u001b[0;36m<dictcomp>\u001b[0;34m(.0)\u001b[0m\n\u001b[1;32m     12\u001b[0m new_classes \u001b[38;5;241m=\u001b[39m [\n\u001b[1;32m     13\u001b[0m     \u001b[38;5;124m\"\u001b[39m\u001b[38;5;124mgreen\u001b[39m\u001b[38;5;124m\"\u001b[39m, \u001b[38;5;124m\"\u001b[39m\u001b[38;5;124mred\u001b[39m\u001b[38;5;124m\"\u001b[39m, \u001b[38;5;124m\"\u001b[39m\u001b[38;5;124myellow\u001b[39m\u001b[38;5;124m\"\u001b[39m, \u001b[38;5;124m\"\u001b[39m\u001b[38;5;124mgreen arrow\u001b[39m\u001b[38;5;124m\"\u001b[39m, \u001b[38;5;124m\"\u001b[39m\u001b[38;5;124mgreen arrow(down)\u001b[39m\u001b[38;5;124m\"\u001b[39m, \u001b[38;5;124m\"\u001b[39m\u001b[38;5;124mgreen and yellow\u001b[39m\u001b[38;5;124m\"\u001b[39m,\n\u001b[1;32m     14\u001b[0m     \u001b[38;5;124m\"\u001b[39m\u001b[38;5;124mgreen and green arrow\u001b[39m\u001b[38;5;124m\"\u001b[39m, \u001b[38;5;124m\"\u001b[39m\u001b[38;5;124mgreen arrow and green arrow\u001b[39m\u001b[38;5;124m\"\u001b[39m, \u001b[38;5;124m\"\u001b[39m\u001b[38;5;124myellow and green arrow\u001b[39m\u001b[38;5;124m\"\u001b[39m,\n\u001b[0;32m   (...)\u001b[0m\n\u001b[1;32m     17\u001b[0m     \u001b[38;5;124m\"\u001b[39m\u001b[38;5;124mleft_sign\u001b[39m\u001b[38;5;124m\"\u001b[39m, \u001b[38;5;124m\"\u001b[39m\u001b[38;5;124mno_left_sign\u001b[39m\u001b[38;5;124m\"\u001b[39m, \u001b[38;5;124m\"\u001b[39m\u001b[38;5;124mcrosswalk_sign\u001b[39m\u001b[38;5;124m\"\u001b[39m\n\u001b[1;32m     18\u001b[0m ]\n\u001b[1;32m     20\u001b[0m \u001b[38;5;66;03m# 기존 인덱스 -> 새로운 인덱스 매핑\u001b[39;00m\n\u001b[0;32m---> 21\u001b[0m class_mapping \u001b[38;5;241m=\u001b[39m {old_index: \u001b[43mnew_classes\u001b[49m\u001b[38;5;241;43m.\u001b[39;49m\u001b[43mindex\u001b[49m\u001b[43m(\u001b[49m\u001b[43mold_classes\u001b[49m\u001b[43m[\u001b[49m\u001b[43mold_index\u001b[49m\u001b[43m]\u001b[49m\u001b[43m)\u001b[49m \u001b[38;5;28;01mfor\u001b[39;00m old_index \u001b[38;5;129;01min\u001b[39;00m \u001b[38;5;28mrange\u001b[39m(\u001b[38;5;28mlen\u001b[39m(old_classes))}\n\u001b[1;32m     23\u001b[0m \u001b[38;5;66;03m# 라벨 파일 디렉터리 경로\u001b[39;00m\n\u001b[1;32m     24\u001b[0m label_dir \u001b[38;5;241m=\u001b[39m \u001b[38;5;124m\"\u001b[39m\u001b[38;5;124m./data/labeling_folder/drive_1s_labels\u001b[39m\u001b[38;5;124m\"\u001b[39m\n",
      "\u001b[0;31mValueError\u001b[0m: 'red_sign' is not in list"
     ]
    }
   ],
   "source": [
    "import os\n",
    "\n",
    "# 기존 클래스 목록\n",
    "old_classes = [\n",
    "    \"red_sign\", \"orange_sign\", \"green_sign\", \"left_sign_traffic\",\n",
    "    \"red_left_sign_traffic\", \"green_left_sign_traffic\", \"speed30_sign\",\n",
    "    \"speed50_sign\", \"speed60_sign\", \"uturn_sign\", \"no_uturn_sign\",\n",
    "    \"right_sign\", \"no_right_sign\", \"left_sign\", \"no_left_sign\", \"crosswalk_sign\"\n",
    "]\n",
    "\n",
    "# 새로운 클래스 목록\n",
    "new_classes = [\n",
    "    \"green\", \"red\", \"yellow\", \"green arrow\", \"green arrow(down)\", \"green and yellow\",\n",
    "    \"green and green arrow\", \"green arrow and green arrow\", \"yellow and green arrow\",\n",
    "    \"red and yellow\", \"red and green arrow\", \"etc\", \"speed30_sign\", \"speed50_sign\",\n",
    "    \"speed60_sign\", \"uturn_sign\", \"no_uturn_sign\", \"right_sign\", \"no_right_sign\",\n",
    "    \"left_sign\", \"no_left_sign\", \"crosswalk_sign\"\n",
    "]\n",
    "\n",
    "# 기존 인덱스 -> 새로운 인덱스 매핑\n",
    "class_mapping = {old_index: new_classes.index(old_classes[old_index]) for old_index in range(len(old_classes))}\n",
    "\n",
    "# 라벨 파일 디렉터리 경로\n",
    "label_dir = \"./data/labeling_folder/drive_1s_labels\"\n",
    "\n",
    "# 수정된 라벨 파일 저장 디렉터리\n",
    "output_dir = \"./data/labeling_folder/drive_1s_labels_2\"\n",
    "os.makedirs(output_dir, exist_ok=True)\n",
    "\n",
    "# 라벨 파일 변환\n",
    "for label_file in os.listdir(label_dir):\n",
    "    if label_file.endswith(\".txt\"):  # 텍스트 파일만 처리\n",
    "        with open(os.path.join(label_dir, label_file), \"r\") as file:\n",
    "            lines = file.readlines()\n",
    "\n",
    "        new_lines = []\n",
    "        for line in lines:\n",
    "            parts = line.strip().split()\n",
    "            old_class_index = int(parts[0])  # 기존 클래스 인덱스\n",
    "            if old_class_index in class_mapping:\n",
    "                new_class_index = class_mapping[old_class_index]  # 새 클래스 인덱스 가져오기\n",
    "                parts[0] = str(new_class_index)\n",
    "                new_lines.append(\" \".join(parts))\n",
    "            else:\n",
    "                print(f\"클래스 인덱스 '{old_class_index}'가 매핑에 없습니다. 건너뜀.\")\n",
    "\n",
    "        # 변환된 파일 저장\n",
    "        output_path = os.path.join(output_dir, label_file)\n",
    "        with open(output_path, \"w\") as file:\n",
    "            file.write(\"\\n\".join(new_lines))\n",
    "        print(f\"'{label_file}' 파일 변환 완료. 저장 위치: {output_path}\")\n"
   ]
  },
  {
   "cell_type": "code",
   "execution_count": null,
   "metadata": {},
   "outputs": [],
   "source": []
  },
  {
   "cell_type": "code",
   "execution_count": null,
   "metadata": {},
   "outputs": [],
   "source": []
  }
 ],
 "metadata": {
  "kernelspec": {
   "display_name": "yolov3",
   "language": "python",
   "name": "python3"
  },
  "language_info": {
   "codemirror_mode": {
    "name": "ipython",
    "version": 3
   },
   "file_extension": ".py",
   "mimetype": "text/x-python",
   "name": "python",
   "nbconvert_exporter": "python",
   "pygments_lexer": "ipython3",
   "version": "3.10.12"
  }
 },
 "nbformat": 4,
 "nbformat_minor": 2
}
