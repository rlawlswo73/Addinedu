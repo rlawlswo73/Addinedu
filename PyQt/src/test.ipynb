{
 "cells": [
  {
   "cell_type": "code",
   "execution_count": null,
   "metadata": {},
   "outputs": [],
   "source": [
    "a = []\n",
    "a.append(\"asd\")\n",
    "a.append(\"+\")\n",
    "for i in a:\n",
    "    # print(a[idx])\n",
    "    print(i)"
   ]
  },
  {
   "cell_type": "code",
   "execution_count": null,
   "metadata": {},
   "outputs": [],
   "source": [
    "round(32.0564 % 1 * 10, 9)"
   ]
  },
  {
   "cell_type": "code",
   "execution_count": null,
   "metadata": {},
   "outputs": [],
   "source": [
    "float_digit = 10\n",
    "count = 5\n",
    "num = 32.0564"
   ]
  },
  {
   "cell_type": "code",
   "execution_count": null,
   "metadata": {},
   "outputs": [],
   "source": [
    "round((num % 1 * (float_digit ** count)) % 1,6)"
   ]
  },
  {
   "cell_type": "code",
   "execution_count": null,
   "metadata": {},
   "outputs": [],
   "source": [
    "num"
   ]
  },
  {
   "cell_type": "code",
   "execution_count": null,
   "metadata": {},
   "outputs": [],
   "source": [
    "123456 / 1000000"
   ]
  },
  {
   "cell_type": "code",
   "execution_count": null,
   "metadata": {},
   "outputs": [],
   "source": [
    "x = .23\n",
    "x_str = str(x)\n",
    "x_str.rfind('.')\n",
    "x_str[:x_str.rfind('.')]"
   ]
  },
  {
   "cell_type": "code",
   "execution_count": null,
   "metadata": {},
   "outputs": [],
   "source": [
    "find = x_str.rfind('.')\n",
    "integer = int(x_str[:find])\n",
    "decimal = float(x_str[find:])"
   ]
  },
  {
   "cell_type": "code",
   "execution_count": null,
   "metadata": {},
   "outputs": [],
   "source": [
    "integer, decimal, find, len(x_str), x_str[:find], x_str[find:], float(x_str[find:])\n"
   ]
  },
  {
   "cell_type": "code",
   "execution_count": null,
   "metadata": {},
   "outputs": [],
   "source": [
    "import sys\n",
    "from PyQt5.QtWidgets import *\n",
    "from PyQt5.QtGui import *\n",
    "from PyQt5.QtCore import *\n",
    "from PyQt5 import uic\n",
    "import cv2, imutils\n",
    "import time \n",
    "import datetime\n"
   ]
  },
  {
   "cell_type": "code",
   "execution_count": null,
   "metadata": {},
   "outputs": [],
   "source": [
    "file = '/home/kjj37/dev_ws/PyQt/data/20241104_135307.avi'\n",
    "\n",
    "cap = cv2.VideoCapture(file)\n",
    "\n",
    "while cap.isOpened():   \n",
    "    ret, frame = cap.read()\n",
    "    if ret:\n",
    "        print(cap, ret) \n",
    "        frame = cv2.cvtColor(frame, cv2.COLOR_BGR2RGB)  \n",
    "\n",
    "        cv2.imshow('image', frame)\n",
    "        time.sleep(0.1)\n",
    "    else :\n",
    "        print(\"close\")\n",
    "        cap.release()\n",
    "        # cv2.destroyAllWindows()\n",
    "        break"
   ]
  },
  {
   "cell_type": "code",
   "execution_count": null,
   "metadata": {},
   "outputs": [],
   "source": [
    "if self.file[0][-4:] == '.avi' or self.file[0][-4:] == '.mp4' or self.file[0][-4:] == '.mkv' or self.file[0][-4:] == '.mpg':\n",
    "    play_url = self.file[0]\n",
    "    self.cap = cv2.VideoCapture(play_url)\n",
    "\n",
    "    ret, self.frame = self.cap.read()\n",
    "    if ret:\n",
    "        print(self.cap, ret) \n",
    "        self.frame = cv2.cvtColor(self.frame, cv2.COLOR_BGR2RGB)  \n",
    "\n",
    "        h, w, c, = self.frame.shape\n",
    "        \n",
    "        self.qimage = QImage(self.frame.data, w, h, w*c, QImage.Format_RGB888)\n",
    "\n",
    "        self.pixmap = self.pixmap.fromImage(self.qimage)\n",
    "        self.pixmap = self.pixmap.scaled(self.label.width(), self.label.height())\n",
    "\n",
    "        self.label.setPixmap(self.pixmap)\n",
    "        time.sleep(0.1)\n",
    "    else :\n",
    "        print(\"over\")\n",
    "        self.cap.release()"
   ]
  }
 ],
 "metadata": {
  "kernelspec": {
   "display_name": "opencv_pyqt",
   "language": "python",
   "name": "python3"
  },
  "language_info": {
   "codemirror_mode": {
    "name": "ipython",
    "version": 3
   },
   "file_extension": ".py",
   "mimetype": "text/x-python",
   "name": "python",
   "nbconvert_exporter": "python",
   "pygments_lexer": "ipython3",
   "version": "3.10.12"
  }
 },
 "nbformat": 4,
 "nbformat_minor": 2
}
