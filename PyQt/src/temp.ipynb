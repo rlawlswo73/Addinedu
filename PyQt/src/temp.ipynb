{
 "cells": [
  {
   "cell_type": "code",
   "execution_count": 3,
   "metadata": {},
   "outputs": [
    {
     "name": "stdout",
     "output_type": "stream",
     "text": [
      "가수, 텔런트\n",
      "가수\n",
      "텔런트\n",
      "영화배우, 텔런트\n",
      "MC, 개그맨\n",
      "영화배우, 모델\n",
      "가수\n"
     ]
    },
    {
     "data": {
      "text/plain": [
       "['영화배우, 텔런트', '영화배우, 모델', 'MC, 개그맨', '가수, 텔런트', '가수', '텔런트']"
      ]
     },
     "execution_count": 3,
     "metadata": {},
     "output_type": "execute_result"
    }
   ],
   "source": [
    "import mysql.connector\n",
    "\n",
    "remote = mysql.connector.connect(\n",
    "    host = \"database-1.c3mmsaki87vo.ap-northeast-2.rds.amazonaws.com\",\n",
    "    port = 3306,\n",
    "    user = \"admin\",\n",
    "    password = \"rlawlswo1\",\n",
    "    database = \"amrdb\"\n",
    ")\n",
    "cursor = remote.cursor(buffered=True)\n",
    "\n",
    "sql = \"select * from celeb\"\n",
    "cursor.execute(sql)\n",
    "result = list(cursor.fetchall())\n",
    "\n",
    "duplist = []\n",
    "for idx, i in enumerate(result):\n",
    "    print(result[idx][5])\n",
    "    duplist.append(str(result[idx][5]))\n",
    "\n",
    "duplist = set(duplist)\n",
    "duplist = list(duplist)\n",
    "duplist"
   ]
  },
  {
   "cell_type": "code",
   "execution_count": 4,
   "metadata": {},
   "outputs": [
    {
     "data": {
      "text/plain": [
       "[(1, '아이유', datetime.date(1993, 5, 16), 29, 'F', '가수, 텔런트', 'EDAM엔터테이먼트'),\n",
       " (2, '이미주', datetime.date(1994, 9, 23), 28, 'F', '가수', '울림엔터테이먼트'),\n",
       " (3, '송강', datetime.date(1994, 4, 23), 28, 'M', '텔런트', '나무엑터스'),\n",
       " (4, '강동원', datetime.date(1981, 1, 18), 41, 'M', '영화배우, 텔런트', 'YG엔터테이먼트'),\n",
       " (5, '유재석', datetime.date(1972, 8, 14), 50, 'M', 'MC, 개그맨', '안테나'),\n",
       " (6, '차승원', datetime.date(1970, 6, 7), 48, 'M', '영화배우, 모델', 'YG엔터테이먼트'),\n",
       " (7, '이수현', datetime.date(1999, 5, 4), 23, 'F', '가수', 'YG엔터테이먼트')]"
      ]
     },
     "execution_count": 4,
     "metadata": {},
     "output_type": "execute_result"
    }
   ],
   "source": [
    "result"
   ]
  },
  {
   "cell_type": "code",
   "execution_count": null,
   "metadata": {},
   "outputs": [
    {
     "ename": "IndexError",
     "evalue": "tuple index out of range",
     "output_type": "error",
     "traceback": [
      "\u001b[0;31m---------------------------------------------------------------------------\u001b[0m",
      "\u001b[0;31mIndexError\u001b[0m                                Traceback (most recent call last)",
      "Cell \u001b[0;32mIn[11], line 15\u001b[0m\n\u001b[1;32m     13\u001b[0m cursor\u001b[38;5;241m.\u001b[39mexecute(sql)\n\u001b[1;32m     14\u001b[0m result \u001b[38;5;241m=\u001b[39m \u001b[38;5;28mlist\u001b[39m(cursor\u001b[38;5;241m.\u001b[39mfetchall())\n\u001b[0;32m---> 15\u001b[0m \u001b[43mresult\u001b[49m\u001b[43m[\u001b[49m\u001b[38;5;241;43m0\u001b[39;49m\u001b[43m]\u001b[49m\u001b[43m[\u001b[49m\u001b[38;5;241;43m1\u001b[39;49m\u001b[43m]\u001b[49m\n",
      "\u001b[0;31mIndexError\u001b[0m: tuple index out of range"
     ]
    }
   ],
   "source": [
    "import mysql.connector\n",
    "\n",
    "remote = mysql.connector.connect(\n",
    "    host = \"database-1.c3mmsaki87vo.ap-northeast-2.rds.amazonaws.com\",\n",
    "    port = 3306,\n",
    "    user = \"admin\",\n",
    "    password = \"rlawlswo1\",\n",
    "    database = \"amrdb\"\n",
    ")\n",
    "cursor = remote.cursor(buffered=True)\n",
    "\n",
    "sql = \"select distinct sex from celeb\"\n",
    "cursor.execute(sql)\n",
    "result = list(cursor.fetchall())\n",
    "result[0][0]"
   ]
  },
  {
   "cell_type": "code",
   "execution_count": 20,
   "metadata": {},
   "outputs": [
    {
     "data": {
      "text/plain": [
       "'1999-05-04'"
      ]
     },
     "execution_count": 20,
     "metadata": {},
     "output_type": "execute_result"
    }
   ],
   "source": [
    "sql = \"select distinct birthday from celeb order by birthday asc\"\n",
    "cursor.execute(sql)\n",
    "result = list(cursor.fetchall())\n",
    "end = str(result[-1][0])\n",
    "end "
   ]
  },
  {
   "cell_type": "code",
   "execution_count": null,
   "metadata": {},
   "outputs": [],
   "source": []
  }
 ],
 "metadata": {
  "kernelspec": {
   "display_name": "PyQt",
   "language": "python",
   "name": "python3"
  },
  "language_info": {
   "codemirror_mode": {
    "name": "ipython",
    "version": 3
   },
   "file_extension": ".py",
   "mimetype": "text/x-python",
   "name": "python",
   "nbconvert_exporter": "python",
   "pygments_lexer": "ipython3",
   "version": "3.10.12"
  }
 },
 "nbformat": 4,
 "nbformat_minor": 2
}
