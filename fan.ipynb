{
 "cells": [
  {
   "cell_type": "code",
   "execution_count": 1,
   "metadata": {},
   "outputs": [
    {
     "ename": "ModuleNotFoundError",
     "evalue": "No module named 'gi'",
     "output_type": "error",
     "traceback": [
      "\u001b[0;31m---------------------------------------------------------------------------\u001b[0m",
      "\u001b[0;31mModuleNotFoundError\u001b[0m                       Traceback (most recent call last)",
      "Cell \u001b[0;32mIn[1], line 3\u001b[0m\n\u001b[1;32m      1\u001b[0m \u001b[38;5;28;01mimport\u001b[39;00m \u001b[38;5;21;01mos\u001b[39;00m\n\u001b[1;32m      2\u001b[0m \u001b[38;5;28;01mimport\u001b[39;00m \u001b[38;5;21;01msignal\u001b[39;00m\n\u001b[0;32m----> 3\u001b[0m \u001b[38;5;28;01mimport\u001b[39;00m \u001b[38;5;21;01mgi\u001b[39;00m\n\u001b[1;32m      5\u001b[0m gi\u001b[38;5;241m.\u001b[39mrequire_version(\u001b[38;5;124m\"\u001b[39m\u001b[38;5;124mAppIndicator3\u001b[39m\u001b[38;5;124m\"\u001b[39m, \u001b[38;5;124m\"\u001b[39m\u001b[38;5;124m0.1\u001b[39m\u001b[38;5;124m\"\u001b[39m)\n\u001b[1;32m      6\u001b[0m \u001b[38;5;28;01mfrom\u001b[39;00m \u001b[38;5;21;01mgi\u001b[39;00m\u001b[38;5;21;01m.\u001b[39;00m\u001b[38;5;21;01mrepository\u001b[39;00m \u001b[38;5;28;01mimport\u001b[39;00m AppIndicator3, Gtk\n",
      "\u001b[0;31mModuleNotFoundError\u001b[0m: No module named 'gi'"
     ]
    }
   ],
   "source": [
    "import os\n",
    "import signal\n",
    "import gi\n",
    "\n",
    "gi.require_version(\"AppIndicator3\", \"0.1\")\n",
    "from gi.repository import AppIndicator3, Gtk\n",
    "\n",
    "# Fan speed setting function\n",
    "def set_fan_speed(speed):\n",
    "    pwm_path = \"/sys/class/hwmon/hwmon0/pwm1\"\n",
    "    try:\n",
    "        with open(pwm_path, \"w\") as pwm:\n",
    "            pwm.write(str(speed))\n",
    "    except PermissionError:\n",
    "        print(\"Run the script with root privileges!\")\n",
    "\n",
    "# Quit application\n",
    "def quit_app(_):\n",
    "    Gtk.main_quit()\n",
    "\n",
    "# Create a menu\n",
    "def create_menu():\n",
    "    menu = Gtk.Menu()\n",
    "\n",
    "    # Fan speed options\n",
    "    speeds = [(\"Low\", 50), (\"Medium\", 128), (\"High\", 255)]\n",
    "    for label, value in speeds:\n",
    "        item = Gtk.MenuItem(label=label)\n",
    "        item.connect(\"activate\", lambda _, v=value: set_fan_speed(v))\n",
    "        menu.append(item)\n",
    "\n",
    "    # Quit option\n",
    "    quit_item = Gtk.MenuItem(label=\"Quit\")\n",
    "    quit_item.connect(\"activate\", quit_app)\n",
    "    menu.append(quit_item)\n",
    "\n",
    "    menu.show_all()\n",
    "    return menu\n",
    "\n",
    "# Create the AppIndicator\n",
    "indicator = AppIndicator3.Indicator.new(\n",
    "    \"Fan Control\",\n",
    "    \"indicator-messages\",  # You can replace this with an icon name\n",
    "    AppIndicator3.IndicatorCategory.APPLICATION_STATUS\n",
    ")\n",
    "indicator.set_status(AppIndicator3.IndicatorStatus.ACTIVE)\n",
    "indicator.set_menu(create_menu())\n",
    "\n",
    "# Run the GTK main loop\n",
    "signal.signal(signal.SIGINT, signal.SIG_DFL)  # Handle Ctrl+C\n",
    "Gtk.main()\n"
   ]
  },
  {
   "cell_type": "code",
   "execution_count": null,
   "metadata": {},
   "outputs": [],
   "source": []
  }
 ],
 "metadata": {
  "kernelspec": {
   "display_name": "yolov8",
   "language": "python",
   "name": "python3"
  },
  "language_info": {
   "codemirror_mode": {
    "name": "ipython",
    "version": 3
   },
   "file_extension": ".py",
   "mimetype": "text/x-python",
   "name": "python",
   "nbconvert_exporter": "python",
   "pygments_lexer": "ipython3",
   "version": "3.10.12"
  }
 },
 "nbformat": 4,
 "nbformat_minor": 2
}
